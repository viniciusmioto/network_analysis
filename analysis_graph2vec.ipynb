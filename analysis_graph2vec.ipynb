{
 "cells": [
  {
   "cell_type": "code",
   "execution_count": 1,
   "id": "2d2b3893-4ecd-42e3-bfeb-ebefe90917e2",
   "metadata": {},
   "outputs": [],
   "source": [
    "import pandas as pd\n",
    "import networkx as nx\n",
    "import matplotlib.pyplot as plt\n",
    "import statistics as sts\n",
    "import numpy as np\n",
    "import seaborn as sns\n",
    "import pickle\n",
    "from sklearn import preprocessing\n",
    "from sklearn.datasets import load_svmlight_file\n",
    "from sklearn.metrics import confusion_matrix\n",
    "from sklearn.svm import SVC\n",
    "from sklearn.neighbors import KNeighborsClassifier\n",
    "from sklearn.ensemble import GradientBoostingClassifier, RandomForestClassifier\n",
    "from sklearn.model_selection import cross_val_score, train_test_split, GridSearchCV\n",
    "%matplotlib inline"
   ]
  },
  {
   "cell_type": "code",
   "execution_count": 2,
   "id": "6dbd6fd9-2eb5-428c-9ce5-de9ff5f863c4",
   "metadata": {},
   "outputs": [],
   "source": [
    "def plot_confusion_matrix(matrix):\n",
    "    group_names = ['True Neg','False Pos','False Neg','True Pos']\n",
    "    group_counts = [\"{0:0.0f}\".format(value) for value in\n",
    "                    matrix.flatten()]\n",
    "    \n",
    "    group_percentages = [\"{0:.2%}\".format(value) for value in\n",
    "                         matrix.flatten()/np.sum(matrix)]\n",
    "    \n",
    "    labels = [f\"{v1}\\n{v2}\\n{v3}\" for v1, v2, v3 in\n",
    "              zip(group_names, group_counts, group_percentages)]\n",
    "    \n",
    "    labels = np.asarray(labels).reshape(2,2)\n",
    "    sns.heatmap(matrix, annot=labels, fmt='', cmap='Blues')\n",
    "    plt.show()"
   ]
  },
  {
   "cell_type": "code",
   "execution_count": 3,
   "id": "bb9a66dc-8518-4e1c-ab8e-710a016a9dbb",
   "metadata": {},
   "outputs": [],
   "source": [
    "data_file = \"\"\"./data/DB_embedding.txt\"\"\""
   ]
  },
  {
   "cell_type": "code",
   "execution_count": 4,
   "id": "4e7bc881-ac74-447f-8803-34378ce30deb",
   "metadata": {},
   "outputs": [],
   "source": [
    "with open(data_file, mode=\"r\") as fp:\n",
    "    svmformat_list = fp.read().splitlines()\n",
    "\n",
    "# For each line we save the key:values to a dict\n",
    "pandas_label_list = []\n",
    "pandas_feature_list = []\n",
    "for line in svmformat_list:\n",
    "    feature_dict = {}\n",
    "\n",
    "    items = line.split()\n",
    "    pandas_label_list.append({'label': items[0]})\n",
    "\n",
    "    for pair in items[1:]:\n",
    "        feature_name, count = pair.split(':')\n",
    "        feature_dict[feature_name] = float(count)\n",
    "\n",
    "    pandas_feature_list.append(feature_dict)"
   ]
  },
  {
   "cell_type": "code",
   "execution_count": 5,
   "id": "11acab6b-d01b-42ce-9b03-f728ec95e294",
   "metadata": {},
   "outputs": [
    {
     "data": {
      "text/html": [
       "<div>\n",
       "<style scoped>\n",
       "    .dataframe tbody tr th:only-of-type {\n",
       "        vertical-align: middle;\n",
       "    }\n",
       "\n",
       "    .dataframe tbody tr th {\n",
       "        vertical-align: top;\n",
       "    }\n",
       "\n",
       "    .dataframe thead th {\n",
       "        text-align: right;\n",
       "    }\n",
       "</style>\n",
       "<table border=\"1\" class=\"dataframe\">\n",
       "  <thead>\n",
       "    <tr style=\"text-align: right;\">\n",
       "      <th></th>\n",
       "      <th>1</th>\n",
       "      <th>2</th>\n",
       "      <th>3</th>\n",
       "      <th>4</th>\n",
       "      <th>5</th>\n",
       "      <th>6</th>\n",
       "      <th>7</th>\n",
       "      <th>8</th>\n",
       "      <th>9</th>\n",
       "      <th>10</th>\n",
       "      <th>...</th>\n",
       "      <th>119</th>\n",
       "      <th>120</th>\n",
       "      <th>121</th>\n",
       "      <th>122</th>\n",
       "      <th>123</th>\n",
       "      <th>124</th>\n",
       "      <th>125</th>\n",
       "      <th>126</th>\n",
       "      <th>127</th>\n",
       "      <th>128</th>\n",
       "    </tr>\n",
       "  </thead>\n",
       "  <tbody>\n",
       "    <tr>\n",
       "      <th>0</th>\n",
       "      <td>0.283226</td>\n",
       "      <td>-1.555381</td>\n",
       "      <td>-0.121139</td>\n",
       "      <td>0.220456</td>\n",
       "      <td>0.116647</td>\n",
       "      <td>-0.678064</td>\n",
       "      <td>1.872659</td>\n",
       "      <td>-0.676502</td>\n",
       "      <td>0.178234</td>\n",
       "      <td>1.801286</td>\n",
       "      <td>...</td>\n",
       "      <td>0.403087</td>\n",
       "      <td>-1.153790</td>\n",
       "      <td>1.209732</td>\n",
       "      <td>1.552829</td>\n",
       "      <td>-1.949741</td>\n",
       "      <td>2.080611</td>\n",
       "      <td>-0.703734</td>\n",
       "      <td>-1.996018</td>\n",
       "      <td>0.042010</td>\n",
       "      <td>0.412546</td>\n",
       "    </tr>\n",
       "    <tr>\n",
       "      <th>1</th>\n",
       "      <td>0.584198</td>\n",
       "      <td>-2.017837</td>\n",
       "      <td>0.498199</td>\n",
       "      <td>0.585044</td>\n",
       "      <td>0.943714</td>\n",
       "      <td>-0.814021</td>\n",
       "      <td>1.755427</td>\n",
       "      <td>-0.913293</td>\n",
       "      <td>0.779892</td>\n",
       "      <td>2.043380</td>\n",
       "      <td>...</td>\n",
       "      <td>0.256274</td>\n",
       "      <td>-0.387191</td>\n",
       "      <td>1.152594</td>\n",
       "      <td>1.334567</td>\n",
       "      <td>-2.393117</td>\n",
       "      <td>1.934806</td>\n",
       "      <td>-0.359636</td>\n",
       "      <td>-1.504011</td>\n",
       "      <td>-0.316761</td>\n",
       "      <td>0.316515</td>\n",
       "    </tr>\n",
       "    <tr>\n",
       "      <th>2</th>\n",
       "      <td>0.227998</td>\n",
       "      <td>-1.827693</td>\n",
       "      <td>0.342926</td>\n",
       "      <td>-0.027439</td>\n",
       "      <td>0.322606</td>\n",
       "      <td>-0.945044</td>\n",
       "      <td>2.034954</td>\n",
       "      <td>-0.301611</td>\n",
       "      <td>0.115928</td>\n",
       "      <td>1.966895</td>\n",
       "      <td>...</td>\n",
       "      <td>0.317950</td>\n",
       "      <td>-0.705648</td>\n",
       "      <td>0.859727</td>\n",
       "      <td>1.433414</td>\n",
       "      <td>-2.040526</td>\n",
       "      <td>2.069890</td>\n",
       "      <td>-0.251924</td>\n",
       "      <td>-1.293017</td>\n",
       "      <td>-0.456093</td>\n",
       "      <td>0.259323</td>\n",
       "    </tr>\n",
       "    <tr>\n",
       "      <th>3</th>\n",
       "      <td>0.436618</td>\n",
       "      <td>-2.292978</td>\n",
       "      <td>1.078695</td>\n",
       "      <td>0.448068</td>\n",
       "      <td>0.685444</td>\n",
       "      <td>-0.804678</td>\n",
       "      <td>1.734705</td>\n",
       "      <td>-0.684630</td>\n",
       "      <td>0.659137</td>\n",
       "      <td>2.104952</td>\n",
       "      <td>...</td>\n",
       "      <td>0.677575</td>\n",
       "      <td>-0.325053</td>\n",
       "      <td>1.330803</td>\n",
       "      <td>1.507303</td>\n",
       "      <td>-2.228408</td>\n",
       "      <td>1.818803</td>\n",
       "      <td>-0.450448</td>\n",
       "      <td>-1.572716</td>\n",
       "      <td>-0.381192</td>\n",
       "      <td>0.253463</td>\n",
       "    </tr>\n",
       "    <tr>\n",
       "      <th>4</th>\n",
       "      <td>0.139282</td>\n",
       "      <td>-1.680774</td>\n",
       "      <td>0.297711</td>\n",
       "      <td>-0.244004</td>\n",
       "      <td>0.465433</td>\n",
       "      <td>-1.256472</td>\n",
       "      <td>1.694093</td>\n",
       "      <td>-0.637881</td>\n",
       "      <td>0.695574</td>\n",
       "      <td>1.553462</td>\n",
       "      <td>...</td>\n",
       "      <td>0.784393</td>\n",
       "      <td>-0.569995</td>\n",
       "      <td>1.444263</td>\n",
       "      <td>0.859837</td>\n",
       "      <td>-2.665625</td>\n",
       "      <td>2.110024</td>\n",
       "      <td>-0.738972</td>\n",
       "      <td>-1.627746</td>\n",
       "      <td>0.275809</td>\n",
       "      <td>0.143727</td>\n",
       "    </tr>\n",
       "    <tr>\n",
       "      <th>...</th>\n",
       "      <td>...</td>\n",
       "      <td>...</td>\n",
       "      <td>...</td>\n",
       "      <td>...</td>\n",
       "      <td>...</td>\n",
       "      <td>...</td>\n",
       "      <td>...</td>\n",
       "      <td>...</td>\n",
       "      <td>...</td>\n",
       "      <td>...</td>\n",
       "      <td>...</td>\n",
       "      <td>...</td>\n",
       "      <td>...</td>\n",
       "      <td>...</td>\n",
       "      <td>...</td>\n",
       "      <td>...</td>\n",
       "      <td>...</td>\n",
       "      <td>...</td>\n",
       "      <td>...</td>\n",
       "      <td>...</td>\n",
       "      <td>...</td>\n",
       "    </tr>\n",
       "    <tr>\n",
       "      <th>3140</th>\n",
       "      <td>0.455863</td>\n",
       "      <td>-2.001677</td>\n",
       "      <td>1.016494</td>\n",
       "      <td>0.194690</td>\n",
       "      <td>-0.005158</td>\n",
       "      <td>-0.924914</td>\n",
       "      <td>1.487846</td>\n",
       "      <td>-0.032536</td>\n",
       "      <td>0.125762</td>\n",
       "      <td>2.474500</td>\n",
       "      <td>...</td>\n",
       "      <td>0.399112</td>\n",
       "      <td>-0.025740</td>\n",
       "      <td>1.312783</td>\n",
       "      <td>0.568837</td>\n",
       "      <td>-2.257881</td>\n",
       "      <td>1.852985</td>\n",
       "      <td>-0.456204</td>\n",
       "      <td>-1.287985</td>\n",
       "      <td>-0.575043</td>\n",
       "      <td>-0.222391</td>\n",
       "    </tr>\n",
       "    <tr>\n",
       "      <th>3141</th>\n",
       "      <td>0.578533</td>\n",
       "      <td>-1.731533</td>\n",
       "      <td>0.523502</td>\n",
       "      <td>0.052164</td>\n",
       "      <td>0.222150</td>\n",
       "      <td>-0.961003</td>\n",
       "      <td>1.766039</td>\n",
       "      <td>-0.458939</td>\n",
       "      <td>0.247214</td>\n",
       "      <td>1.855681</td>\n",
       "      <td>...</td>\n",
       "      <td>0.527288</td>\n",
       "      <td>-0.301173</td>\n",
       "      <td>1.141326</td>\n",
       "      <td>1.099677</td>\n",
       "      <td>-2.488583</td>\n",
       "      <td>2.224497</td>\n",
       "      <td>-0.861022</td>\n",
       "      <td>-1.671301</td>\n",
       "      <td>-0.316974</td>\n",
       "      <td>0.063697</td>\n",
       "    </tr>\n",
       "    <tr>\n",
       "      <th>3142</th>\n",
       "      <td>0.310157</td>\n",
       "      <td>-1.926607</td>\n",
       "      <td>0.846889</td>\n",
       "      <td>-0.382715</td>\n",
       "      <td>0.193197</td>\n",
       "      <td>-0.600982</td>\n",
       "      <td>1.536407</td>\n",
       "      <td>-0.395457</td>\n",
       "      <td>0.225591</td>\n",
       "      <td>2.207969</td>\n",
       "      <td>...</td>\n",
       "      <td>0.234120</td>\n",
       "      <td>-0.437256</td>\n",
       "      <td>1.536794</td>\n",
       "      <td>1.152876</td>\n",
       "      <td>-2.283266</td>\n",
       "      <td>2.154005</td>\n",
       "      <td>-0.694201</td>\n",
       "      <td>-1.646444</td>\n",
       "      <td>-0.022879</td>\n",
       "      <td>0.208186</td>\n",
       "    </tr>\n",
       "    <tr>\n",
       "      <th>3143</th>\n",
       "      <td>0.396395</td>\n",
       "      <td>-1.928405</td>\n",
       "      <td>1.491448</td>\n",
       "      <td>-0.194362</td>\n",
       "      <td>0.022993</td>\n",
       "      <td>-1.402660</td>\n",
       "      <td>1.599448</td>\n",
       "      <td>-0.234249</td>\n",
       "      <td>0.733503</td>\n",
       "      <td>1.759671</td>\n",
       "      <td>...</td>\n",
       "      <td>0.330882</td>\n",
       "      <td>0.225521</td>\n",
       "      <td>1.363168</td>\n",
       "      <td>1.119917</td>\n",
       "      <td>-2.062996</td>\n",
       "      <td>1.513458</td>\n",
       "      <td>-0.843459</td>\n",
       "      <td>-0.926409</td>\n",
       "      <td>-0.936180</td>\n",
       "      <td>-0.518183</td>\n",
       "    </tr>\n",
       "    <tr>\n",
       "      <th>3144</th>\n",
       "      <td>0.095781</td>\n",
       "      <td>-2.191148</td>\n",
       "      <td>1.020800</td>\n",
       "      <td>-0.170012</td>\n",
       "      <td>0.105902</td>\n",
       "      <td>-1.023278</td>\n",
       "      <td>1.173846</td>\n",
       "      <td>-0.349836</td>\n",
       "      <td>0.100371</td>\n",
       "      <td>2.313544</td>\n",
       "      <td>...</td>\n",
       "      <td>0.563960</td>\n",
       "      <td>-0.039575</td>\n",
       "      <td>1.200981</td>\n",
       "      <td>1.369498</td>\n",
       "      <td>-2.278192</td>\n",
       "      <td>1.868816</td>\n",
       "      <td>-0.393315</td>\n",
       "      <td>-1.279726</td>\n",
       "      <td>-0.589271</td>\n",
       "      <td>-0.124174</td>\n",
       "    </tr>\n",
       "  </tbody>\n",
       "</table>\n",
       "<p>3145 rows × 128 columns</p>\n",
       "</div>"
      ],
      "text/plain": [
       "             1         2         3         4         5         6         7  \\\n",
       "0     0.283226 -1.555381 -0.121139  0.220456  0.116647 -0.678064  1.872659   \n",
       "1     0.584198 -2.017837  0.498199  0.585044  0.943714 -0.814021  1.755427   \n",
       "2     0.227998 -1.827693  0.342926 -0.027439  0.322606 -0.945044  2.034954   \n",
       "3     0.436618 -2.292978  1.078695  0.448068  0.685444 -0.804678  1.734705   \n",
       "4     0.139282 -1.680774  0.297711 -0.244004  0.465433 -1.256472  1.694093   \n",
       "...        ...       ...       ...       ...       ...       ...       ...   \n",
       "3140  0.455863 -2.001677  1.016494  0.194690 -0.005158 -0.924914  1.487846   \n",
       "3141  0.578533 -1.731533  0.523502  0.052164  0.222150 -0.961003  1.766039   \n",
       "3142  0.310157 -1.926607  0.846889 -0.382715  0.193197 -0.600982  1.536407   \n",
       "3143  0.396395 -1.928405  1.491448 -0.194362  0.022993 -1.402660  1.599448   \n",
       "3144  0.095781 -2.191148  1.020800 -0.170012  0.105902 -1.023278  1.173846   \n",
       "\n",
       "             8         9        10  ...       119       120       121  \\\n",
       "0    -0.676502  0.178234  1.801286  ...  0.403087 -1.153790  1.209732   \n",
       "1    -0.913293  0.779892  2.043380  ...  0.256274 -0.387191  1.152594   \n",
       "2    -0.301611  0.115928  1.966895  ...  0.317950 -0.705648  0.859727   \n",
       "3    -0.684630  0.659137  2.104952  ...  0.677575 -0.325053  1.330803   \n",
       "4    -0.637881  0.695574  1.553462  ...  0.784393 -0.569995  1.444263   \n",
       "...        ...       ...       ...  ...       ...       ...       ...   \n",
       "3140 -0.032536  0.125762  2.474500  ...  0.399112 -0.025740  1.312783   \n",
       "3141 -0.458939  0.247214  1.855681  ...  0.527288 -0.301173  1.141326   \n",
       "3142 -0.395457  0.225591  2.207969  ...  0.234120 -0.437256  1.536794   \n",
       "3143 -0.234249  0.733503  1.759671  ...  0.330882  0.225521  1.363168   \n",
       "3144 -0.349836  0.100371  2.313544  ...  0.563960 -0.039575  1.200981   \n",
       "\n",
       "           122       123       124       125       126       127       128  \n",
       "0     1.552829 -1.949741  2.080611 -0.703734 -1.996018  0.042010  0.412546  \n",
       "1     1.334567 -2.393117  1.934806 -0.359636 -1.504011 -0.316761  0.316515  \n",
       "2     1.433414 -2.040526  2.069890 -0.251924 -1.293017 -0.456093  0.259323  \n",
       "3     1.507303 -2.228408  1.818803 -0.450448 -1.572716 -0.381192  0.253463  \n",
       "4     0.859837 -2.665625  2.110024 -0.738972 -1.627746  0.275809  0.143727  \n",
       "...        ...       ...       ...       ...       ...       ...       ...  \n",
       "3140  0.568837 -2.257881  1.852985 -0.456204 -1.287985 -0.575043 -0.222391  \n",
       "3141  1.099677 -2.488583  2.224497 -0.861022 -1.671301 -0.316974  0.063697  \n",
       "3142  1.152876 -2.283266  2.154005 -0.694201 -1.646444 -0.022879  0.208186  \n",
       "3143  1.119917 -2.062996  1.513458 -0.843459 -0.926409 -0.936180 -0.518183  \n",
       "3144  1.369498 -2.278192  1.868816 -0.393315 -1.279726 -0.589271 -0.124174  \n",
       "\n",
       "[3145 rows x 128 columns]"
      ]
     },
     "execution_count": 5,
     "metadata": {},
     "output_type": "execute_result"
    }
   ],
   "source": [
    "features_df = pd.DataFrame(pandas_feature_list)\n",
    "features_df"
   ]
  },
  {
   "cell_type": "code",
   "execution_count": 6,
   "id": "ae45d182-7e79-40ef-b959-4f29fb6b8a64",
   "metadata": {},
   "outputs": [
    {
     "data": {
      "text/html": [
       "<div>\n",
       "<style scoped>\n",
       "    .dataframe tbody tr th:only-of-type {\n",
       "        vertical-align: middle;\n",
       "    }\n",
       "\n",
       "    .dataframe tbody tr th {\n",
       "        vertical-align: top;\n",
       "    }\n",
       "\n",
       "    .dataframe thead th {\n",
       "        text-align: right;\n",
       "    }\n",
       "</style>\n",
       "<table border=\"1\" class=\"dataframe\">\n",
       "  <thead>\n",
       "    <tr style=\"text-align: right;\">\n",
       "      <th></th>\n",
       "      <th>label</th>\n",
       "    </tr>\n",
       "  </thead>\n",
       "  <tbody>\n",
       "    <tr>\n",
       "      <th>0</th>\n",
       "      <td>1</td>\n",
       "    </tr>\n",
       "    <tr>\n",
       "      <th>1</th>\n",
       "      <td>1</td>\n",
       "    </tr>\n",
       "    <tr>\n",
       "      <th>2</th>\n",
       "      <td>1</td>\n",
       "    </tr>\n",
       "    <tr>\n",
       "      <th>3</th>\n",
       "      <td>1</td>\n",
       "    </tr>\n",
       "    <tr>\n",
       "      <th>4</th>\n",
       "      <td>1</td>\n",
       "    </tr>\n",
       "    <tr>\n",
       "      <th>...</th>\n",
       "      <td>...</td>\n",
       "    </tr>\n",
       "    <tr>\n",
       "      <th>3140</th>\n",
       "      <td>0</td>\n",
       "    </tr>\n",
       "    <tr>\n",
       "      <th>3141</th>\n",
       "      <td>0</td>\n",
       "    </tr>\n",
       "    <tr>\n",
       "      <th>3142</th>\n",
       "      <td>0</td>\n",
       "    </tr>\n",
       "    <tr>\n",
       "      <th>3143</th>\n",
       "      <td>0</td>\n",
       "    </tr>\n",
       "    <tr>\n",
       "      <th>3144</th>\n",
       "      <td>0</td>\n",
       "    </tr>\n",
       "  </tbody>\n",
       "</table>\n",
       "<p>3145 rows × 1 columns</p>\n",
       "</div>"
      ],
      "text/plain": [
       "     label\n",
       "0        1\n",
       "1        1\n",
       "2        1\n",
       "3        1\n",
       "4        1\n",
       "...    ...\n",
       "3140     0\n",
       "3141     0\n",
       "3142     0\n",
       "3143     0\n",
       "3144     0\n",
       "\n",
       "[3145 rows x 1 columns]"
      ]
     },
     "execution_count": 6,
     "metadata": {},
     "output_type": "execute_result"
    }
   ],
   "source": [
    "labels_df = pd.DataFrame(pandas_label_list)\n",
    "labels_df"
   ]
  },
  {
   "cell_type": "code",
   "execution_count": 7,
   "id": "976ac045-aeac-43d1-a1d6-337fb9b975cd",
   "metadata": {},
   "outputs": [],
   "source": [
    "scaler = preprocessing.MinMaxScaler()\n",
    "min_max_scaler = preprocessing.MinMaxScaler()"
   ]
  },
  {
   "cell_type": "code",
   "execution_count": 8,
   "id": "99ea0f71-afad-45ae-925a-89b4dbaeaea2",
   "metadata": {},
   "outputs": [],
   "source": [
    "def scaleColumns(df, cols_to_scale):\n",
    "    for col in cols_to_scale:\n",
    "        df[col] = pd.DataFrame(min_max_scaler.fit_transform(pd.DataFrame(features_df[col])),columns=[col])\n",
    "    return df"
   ]
  },
  {
   "cell_type": "code",
   "execution_count": 9,
   "id": "73281d76-1960-4414-a57c-7fbd4b7df584",
   "metadata": {},
   "outputs": [
    {
     "data": {
      "text/html": [
       "<div>\n",
       "<style scoped>\n",
       "    .dataframe tbody tr th:only-of-type {\n",
       "        vertical-align: middle;\n",
       "    }\n",
       "\n",
       "    .dataframe tbody tr th {\n",
       "        vertical-align: top;\n",
       "    }\n",
       "\n",
       "    .dataframe thead th {\n",
       "        text-align: right;\n",
       "    }\n",
       "</style>\n",
       "<table border=\"1\" class=\"dataframe\">\n",
       "  <thead>\n",
       "    <tr style=\"text-align: right;\">\n",
       "      <th></th>\n",
       "      <th>1</th>\n",
       "      <th>2</th>\n",
       "      <th>3</th>\n",
       "      <th>4</th>\n",
       "      <th>5</th>\n",
       "      <th>6</th>\n",
       "      <th>7</th>\n",
       "      <th>8</th>\n",
       "      <th>9</th>\n",
       "      <th>10</th>\n",
       "      <th>...</th>\n",
       "      <th>119</th>\n",
       "      <th>120</th>\n",
       "      <th>121</th>\n",
       "      <th>122</th>\n",
       "      <th>123</th>\n",
       "      <th>124</th>\n",
       "      <th>125</th>\n",
       "      <th>126</th>\n",
       "      <th>127</th>\n",
       "      <th>128</th>\n",
       "    </tr>\n",
       "  </thead>\n",
       "  <tbody>\n",
       "    <tr>\n",
       "      <th>0</th>\n",
       "      <td>0.331618</td>\n",
       "      <td>0.496103</td>\n",
       "      <td>0.213934</td>\n",
       "      <td>0.590503</td>\n",
       "      <td>0.361985</td>\n",
       "      <td>0.627860</td>\n",
       "      <td>0.657142</td>\n",
       "      <td>0.406807</td>\n",
       "      <td>0.464668</td>\n",
       "      <td>0.496052</td>\n",
       "      <td>...</td>\n",
       "      <td>0.387825</td>\n",
       "      <td>0.185333</td>\n",
       "      <td>0.562787</td>\n",
       "      <td>0.620696</td>\n",
       "      <td>0.573171</td>\n",
       "      <td>0.681013</td>\n",
       "      <td>0.391714</td>\n",
       "      <td>0.265092</td>\n",
       "      <td>0.606329</td>\n",
       "      <td>0.653331</td>\n",
       "    </tr>\n",
       "    <tr>\n",
       "      <th>1</th>\n",
       "      <td>0.465995</td>\n",
       "      <td>0.288086</td>\n",
       "      <td>0.404061</td>\n",
       "      <td>0.773123</td>\n",
       "      <td>0.790639</td>\n",
       "      <td>0.551406</td>\n",
       "      <td>0.604358</td>\n",
       "      <td>0.274315</td>\n",
       "      <td>0.756718</td>\n",
       "      <td>0.575063</td>\n",
       "      <td>...</td>\n",
       "      <td>0.316513</td>\n",
       "      <td>0.472322</td>\n",
       "      <td>0.535697</td>\n",
       "      <td>0.510438</td>\n",
       "      <td>0.344678</td>\n",
       "      <td>0.606270</td>\n",
       "      <td>0.546080</td>\n",
       "      <td>0.429619</td>\n",
       "      <td>0.463232</td>\n",
       "      <td>0.616383</td>\n",
       "    </tr>\n",
       "    <tr>\n",
       "      <th>2</th>\n",
       "      <td>0.306961</td>\n",
       "      <td>0.373614</td>\n",
       "      <td>0.356394</td>\n",
       "      <td>0.466334</td>\n",
       "      <td>0.468730</td>\n",
       "      <td>0.477727</td>\n",
       "      <td>0.730217</td>\n",
       "      <td>0.616571</td>\n",
       "      <td>0.434424</td>\n",
       "      <td>0.550101</td>\n",
       "      <td>...</td>\n",
       "      <td>0.346471</td>\n",
       "      <td>0.353103</td>\n",
       "      <td>0.396844</td>\n",
       "      <td>0.560372</td>\n",
       "      <td>0.526385</td>\n",
       "      <td>0.675517</td>\n",
       "      <td>0.594401</td>\n",
       "      <td>0.500175</td>\n",
       "      <td>0.407659</td>\n",
       "      <td>0.594378</td>\n",
       "    </tr>\n",
       "    <tr>\n",
       "      <th>3</th>\n",
       "      <td>0.400104</td>\n",
       "      <td>0.164325</td>\n",
       "      <td>0.582264</td>\n",
       "      <td>0.704513</td>\n",
       "      <td>0.656782</td>\n",
       "      <td>0.556660</td>\n",
       "      <td>0.595028</td>\n",
       "      <td>0.402259</td>\n",
       "      <td>0.698103</td>\n",
       "      <td>0.595158</td>\n",
       "      <td>...</td>\n",
       "      <td>0.521153</td>\n",
       "      <td>0.495585</td>\n",
       "      <td>0.620189</td>\n",
       "      <td>0.597698</td>\n",
       "      <td>0.429561</td>\n",
       "      <td>0.546803</td>\n",
       "      <td>0.505341</td>\n",
       "      <td>0.406643</td>\n",
       "      <td>0.437534</td>\n",
       "      <td>0.592123</td>\n",
       "    </tr>\n",
       "    <tr>\n",
       "      <th>4</th>\n",
       "      <td>0.267351</td>\n",
       "      <td>0.439700</td>\n",
       "      <td>0.342514</td>\n",
       "      <td>0.357858</td>\n",
       "      <td>0.542755</td>\n",
       "      <td>0.302598</td>\n",
       "      <td>0.576742</td>\n",
       "      <td>0.428417</td>\n",
       "      <td>0.715790</td>\n",
       "      <td>0.415171</td>\n",
       "      <td>...</td>\n",
       "      <td>0.573038</td>\n",
       "      <td>0.403887</td>\n",
       "      <td>0.673982</td>\n",
       "      <td>0.270624</td>\n",
       "      <td>0.204242</td>\n",
       "      <td>0.696092</td>\n",
       "      <td>0.375906</td>\n",
       "      <td>0.388241</td>\n",
       "      <td>0.699580</td>\n",
       "      <td>0.549901</td>\n",
       "    </tr>\n",
       "    <tr>\n",
       "      <th>...</th>\n",
       "      <td>...</td>\n",
       "      <td>...</td>\n",
       "      <td>...</td>\n",
       "      <td>...</td>\n",
       "      <td>...</td>\n",
       "      <td>...</td>\n",
       "      <td>...</td>\n",
       "      <td>...</td>\n",
       "      <td>...</td>\n",
       "      <td>...</td>\n",
       "      <td>...</td>\n",
       "      <td>...</td>\n",
       "      <td>...</td>\n",
       "      <td>...</td>\n",
       "      <td>...</td>\n",
       "      <td>...</td>\n",
       "      <td>...</td>\n",
       "      <td>...</td>\n",
       "      <td>...</td>\n",
       "      <td>...</td>\n",
       "      <td>...</td>\n",
       "    </tr>\n",
       "    <tr>\n",
       "      <th>3140</th>\n",
       "      <td>0.408696</td>\n",
       "      <td>0.295355</td>\n",
       "      <td>0.563169</td>\n",
       "      <td>0.577597</td>\n",
       "      <td>0.298856</td>\n",
       "      <td>0.489046</td>\n",
       "      <td>0.483878</td>\n",
       "      <td>0.767127</td>\n",
       "      <td>0.439197</td>\n",
       "      <td>0.715765</td>\n",
       "      <td>...</td>\n",
       "      <td>0.385894</td>\n",
       "      <td>0.607638</td>\n",
       "      <td>0.611645</td>\n",
       "      <td>0.123622</td>\n",
       "      <td>0.414372</td>\n",
       "      <td>0.564326</td>\n",
       "      <td>0.502759</td>\n",
       "      <td>0.501857</td>\n",
       "      <td>0.360216</td>\n",
       "      <td>0.409034</td>\n",
       "    </tr>\n",
       "    <tr>\n",
       "      <th>3141</th>\n",
       "      <td>0.463466</td>\n",
       "      <td>0.416868</td>\n",
       "      <td>0.411828</td>\n",
       "      <td>0.506207</td>\n",
       "      <td>0.416665</td>\n",
       "      <td>0.468752</td>\n",
       "      <td>0.609136</td>\n",
       "      <td>0.528540</td>\n",
       "      <td>0.498151</td>\n",
       "      <td>0.513805</td>\n",
       "      <td>...</td>\n",
       "      <td>0.448154</td>\n",
       "      <td>0.504524</td>\n",
       "      <td>0.530355</td>\n",
       "      <td>0.391781</td>\n",
       "      <td>0.295480</td>\n",
       "      <td>0.754774</td>\n",
       "      <td>0.321153</td>\n",
       "      <td>0.373677</td>\n",
       "      <td>0.463147</td>\n",
       "      <td>0.519109</td>\n",
       "    </tr>\n",
       "    <tr>\n",
       "      <th>3142</th>\n",
       "      <td>0.343643</td>\n",
       "      <td>0.329122</td>\n",
       "      <td>0.511103</td>\n",
       "      <td>0.288379</td>\n",
       "      <td>0.401659</td>\n",
       "      <td>0.671206</td>\n",
       "      <td>0.505743</td>\n",
       "      <td>0.564061</td>\n",
       "      <td>0.487655</td>\n",
       "      <td>0.628779</td>\n",
       "      <td>...</td>\n",
       "      <td>0.305752</td>\n",
       "      <td>0.453580</td>\n",
       "      <td>0.717852</td>\n",
       "      <td>0.418655</td>\n",
       "      <td>0.401290</td>\n",
       "      <td>0.718637</td>\n",
       "      <td>0.395991</td>\n",
       "      <td>0.381989</td>\n",
       "      <td>0.580448</td>\n",
       "      <td>0.574702</td>\n",
       "    </tr>\n",
       "    <tr>\n",
       "      <th>3143</th>\n",
       "      <td>0.382145</td>\n",
       "      <td>0.328313</td>\n",
       "      <td>0.708972</td>\n",
       "      <td>0.382724</td>\n",
       "      <td>0.313446</td>\n",
       "      <td>0.220391</td>\n",
       "      <td>0.534128</td>\n",
       "      <td>0.654262</td>\n",
       "      <td>0.734201</td>\n",
       "      <td>0.482470</td>\n",
       "      <td>...</td>\n",
       "      <td>0.352753</td>\n",
       "      <td>0.701701</td>\n",
       "      <td>0.635534</td>\n",
       "      <td>0.402006</td>\n",
       "      <td>0.514805</td>\n",
       "      <td>0.390274</td>\n",
       "      <td>0.329032</td>\n",
       "      <td>0.622768</td>\n",
       "      <td>0.216176</td>\n",
       "      <td>0.295225</td>\n",
       "    </tr>\n",
       "    <tr>\n",
       "      <th>3144</th>\n",
       "      <td>0.247929</td>\n",
       "      <td>0.210129</td>\n",
       "      <td>0.564491</td>\n",
       "      <td>0.394920</td>\n",
       "      <td>0.356416</td>\n",
       "      <td>0.433733</td>\n",
       "      <td>0.342498</td>\n",
       "      <td>0.589587</td>\n",
       "      <td>0.426872</td>\n",
       "      <td>0.663235</td>\n",
       "      <td>...</td>\n",
       "      <td>0.465966</td>\n",
       "      <td>0.602458</td>\n",
       "      <td>0.558638</td>\n",
       "      <td>0.528084</td>\n",
       "      <td>0.403905</td>\n",
       "      <td>0.572441</td>\n",
       "      <td>0.530971</td>\n",
       "      <td>0.504619</td>\n",
       "      <td>0.354541</td>\n",
       "      <td>0.446823</td>\n",
       "    </tr>\n",
       "  </tbody>\n",
       "</table>\n",
       "<p>3145 rows × 128 columns</p>\n",
       "</div>"
      ],
      "text/plain": [
       "             1         2         3         4         5         6         7  \\\n",
       "0     0.331618  0.496103  0.213934  0.590503  0.361985  0.627860  0.657142   \n",
       "1     0.465995  0.288086  0.404061  0.773123  0.790639  0.551406  0.604358   \n",
       "2     0.306961  0.373614  0.356394  0.466334  0.468730  0.477727  0.730217   \n",
       "3     0.400104  0.164325  0.582264  0.704513  0.656782  0.556660  0.595028   \n",
       "4     0.267351  0.439700  0.342514  0.357858  0.542755  0.302598  0.576742   \n",
       "...        ...       ...       ...       ...       ...       ...       ...   \n",
       "3140  0.408696  0.295355  0.563169  0.577597  0.298856  0.489046  0.483878   \n",
       "3141  0.463466  0.416868  0.411828  0.506207  0.416665  0.468752  0.609136   \n",
       "3142  0.343643  0.329122  0.511103  0.288379  0.401659  0.671206  0.505743   \n",
       "3143  0.382145  0.328313  0.708972  0.382724  0.313446  0.220391  0.534128   \n",
       "3144  0.247929  0.210129  0.564491  0.394920  0.356416  0.433733  0.342498   \n",
       "\n",
       "             8         9        10  ...       119       120       121  \\\n",
       "0     0.406807  0.464668  0.496052  ...  0.387825  0.185333  0.562787   \n",
       "1     0.274315  0.756718  0.575063  ...  0.316513  0.472322  0.535697   \n",
       "2     0.616571  0.434424  0.550101  ...  0.346471  0.353103  0.396844   \n",
       "3     0.402259  0.698103  0.595158  ...  0.521153  0.495585  0.620189   \n",
       "4     0.428417  0.715790  0.415171  ...  0.573038  0.403887  0.673982   \n",
       "...        ...       ...       ...  ...       ...       ...       ...   \n",
       "3140  0.767127  0.439197  0.715765  ...  0.385894  0.607638  0.611645   \n",
       "3141  0.528540  0.498151  0.513805  ...  0.448154  0.504524  0.530355   \n",
       "3142  0.564061  0.487655  0.628779  ...  0.305752  0.453580  0.717852   \n",
       "3143  0.654262  0.734201  0.482470  ...  0.352753  0.701701  0.635534   \n",
       "3144  0.589587  0.426872  0.663235  ...  0.465966  0.602458  0.558638   \n",
       "\n",
       "           122       123       124       125       126       127       128  \n",
       "0     0.620696  0.573171  0.681013  0.391714  0.265092  0.606329  0.653331  \n",
       "1     0.510438  0.344678  0.606270  0.546080  0.429619  0.463232  0.616383  \n",
       "2     0.560372  0.526385  0.675517  0.594401  0.500175  0.407659  0.594378  \n",
       "3     0.597698  0.429561  0.546803  0.505341  0.406643  0.437534  0.592123  \n",
       "4     0.270624  0.204242  0.696092  0.375906  0.388241  0.699580  0.549901  \n",
       "...        ...       ...       ...       ...       ...       ...       ...  \n",
       "3140  0.123622  0.414372  0.564326  0.502759  0.501857  0.360216  0.409034  \n",
       "3141  0.391781  0.295480  0.754774  0.321153  0.373677  0.463147  0.519109  \n",
       "3142  0.418655  0.401290  0.718637  0.395991  0.381989  0.580448  0.574702  \n",
       "3143  0.402006  0.514805  0.390274  0.329032  0.622768  0.216176  0.295225  \n",
       "3144  0.528084  0.403905  0.572441  0.530971  0.504619  0.354541  0.446823  \n",
       "\n",
       "[3145 rows x 128 columns]"
      ]
     },
     "execution_count": 9,
     "metadata": {},
     "output_type": "execute_result"
    }
   ],
   "source": [
    "scaled_features_df = scaleColumns(features_df, features_df.columns)\n",
    "scaled_features_df"
   ]
  },
  {
   "cell_type": "code",
   "execution_count": 10,
   "id": "fc028c33-80a5-45b8-b00a-fbc277a5f774",
   "metadata": {},
   "outputs": [],
   "source": [
    "X = np.array(scaled_features_df)\n",
    "y = np.array(labels_df['label'])"
   ]
  },
  {
   "cell_type": "code",
   "execution_count": 11,
   "id": "ff8e88ad-d23d-4522-a22d-fd519db7b9fc",
   "metadata": {},
   "outputs": [
    {
     "data": {
      "text/plain": [
       "array([[0.33161821, 0.496103  , 0.21393407, ..., 0.26509175, 0.60632908,\n",
       "        0.65333149],\n",
       "       [0.46599483, 0.28808588, 0.40406066, ..., 0.42961858, 0.46323249,\n",
       "        0.61638283],\n",
       "       [0.30696051, 0.3736145 , 0.35639437, ..., 0.50017468, 0.40765949,\n",
       "        0.59437767],\n",
       "       ...,\n",
       "       [0.34364255, 0.32912229, 0.51110309, ..., 0.38198886, 0.58044795,\n",
       "        0.57470209],\n",
       "       [0.38214544, 0.32831336, 0.70897213, ..., 0.62276829, 0.21617576,\n",
       "        0.29522456],\n",
       "       [0.2479289 , 0.21012927, 0.5644909 , ..., 0.50461907, 0.35454133,\n",
       "        0.44682333]])"
      ]
     },
     "execution_count": 11,
     "metadata": {},
     "output_type": "execute_result"
    }
   ],
   "source": [
    "X"
   ]
  },
  {
   "cell_type": "code",
   "execution_count": 12,
   "id": "41df2465-3df9-4364-b32e-b00d09c1d556",
   "metadata": {},
   "outputs": [
    {
     "data": {
      "text/plain": [
       "array(['1', '1', '1', ..., '0', '0', '0'], dtype=object)"
      ]
     },
     "execution_count": 12,
     "metadata": {},
     "output_type": "execute_result"
    }
   ],
   "source": [
    "y"
   ]
  },
  {
   "cell_type": "code",
   "execution_count": 13,
   "id": "deb6b864-ce4e-4d17-87c8-ea3f1292b42b",
   "metadata": {},
   "outputs": [],
   "source": [
    "X_train, X_test, y_train, y_test = train_test_split(X, y, test_size=0.3, random_state=42)"
   ]
  },
  {
   "cell_type": "markdown",
   "id": "53e9ec02-8a4c-41fd-8cc2-48bd9de086e6",
   "metadata": {},
   "source": [
    "## KNN"
   ]
  },
  {
   "cell_type": "code",
   "execution_count": 14,
   "id": "be82f5a8-9d56-4df4-85f6-098fef706a92",
   "metadata": {},
   "outputs": [
    {
     "name": "stdout",
     "output_type": "stream",
     "text": [
      "Best number of neighbors: 3\n"
     ]
    },
    {
     "data": {
      "text/plain": [
       "KNeighborsClassifier(n_neighbors=3)"
      ]
     },
     "execution_count": 14,
     "metadata": {},
     "output_type": "execute_result"
    }
   ],
   "source": [
    "# find best number (N) of neighbors\n",
    "param_grid = {'n_neighbors':[3,5,11]}\n",
    "grid_search = GridSearchCV(KNeighborsClassifier(), param_grid)\n",
    "grid_search.fit(X_train, y_train)\n",
    "neighbors = grid_search.best_estimator_.n_neighbors\n",
    "print('Best number of neighbors: ' + str(neighbors))\n",
    "\n",
    "# train model with N neighbors\n",
    "knn_model = KNeighborsClassifier(n_neighbors=neighbors)\n",
    "knn_model.fit(X_train, y_train)"
   ]
  },
  {
   "cell_type": "code",
   "execution_count": 15,
   "id": "3538588b-6a8a-4bcf-b8e3-7ea5cca07b19",
   "metadata": {},
   "outputs": [
    {
     "name": "stdout",
     "output_type": "stream",
     "text": [
      "Accuracy:  0.902542372881356\n"
     ]
    }
   ],
   "source": [
    "print(\"Accuracy: \", knn_model.score(X_test, y_test))"
   ]
  },
  {
   "cell_type": "code",
   "execution_count": 16,
   "id": "e42847b8-10df-46b9-9f82-7036f87d0f08",
   "metadata": {},
   "outputs": [
    {
     "name": "stdout",
     "output_type": "stream",
     "text": [
      "Training set score: 0.92 \n",
      "Test set score: 0.90\n"
     ]
    }
   ],
   "source": [
    "print(\"Training set score: {:.2f}\".format(knn_model.score(X_train, y_train)),\n",
    "      \"\\nTest set score: {:.2f}\".format(knn_model.score(X_test, y_test)))"
   ]
  },
  {
   "cell_type": "code",
   "execution_count": 17,
   "id": "07068fd7-7387-410c-bde2-a84b335813bb",
   "metadata": {},
   "outputs": [
    {
     "data": {
      "image/png": "[encoded data removed]",
      "text/plain": [
       "<Figure size 432x288 with 2 Axes>"
      ]
     },
     "metadata": {
      "needs_background": "light"
     },
     "output_type": "display_data"
    }
   ],
   "source": [
    "y_predict_knn = knn_model.predict(X_test)\n",
    "knn_conf_matrix = confusion_matrix(y_test, y_predict_knn)\n",
    "plot_confusion_matrix(knn_conf_matrix)"
   ]
  },
  {
   "cell_type": "markdown",
   "id": "a8a42ab3-bb2a-4571-a218-cbe6388abf31",
   "metadata": {},
   "source": [
    "## SMV"
   ]
  },
  {
   "cell_type": "code",
   "execution_count": 18,
   "id": "33a7fdcf-a02e-4073-a83e-fbbd48804d9e",
   "metadata": {},
   "outputs": [
    {
     "name": "stdout",
     "output_type": "stream",
     "text": [
      "Best C:  10\n",
      "Best Gamma  0.1\n"
     ]
    },
    {
     "data": {
      "text/plain": [
       "SVC(C=10, gamma=0.1, probability=True)"
      ]
     },
     "execution_count": 18,
     "metadata": {},
     "output_type": "execute_result"
    }
   ],
   "source": [
    "# find best values of C and Gamma\n",
    "c_values = [0.1, 1, 10, 100, 1000]\n",
    "gamma_values = [0.001, 0.01, 0.1, 1]\n",
    "\n",
    "param_grid = {'C': c_values, 'gamma': gamma_values}\n",
    "grid_search = GridSearchCV(SVC(kernel='rbf'), param_grid, cv=5)\n",
    "grid_search.fit(X_train, y_train)\n",
    "\n",
    "# set C and Gamma values\n",
    "c = grid_search.best_estimator_.C\n",
    "gamma = grid_search.best_estimator_.gamma\n",
    "print('Best C: ', c)\n",
    "print('Best Gamma ', gamma)\n",
    "\n",
    "svm_model = SVC(C=c, gamma=gamma, kernel='rbf',probability=True)\n",
    "svm_model.fit(X_train, y_train)"
   ]
  },
  {
   "cell_type": "code",
   "execution_count": 19,
   "id": "017182cf-6fba-4090-b9cf-6f92f04b0f38",
   "metadata": {},
   "outputs": [
    {
     "name": "stdout",
     "output_type": "stream",
     "text": [
      "Accuracy:  0.902542372881356\n"
     ]
    }
   ],
   "source": [
    "print(\"Accuracy: \", knn_model.score(X_test, y_test))"
   ]
  },
  {
   "cell_type": "code",
   "execution_count": 20,
   "id": "5ef59d0a-78f3-4cd6-98ad-c883fe275286",
   "metadata": {},
   "outputs": [
    {
     "name": "stdout",
     "output_type": "stream",
     "text": [
      "Training set score: 1.00 \n",
      "Test set score: 0.99\n"
     ]
    }
   ],
   "source": [
    "print(\"Training set score: {:.2f}\".format(svm_model.score(X_train, y_train)),\n",
    "      \"\\nTest set score: {:.2f}\".format(svm_model.score(X_test, y_test)))"
   ]
  },
  {
   "cell_type": "code",
   "execution_count": 21,
   "id": "1fbcb378-c716-4a71-afcd-ce7e6e5a8339",
   "metadata": {},
   "outputs": [
    {
     "data": {
      "image/png": "[encoded data removed]",
      "text/plain": [
       "<Figure size 432x288 with 2 Axes>"
      ]
     },
     "metadata": {
      "needs_background": "light"
     },
     "output_type": "display_data"
    }
   ],
   "source": [
    "y_predict_svm = svm_model.predict(X_test)\n",
    "svm_conf_matrix = confusion_matrix(y_test, y_predict_svm)\n",
    "plot_confusion_matrix(svm_conf_matrix)"
   ]
  },
  {
   "cell_type": "markdown",
   "id": "86bfb570-e8df-4782-8c04-1a6d2b20af6d",
   "metadata": {},
   "source": [
    "## Random Forest"
   ]
  },
  {
   "cell_type": "code",
   "execution_count": 22,
   "id": "25a25926-980f-4596-954e-750999fe893c",
   "metadata": {},
   "outputs": [
    {
     "name": "stdout",
     "output_type": "stream",
     "text": [
      "Best n_estimators: 200\n",
      "Best max_depth: 10\n"
     ]
    },
    {
     "data": {
      "text/plain": [
       "RandomForestClassifier(max_depth=10, n_estimators=200)"
      ]
     },
     "execution_count": 22,
     "metadata": {},
     "output_type": "execute_result"
    }
   ],
   "source": [
    "# find best n_estimators and max_depth\n",
    "param_grid = {'n_estimators': [50, 100, 200],\n",
    "              'max_depth': [3, 5, 9, 10]}\n",
    "\n",
    "grid_search = GridSearchCV(RandomForestClassifier(), param_grid)\n",
    "grid_search.fit(X_train, y_train)\n",
    "\n",
    "# setting n_estimators and max_depth values\n",
    "n_estimators = grid_search.best_estimator_.n_estimators\n",
    "max_depth = grid_search.best_estimator_.max_depth\n",
    "\n",
    "print('Best n_estimators:', n_estimators)\n",
    "print('Best max_depth:', max_depth)\n",
    "\n",
    "# training the model\n",
    "forest_model = RandomForestClassifier(n_estimators=n_estimators, max_depth=max_depth)\n",
    "forest_model.fit(X_train, y_train)"
   ]
  },
  {
   "cell_type": "code",
   "execution_count": 23,
   "id": "f62669bd-3ed0-47cb-a319-fb2184eeeb6c",
   "metadata": {},
   "outputs": [
    {
     "name": "stdout",
     "output_type": "stream",
     "text": [
      "Accuracy:  0.9597457627118644\n"
     ]
    }
   ],
   "source": [
    "print(\"Accuracy: \", forest_model.score(X_test, y_test))"
   ]
  },
  {
   "cell_type": "code",
   "execution_count": 24,
   "id": "b7862f8e-b221-476e-906c-732bbc8179b3",
   "metadata": {},
   "outputs": [
    {
     "name": "stdout",
     "output_type": "stream",
     "text": [
      "Training set score: 1.00 \n",
      "Test set score: 0.96\n"
     ]
    }
   ],
   "source": [
    "print(\"Training set score: {:.2f}\".format(forest_model.score(X_train, y_train)),\n",
    "      \"\\nTest set score: {:.2f}\".format(forest_model.score(X_test, y_test)))"
   ]
  },
  {
   "cell_type": "code",
   "execution_count": 25,
   "id": "740ebcb3-116b-4ce5-a64f-f38c34d44619",
   "metadata": {},
   "outputs": [],
   "source": [
    "y_predict_forest = forest_model.predict(X_test)\n",
    "forest_conf_matrix = confusion_matrix(y_test, y_predict_forest)"
   ]
  },
  {
   "cell_type": "code",
   "execution_count": 26,
   "id": "82e45edb-2b64-4462-bb86-e095d722cfcd",
   "metadata": {},
   "outputs": [
    {
     "data": {
      "image/png": "[encoded data removed]",
      "text/plain": [
       "<Figure size 432x288 with 2 Axes>"
      ]
     },
     "metadata": {
      "needs_background": "light"
     },
     "output_type": "display_data"
    }
   ],
   "source": [
    "plot_confusion_matrix(forest_conf_matrix)"
   ]
  },
  {
   "cell_type": "markdown",
   "id": "e2480a85-3dbf-4c69-a981-e356ddb18c60",
   "metadata": {},
   "source": [
    "## Gradient Boosting"
   ]
  },
  {
   "cell_type": "code",
   "execution_count": null,
   "id": "4504e440-4a61-407a-b2f6-5b140e7cfb33",
   "metadata": {},
   "outputs": [],
   "source": [
    "# find best n_estimators, learning_rate and max_depth\n",
    "grid_search = GridSearchCV(GradientBoostingClassifier(), param_grid)\n",
    "grid_search.fit(X_train, y_train)\n",
    "\n",
    "# setting the three parameters\n",
    "n_estimators = grid_search.best_estimator_.n_estimators\n",
    "learning_rate = grid_search.best_estimator_.learning_rate\n",
    "max_depth = grid_search.best_estimator_.max_depth\n",
    "\n",
    "print('Best n_estimators:', n_estimators)\n",
    "print('Best learning_rate:', learning_rate)\n",
    "print('Best max_depth:', max_depth)\n",
    "\n",
    "grad_boost_model = GradientBoostingClassifier(n_estimators=n_estimators, learning_rate=learning_rate, max_depth=max_depth)\n",
    "grad_boost_model.fit(X_train, y_train)"
   ]
  },
  {
   "cell_type": "code",
   "execution_count": null,
   "id": "e895157f-47e8-4504-b6a2-e0fb7f2bbe65",
   "metadata": {},
   "outputs": [],
   "source": [
    "print(\"Accuracy: \", grad_boost_model.score(X_test, y_test))"
   ]
  },
  {
   "cell_type": "code",
   "execution_count": null,
   "id": "f1fdba45-fe4c-4c66-9a79-296a62fbee99",
   "metadata": {},
   "outputs": [],
   "source": [
    "print(\"Training set score: {:.2f}\".format(grad_boost_model.score(X_train, y_train)),\n",
    "      \"\\nTest set score: {:.2f}\".format(grad_boost_model.score(X_test, y_test)))"
   ]
  },
  {
   "cell_type": "code",
   "execution_count": null,
   "id": "b387dc70-7011-4b50-9c05-be5b9c059a04",
   "metadata": {},
   "outputs": [],
   "source": [
    "y_predict_grad_boost = grad_boost_model.predict(X_test)\n",
    "grad_boost_conf_matrix = confusion_matrix(y_test, y_predict_grad_boost)"
   ]
  },
  {
   "cell_type": "code",
   "execution_count": null,
   "id": "e8f49ec3-ea83-4cf1-801f-a539ec86cea4",
   "metadata": {},
   "outputs": [],
   "source": [
    "plot_confusion_matrix(grad_boost_conf_matrix)"
   ]
  }
 ],
 "metadata": {
  "kernelspec": {
   "display_name": "Python 3 (ipykernel)",
   "language": "python",
   "name": "python3"
  },
  "language_info": {
   "codemirror_mode": {
    "name": "ipython",
    "version": 3
   },
   "file_extension": ".py",
   "mimetype": "text/x-python",
   "name": "python",
   "nbconvert_exporter": "python",
   "pygments_lexer": "ipython3",
   "version": "3.9.5"
  }
 },
 "nbformat": 4,
 "nbformat_minor": 5
}
