{
 "cells": [
  {
   "cell_type": "code",
   "execution_count": 1,
   "id": "2a148768",
   "metadata": {},
   "outputs": [],
   "source": [
    "import pandas as pd\n",
    "import networkx as nx\n",
    "import matplotlib.pyplot as plt\n",
    "import statistics as sts\n",
    "import numpy as np\n",
    "import seaborn as sns\n",
    "import pickle\n",
    "from sklearn import preprocessing\n",
    "from sklearn.metrics import confusion_matrix\n",
    "from sklearn.svm import SVC\n",
    "from sklearn.neighbors import KNeighborsClassifier\n",
    "from sklearn.ensemble import GradientBoostingClassifier, RandomForestClassifier\n",
    "from sklearn.model_selection import cross_val_score, train_test_split, GridSearchCV\n",
    "%matplotlib inline"
   ]
  },
  {
   "cell_type": "markdown",
   "id": "1a7808b1-0704-44aa-bffa-12595700cddd",
   "metadata": {},
   "source": [
    "## Functions"
   ]
  },
  {
   "cell_type": "markdown",
   "id": "3f6b7a5c-d6b0-4d01-b911-9fe86e86de08",
   "metadata": {},
   "source": [
    "### Graph Features"
   ]
  },
  {
   "cell_type": "code",
   "execution_count": 2,
   "id": "5ab35bb5",
   "metadata": {},
   "outputs": [],
   "source": [
    "# it receives a path to a graph file, \n",
    "# it returns a numpy array with the graph features  \n",
    "def get_graph_features(graph):\n",
    "    max_degree = max(dict(nx.degree(graph)).values())\n",
    "    min_degree = min(dict(nx.degree(graph)).values())\n",
    "    avg_degree = sts.mean(dict(nx.degree(graph)).values())\n",
    "    qtd_max_degree = list(dict(nx.degree(graph)).values()).count(max_degree)\n",
    "    qtd_min_degree = list(dict(nx.degree(graph)).values()).count(min_degree)\n",
    "    density = nx.density(graph)\n",
    "    \n",
    "    return np.array([max_degree, qtd_max_degree, min_degree, qtd_min_degree, avg_degree, density]).reshape(1, -1)"
   ]
  },
  {
   "cell_type": "markdown",
   "id": "b289d2d0-6db6-4e83-8f14-fc8bbb56ec6e",
   "metadata": {},
   "source": [
    "### Confusion Matrix"
   ]
  },
  {
   "cell_type": "code",
   "execution_count": 3,
   "id": "9728ceda-203f-4693-98b2-045fe21328cd",
   "metadata": {},
   "outputs": [],
   "source": [
    "def plot_confusion_matrix(matrix):\n",
    "    group_names = ['True Neg','False Pos','False Neg','True Pos']\n",
    "    group_counts = [\"{0:0.0f}\".format(value) for value in\n",
    "                    matrix.flatten()]\n",
    "    \n",
    "    group_percentages = [\"{0:.2%}\".format(value) for value in\n",
    "                         matrix.flatten()/np.sum(matrix)]\n",
    "    \n",
    "    labels = [f\"{v1}\\n{v2}\\n{v3}\" for v1, v2, v3 in\n",
    "              zip(group_names, group_counts, group_percentages)]\n",
    "    \n",
    "    labels = np.asarray(labels).reshape(2,2)\n",
    "    sns.heatmap(matrix, annot=labels, fmt='', cmap='Blues')\n",
    "    plt.show()"
   ]
  },
  {
   "cell_type": "markdown",
   "id": "187c9320-5197-47aa-ad09-6d9e4d90b0c6",
   "metadata": {},
   "source": [
    "## Random Graph File"
   ]
  },
  {
   "cell_type": "code",
   "execution_count": 4,
   "id": "f2cdb719",
   "metadata": {},
   "outputs": [],
   "source": [
    "graph = nx.read_gexf('./graphs/ba.gexf')\n",
    "graph_features = get_graph_features(graph)"
   ]
  },
  {
   "cell_type": "markdown",
   "id": "fcd25578-7839-425e-9408-e8e9a925bb35",
   "metadata": {},
   "source": [
    "## Full DataSet"
   ]
  },
  {
   "cell_type": "code",
   "execution_count": 5,
   "id": "8c9dc1b2",
   "metadata": {},
   "outputs": [
    {
     "data": {
      "text/html": [
       "<div>\n",
       "<style scoped>\n",
       "    .dataframe tbody tr th:only-of-type {\n",
       "        vertical-align: middle;\n",
       "    }\n",
       "\n",
       "    .dataframe tbody tr th {\n",
       "        vertical-align: top;\n",
       "    }\n",
       "\n",
       "    .dataframe thead th {\n",
       "        text-align: right;\n",
       "    }\n",
       "</style>\n",
       "<table border=\"1\" class=\"dataframe\">\n",
       "  <thead>\n",
       "    <tr style=\"text-align: right;\">\n",
       "      <th></th>\n",
       "      <th>max_degree</th>\n",
       "      <th>qtd_max_degree</th>\n",
       "      <th>min_degree</th>\n",
       "      <th>qtd_min_degree</th>\n",
       "      <th>avg_degree</th>\n",
       "      <th>density</th>\n",
       "      <th>is_power_law</th>\n",
       "    </tr>\n",
       "  </thead>\n",
       "  <tbody>\n",
       "    <tr>\n",
       "      <th>0</th>\n",
       "      <td>246</td>\n",
       "      <td>1</td>\n",
       "      <td>3</td>\n",
       "      <td>3391</td>\n",
       "      <td>5.997885</td>\n",
       "      <td>0.000705</td>\n",
       "      <td>1</td>\n",
       "    </tr>\n",
       "    <tr>\n",
       "      <th>1</th>\n",
       "      <td>176</td>\n",
       "      <td>1</td>\n",
       "      <td>3</td>\n",
       "      <td>1503</td>\n",
       "      <td>5.995263</td>\n",
       "      <td>0.001578</td>\n",
       "      <td>1</td>\n",
       "    </tr>\n",
       "    <tr>\n",
       "      <th>2</th>\n",
       "      <td>379</td>\n",
       "      <td>1</td>\n",
       "      <td>5</td>\n",
       "      <td>2385</td>\n",
       "      <td>9.993983</td>\n",
       "      <td>0.001203</td>\n",
       "      <td>1</td>\n",
       "    </tr>\n",
       "    <tr>\n",
       "      <th>3</th>\n",
       "      <td>142</td>\n",
       "      <td>1</td>\n",
       "      <td>2</td>\n",
       "      <td>1982</td>\n",
       "      <td>3.997970</td>\n",
       "      <td>0.001015</td>\n",
       "      <td>1</td>\n",
       "    </tr>\n",
       "    <tr>\n",
       "      <th>4</th>\n",
       "      <td>398</td>\n",
       "      <td>1</td>\n",
       "      <td>5</td>\n",
       "      <td>2710</td>\n",
       "      <td>9.994828</td>\n",
       "      <td>0.001034</td>\n",
       "      <td>1</td>\n",
       "    </tr>\n",
       "    <tr>\n",
       "      <th>...</th>\n",
       "      <td>...</td>\n",
       "      <td>...</td>\n",
       "      <td>...</td>\n",
       "      <td>...</td>\n",
       "      <td>...</td>\n",
       "      <td>...</td>\n",
       "      <td>...</td>\n",
       "    </tr>\n",
       "    <tr>\n",
       "      <th>3137</th>\n",
       "      <td>504</td>\n",
       "      <td>1</td>\n",
       "      <td>1</td>\n",
       "      <td>1281</td>\n",
       "      <td>21.106968</td>\n",
       "      <td>0.001124</td>\n",
       "      <td>1</td>\n",
       "    </tr>\n",
       "    <tr>\n",
       "      <th>3138</th>\n",
       "      <td>281</td>\n",
       "      <td>1</td>\n",
       "      <td>1</td>\n",
       "      <td>2373</td>\n",
       "      <td>8.083431</td>\n",
       "      <td>0.000349</td>\n",
       "      <td>1</td>\n",
       "    </tr>\n",
       "    <tr>\n",
       "      <th>3139</th>\n",
       "      <td>65</td>\n",
       "      <td>1</td>\n",
       "      <td>1</td>\n",
       "      <td>2108</td>\n",
       "      <td>5.264352</td>\n",
       "      <td>0.000533</td>\n",
       "      <td>1</td>\n",
       "    </tr>\n",
       "    <tr>\n",
       "      <th>3140</th>\n",
       "      <td>7636</td>\n",
       "      <td>1</td>\n",
       "      <td>1</td>\n",
       "      <td>225942</td>\n",
       "      <td>2.756793</td>\n",
       "      <td>0.000010</td>\n",
       "      <td>1</td>\n",
       "    </tr>\n",
       "    <tr>\n",
       "      <th>3141</th>\n",
       "      <td>2752</td>\n",
       "      <td>1</td>\n",
       "      <td>1</td>\n",
       "      <td>11627</td>\n",
       "      <td>12.114251</td>\n",
       "      <td>0.000030</td>\n",
       "      <td>1</td>\n",
       "    </tr>\n",
       "  </tbody>\n",
       "</table>\n",
       "<p>3142 rows × 7 columns</p>\n",
       "</div>"
      ],
      "text/plain": [
       "      max_degree  qtd_max_degree  min_degree  qtd_min_degree  avg_degree  \\\n",
       "0            246               1           3            3391    5.997885   \n",
       "1            176               1           3            1503    5.995263   \n",
       "2            379               1           5            2385    9.993983   \n",
       "3            142               1           2            1982    3.997970   \n",
       "4            398               1           5            2710    9.994828   \n",
       "...          ...             ...         ...             ...         ...   \n",
       "3137         504               1           1            1281   21.106968   \n",
       "3138         281               1           1            2373    8.083431   \n",
       "3139          65               1           1            2108    5.264352   \n",
       "3140        7636               1           1          225942    2.756793   \n",
       "3141        2752               1           1           11627   12.114251   \n",
       "\n",
       "       density  is_power_law  \n",
       "0     0.000705             1  \n",
       "1     0.001578             1  \n",
       "2     0.001203             1  \n",
       "3     0.001015             1  \n",
       "4     0.001034             1  \n",
       "...        ...           ...  \n",
       "3137  0.001124             1  \n",
       "3138  0.000349             1  \n",
       "3139  0.000533             1  \n",
       "3140  0.000010             1  \n",
       "3141  0.000030             1  \n",
       "\n",
       "[3142 rows x 7 columns]"
      ]
     },
     "execution_count": 5,
     "metadata": {},
     "output_type": "execute_result"
    }
   ],
   "source": [
    "graph_df = pd.read_csv('https://gitlab.com/viniciusmioto/graph_dataset/-/raw/main/graphs_db.csv')\n",
    "graph_df"
   ]
  },
  {
   "cell_type": "code",
   "execution_count": 6,
   "id": "6f543fba",
   "metadata": {},
   "outputs": [
    {
     "name": "stderr",
     "output_type": "stream",
     "text": [
      "/tmp/ipykernel_36041/2903080007.py:2: FutureWarning: In a future version of pandas all arguments of DataFrame.drop except for the argument 'labels' will be keyword-only\n",
      "  X = np.array(graph_df.drop(['is_power_law'], 1))\n"
     ]
    }
   ],
   "source": [
    "# separating features and labels\n",
    "X = np.array(graph_df.drop(['is_power_law'], 1))\n",
    "y = np.array(graph_df['is_power_law'])"
   ]
  },
  {
   "cell_type": "code",
   "execution_count": 7,
   "id": "4da1863e",
   "metadata": {},
   "outputs": [],
   "source": [
    "# train/test slipt\n",
    "X_train, X_test, y_train, y_test = train_test_split(X, y, test_size=0.3, random_state=42)"
   ]
  },
  {
   "cell_type": "markdown",
   "id": "ce968470-1fb2-46c0-a47b-996911f0f041",
   "metadata": {},
   "source": [
    "## k-Nearest Neighbors"
   ]
  },
  {
   "cell_type": "code",
   "execution_count": 8,
   "id": "9c23f93c",
   "metadata": {},
   "outputs": [
    {
     "name": "stdout",
     "output_type": "stream",
     "text": [
      "Best number of neighbors: 3\n"
     ]
    },
    {
     "data": {
      "text/plain": [
       "KNeighborsClassifier(n_neighbors=3)"
      ]
     },
     "execution_count": 8,
     "metadata": {},
     "output_type": "execute_result"
    }
   ],
   "source": [
    "# find best number (N) of neighbors\n",
    "param_grid = {'n_neighbors':[3,5,11]}\n",
    "grid_search = GridSearchCV(KNeighborsClassifier(), param_grid)\n",
    "grid_search.fit(X_train, y_train)\n",
    "neighbors = grid_search.best_estimator_.n_neighbors\n",
    "print('Best number of neighbors: ' + str(neighbors))\n",
    "\n",
    "# train model with N neighbors\n",
    "knn_model = KNeighborsClassifier(n_neighbors=neighbors)\n",
    "knn_model.fit(X_train, y_train)"
   ]
  },
  {
   "cell_type": "code",
   "execution_count": 9,
   "id": "e0d043e5",
   "metadata": {},
   "outputs": [
    {
     "name": "stdout",
     "output_type": "stream",
     "text": [
      "Accuracy:  0.9872746553552492\n"
     ]
    }
   ],
   "source": [
    "print(\"Accuracy: \", knn_model.score(X_test, y_test))"
   ]
  },
  {
   "cell_type": "code",
   "execution_count": 10,
   "id": "35d3769b-41f2-4908-b8a7-8bc98aade0a1",
   "metadata": {},
   "outputs": [
    {
     "name": "stdout",
     "output_type": "stream",
     "text": [
      "Training set score: 0.99 \n",
      "Test set score: 0.99\n"
     ]
    }
   ],
   "source": [
    "print(\"Training set score: {:.2f}\".format(knn_model.score(X_train, y_train)),\n",
    "      \"\\nTest set score: {:.2f}\".format(knn_model.score(X_test, y_test)))"
   ]
  },
  {
   "cell_type": "code",
   "execution_count": 11,
   "id": "a9aa8e12-589e-4d34-be19-8ace41e8becd",
   "metadata": {},
   "outputs": [],
   "source": [
    "y_predict_knn = knn_model.predict(X_test)\n",
    "knn_conf_matrix = confusion_matrix(y_test, y_predict_knn)"
   ]
  },
  {
   "cell_type": "code",
   "execution_count": 12,
   "id": "f4bbd790-4026-41ea-be0e-68ac09e91d67",
   "metadata": {},
   "outputs": [
    {
     "data": {
      "image/png": "[encoded data removed]",
      "text/plain": [
       "<Figure size 432x288 with 2 Axes>"
      ]
     },
     "metadata": {
      "needs_background": "light"
     },
     "output_type": "display_data"
    }
   ],
   "source": [
    "plot_confusion_matrix(knn_conf_matrix)"
   ]
  },
  {
   "cell_type": "code",
   "execution_count": 13,
   "id": "89c47391",
   "metadata": {},
   "outputs": [
    {
     "data": {
      "text/plain": [
       "array([1])"
      ]
     },
     "execution_count": 13,
     "metadata": {},
     "output_type": "execute_result"
    }
   ],
   "source": [
    "knn_model.predict(graph_features)"
   ]
  },
  {
   "cell_type": "code",
   "execution_count": 14,
   "id": "7955c9fe-7e90-4280-8344-889c2ae8332b",
   "metadata": {},
   "outputs": [],
   "source": [
    "# with open('./models/knn_model.pkl', 'wb') as file:\n",
    "#     pickle.dump(knn_model, file)"
   ]
  },
  {
   "cell_type": "markdown",
   "id": "ef22399a-01aa-4bcb-82d7-8b9cda4a9c88",
   "metadata": {},
   "source": [
    "## Support Vector Machines"
   ]
  },
  {
   "cell_type": "code",
   "execution_count": 15,
   "id": "e686d4a7-86ba-404d-8c6f-29c04cd231b0",
   "metadata": {},
   "outputs": [
    {
     "name": "stdout",
     "output_type": "stream",
     "text": [
      "Best C:  10\n",
      "Best Gamma  0.001\n"
     ]
    },
    {
     "data": {
      "text/plain": [
       "SVC(C=10, gamma=0.001, probability=True)"
      ]
     },
     "execution_count": 15,
     "metadata": {},
     "output_type": "execute_result"
    }
   ],
   "source": [
    "# find best values of C and Gamma\n",
    "c_values = [0.1, 1, 10, 100, 1000]\n",
    "gamma_values = [0.001, 0.01, 0.1, 1]\n",
    "\n",
    "param_grid = {'C': c_values, 'gamma': gamma_values}\n",
    "grid_search = GridSearchCV(SVC(kernel='rbf'), param_grid, cv=5)\n",
    "grid_search.fit(X_train, y_train)\n",
    "\n",
    "# set C and Gamma values\n",
    "c = grid_search.best_estimator_.C\n",
    "gamma = grid_search.best_estimator_.gamma\n",
    "print('Best C: ', c)\n",
    "print('Best Gamma ', gamma)\n",
    "\n",
    "svm_model = SVC(C=c, gamma=gamma, kernel='rbf',probability=True)\n",
    "svm_model.fit(X_train, y_train)"
   ]
  },
  {
   "cell_type": "code",
   "execution_count": 16,
   "id": "0dab0c8e-41f5-4040-96b4-478d7173d1be",
   "metadata": {},
   "outputs": [
    {
     "name": "stdout",
     "output_type": "stream",
     "text": [
      "Accuracy:  0.9872746553552492\n"
     ]
    }
   ],
   "source": [
    "print(\"Accuracy: \", knn_model.score(X_test, y_test))"
   ]
  },
  {
   "cell_type": "code",
   "execution_count": 17,
   "id": "f1f52a91-43a4-4475-a7af-8e0694cf4cb2",
   "metadata": {},
   "outputs": [
    {
     "name": "stdout",
     "output_type": "stream",
     "text": [
      "Training set score: 1.00 \n",
      "Test set score: 0.95\n"
     ]
    }
   ],
   "source": [
    "print(\"Training set score: {:.2f}\".format(svm_model.score(X_train, y_train)),\n",
    "      \"\\nTest set score: {:.2f}\".format(svm_model.score(X_test, y_test)))"
   ]
  },
  {
   "cell_type": "code",
   "execution_count": 18,
   "id": "47fb347d-2c7b-463e-9525-2a7b0ea71f4a",
   "metadata": {},
   "outputs": [],
   "source": [
    "y_predict_svm = svm_model.predict(X_test)\n",
    "svm_conf_matrix = confusion_matrix(y_test, y_predict_svm)"
   ]
  },
  {
   "cell_type": "code",
   "execution_count": 19,
   "id": "d4626477-d8dc-42a1-ac60-5e7aea33704a",
   "metadata": {},
   "outputs": [
    {
     "data": {
      "image/png": "[encoded data removed]",
      "text/plain": [
       "<Figure size 432x288 with 2 Axes>"
      ]
     },
     "metadata": {
      "needs_background": "light"
     },
     "output_type": "display_data"
    }
   ],
   "source": [
    "plot_confusion_matrix(svm_conf_matrix)"
   ]
  },
  {
   "cell_type": "code",
   "execution_count": 20,
   "id": "29d8c2e3-8b68-4cc9-90e9-71866990aea3",
   "metadata": {},
   "outputs": [
    {
     "data": {
      "text/plain": [
       "array([1])"
      ]
     },
     "execution_count": 20,
     "metadata": {},
     "output_type": "execute_result"
    }
   ],
   "source": [
    "svm_model.predict(graph_features)"
   ]
  },
  {
   "cell_type": "code",
   "execution_count": 21,
   "id": "55222198-e607-4adb-9ca3-0f7e9c421d41",
   "metadata": {},
   "outputs": [],
   "source": [
    "# with open('./models/svm_model.pkl', 'wb') as file:\n",
    "#     pickle.dump(svm_model, file)"
   ]
  },
  {
   "cell_type": "markdown",
   "id": "3ca902c8-8ba7-441e-a480-2ca9c77a88f1",
   "metadata": {},
   "source": [
    "## Random Forest"
   ]
  },
  {
   "cell_type": "code",
   "execution_count": 22,
   "id": "803c9bea-9cad-49a0-96e2-1330bbeeb62b",
   "metadata": {},
   "outputs": [
    {
     "name": "stdout",
     "output_type": "stream",
     "text": [
      "Best n_estimators: 50\n",
      "Best max_depth: 5\n"
     ]
    },
    {
     "data": {
      "text/plain": [
       "RandomForestClassifier(max_depth=5, n_estimators=50)"
      ]
     },
     "execution_count": 22,
     "metadata": {},
     "output_type": "execute_result"
    }
   ],
   "source": [
    "# find best n_estimators and max_depth\n",
    "param_grid = {'n_estimators': [50, 100, 200],\n",
    "              'max_depth': [3, 5, 9, 10]}\n",
    "\n",
    "grid_search = GridSearchCV(RandomForestClassifier(), param_grid)\n",
    "grid_search.fit(X_train, y_train)\n",
    "\n",
    "# setting n_estimators and max_depth values\n",
    "n_estimators = grid_search.best_estimator_.n_estimators\n",
    "max_depth = grid_search.best_estimator_.max_depth\n",
    "\n",
    "print('Best n_estimators:', n_estimators)\n",
    "print('Best max_depth:', max_depth)\n",
    "\n",
    "# training the model\n",
    "forest_model = RandomForestClassifier(n_estimators=n_estimators, max_depth=max_depth)\n",
    "forest_model.fit(X_train, y_train)"
   ]
  },
  {
   "cell_type": "code",
   "execution_count": 23,
   "id": "86577ebe-e626-4e82-96ec-12208d9839c4",
   "metadata": {},
   "outputs": [
    {
     "name": "stdout",
     "output_type": "stream",
     "text": [
      "Accuracy:  0.9989395546129375\n"
     ]
    }
   ],
   "source": [
    "print(\"Accuracy: \", forest_model.score(X_test, y_test))"
   ]
  },
  {
   "cell_type": "code",
   "execution_count": 24,
   "id": "9c62dd68-4635-4aad-9bdc-b3424769bf2e",
   "metadata": {},
   "outputs": [
    {
     "name": "stdout",
     "output_type": "stream",
     "text": [
      "Training set score: 1.00 \n",
      "Test set score: 1.00\n"
     ]
    }
   ],
   "source": [
    "print(\"Training set score: {:.2f}\".format(forest_model.score(X_train, y_train)),\n",
    "      \"\\nTest set score: {:.2f}\".format(forest_model.score(X_test, y_test)))"
   ]
  },
  {
   "cell_type": "code",
   "execution_count": 25,
   "id": "dfb1fccb-5101-43ec-b9aa-e2cf477dcfd6",
   "metadata": {},
   "outputs": [],
   "source": [
    "y_predict_forest = forest_model.predict(X_test)\n",
    "forest_conf_matrix = confusion_matrix(y_test, y_predict_forest)"
   ]
  },
  {
   "cell_type": "code",
   "execution_count": 26,
   "id": "c215e3fa-6c3e-47f4-bd62-2ce555418147",
   "metadata": {},
   "outputs": [
    {
     "data": {
      "image/png": "[encoded data removed]",
      "text/plain": [
       "<Figure size 432x288 with 2 Axes>"
      ]
     },
     "metadata": {
      "needs_background": "light"
     },
     "output_type": "display_data"
    }
   ],
   "source": [
    "plot_confusion_matrix(forest_conf_matrix)"
   ]
  },
  {
   "cell_type": "code",
   "execution_count": 27,
   "id": "b18ca998-1c45-4f39-bd24-02ab638eda07",
   "metadata": {},
   "outputs": [
    {
     "data": {
      "text/plain": [
       "array([1])"
      ]
     },
     "execution_count": 27,
     "metadata": {},
     "output_type": "execute_result"
    }
   ],
   "source": [
    "forest_model.predict(graph_features)"
   ]
  },
  {
   "cell_type": "code",
   "execution_count": 28,
   "id": "94152cf4-5970-4a68-bf25-0ad4583197b8",
   "metadata": {},
   "outputs": [],
   "source": [
    "# with open('./models/forest_model.pkl', 'wb') as file:\n",
    "#     pickle.dump(forest_model, file)"
   ]
  },
  {
   "cell_type": "markdown",
   "id": "4b59eb27-3b65-4c89-9a7f-e9468d7a6b9d",
   "metadata": {},
   "source": [
    "## Gradient Boosting"
   ]
  },
  {
   "cell_type": "code",
   "execution_count": 29,
   "id": "ce8639f6-e9d6-4d43-9eef-ba65f6d2de19",
   "metadata": {},
   "outputs": [
    {
     "name": "stdout",
     "output_type": "stream",
     "text": [
      "Best n_estimators: 50\n",
      "Best learning_rate: 0.1\n",
      "Best max_depth: 3\n"
     ]
    },
    {
     "data": {
      "text/plain": [
       "GradientBoostingClassifier(n_estimators=50)"
      ]
     },
     "execution_count": 29,
     "metadata": {},
     "output_type": "execute_result"
    }
   ],
   "source": [
    "# find best n_estimators, learning_rate and max_depth\n",
    "grid_search = GridSearchCV(GradientBoostingClassifier(), param_grid)\n",
    "grid_search.fit(X_train, y_train)\n",
    "\n",
    "# setting the three parameters\n",
    "n_estimators = grid_search.best_estimator_.n_estimators\n",
    "learning_rate = grid_search.best_estimator_.learning_rate\n",
    "max_depth = grid_search.best_estimator_.max_depth\n",
    "\n",
    "print('Best n_estimators:', n_estimators)\n",
    "print('Best learning_rate:', learning_rate)\n",
    "print('Best max_depth:', max_depth)\n",
    "\n",
    "grad_boost_model = GradientBoostingClassifier(n_estimators=n_estimators, learning_rate=learning_rate, max_depth=max_depth)\n",
    "grad_boost_model.fit(X_train, y_train)"
   ]
  },
  {
   "cell_type": "code",
   "execution_count": 30,
   "id": "b3726098-8842-4dde-b09d-c1d0621a1a30",
   "metadata": {},
   "outputs": [
    {
     "name": "stdout",
     "output_type": "stream",
     "text": [
      "Accuracy:  0.9978791092258749\n"
     ]
    }
   ],
   "source": [
    "print(\"Accuracy: \", grad_boost_model.score(X_test, y_test))"
   ]
  },
  {
   "cell_type": "code",
   "execution_count": 31,
   "id": "f0a06877-3899-4377-a9fe-87f7068d9d5a",
   "metadata": {},
   "outputs": [
    {
     "name": "stdout",
     "output_type": "stream",
     "text": [
      "Training set score: 1.00 \n",
      "Test set score: 1.00\n"
     ]
    }
   ],
   "source": [
    "print(\"Training set score: {:.2f}\".format(grad_boost_model.score(X_train, y_train)),\n",
    "      \"\\nTest set score: {:.2f}\".format(grad_boost_model.score(X_test, y_test)))"
   ]
  },
  {
   "cell_type": "code",
   "execution_count": 32,
   "id": "f3293951-4425-4fe3-8042-e8e37e156843",
   "metadata": {},
   "outputs": [],
   "source": [
    "y_predict_grad_boost = grad_boost_model.predict(X_test)\n",
    "grad_boost_conf_matrix = confusion_matrix(y_test, y_predict_grad_boost)"
   ]
  },
  {
   "cell_type": "code",
   "execution_count": 33,
   "id": "bd61cde0-f664-4159-88d2-19277f4e0965",
   "metadata": {},
   "outputs": [
    {
     "data": {
      "image/png": "[encoded data removed]",
      "text/plain": [
       "<Figure size 432x288 with 2 Axes>"
      ]
     },
     "metadata": {
      "needs_background": "light"
     },
     "output_type": "display_data"
    }
   ],
   "source": [
    "plot_confusion_matrix(grad_boost_conf_matrix)"
   ]
  },
  {
   "cell_type": "code",
   "execution_count": 34,
   "id": "0da5dd00-bc0d-4a5e-9386-f08de5a2abae",
   "metadata": {},
   "outputs": [],
   "source": [
    "# with open('./models/grad_boost_model.pkl', 'wb') as file:\n",
    "#     pickle.dump(grad_boost_model, file)"
   ]
  }
 ],
 "metadata": {
  "interpreter": {
   "hash": "04a663a5b5553124a937bcfbd86ea03ef7e1ada4659f7a9545137cbc526dbfcc"
  },
  "kernelspec": {
   "display_name": "Python 3 (ipykernel)",
   "language": "python",
   "name": "python3"
  },
  "language_info": {
   "codemirror_mode": {
    "name": "ipython",
    "version": 3
   },
   "file_extension": ".py",
   "mimetype": "text/x-python",
   "name": "python",
   "nbconvert_exporter": "python",
   "pygments_lexer": "ipython3",
   "version": "3.9.5"
  }
 },
 "nbformat": 4,
 "nbformat_minor": 5
}
