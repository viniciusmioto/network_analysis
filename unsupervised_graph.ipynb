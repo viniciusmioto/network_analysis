{
  "nbformat": 4,
  "nbformat_minor": 0,
  "metadata": {
    "colab": {
      "name": "unsupervised_graph.ipynb",
      "provenance": [],
      "collapsed_sections": []
    },
    "kernelspec": {
      "name": "python3",
      "display_name": "Python 3"
    },
    "language_info": {
      "name": "python"
    }
  },
  "cells": [
    {
      "cell_type": "code",
      "metadata": {
        "id": "sSgjuOiMykBD",
        "colab": {
          "base_uri": "https://localhost:8080/"
        },
        "outputId": "4edd0d6e-1273-42b6-d166-9185f68f5d92"
      },
      "source": [
        "import pandas as pd\n",
        "import networkx as nx\n",
        "import matplotlib.pyplot as plt\n",
        "import statistics as sts\n",
        "import numpy as np\n",
        "import seaborn as sns\n",
        "import pickle\n",
        "from sklearn import preprocessing\n",
        "from sklearn.metrics import confusion_matrix, silhouette_score\n",
        "from sklearn.cluster import KMeans\n",
        "from yellowbrick.cluster import SilhouetteVisualizer\n",
        "from sklearn.model_selection import GridSearchCV\n",
        "from sklearn.neighbors import KNeighborsClassifier\n",
        "from sklearn.pipeline import Pipeline"
      ],
      "execution_count": 1,
      "outputs": [
        {
          "output_type": "stream",
          "name": "stderr",
          "text": [
            "/usr/local/lib/python3.7/dist-packages/sklearn/utils/deprecation.py:144: FutureWarning: The sklearn.metrics.classification module is  deprecated in version 0.22 and will be removed in version 0.24. The corresponding classes / functions should instead be imported from sklearn.metrics. Anything that cannot be imported from sklearn.metrics is now part of the private API.\n",
            "  warnings.warn(message, FutureWarning)\n"
          ]
        }
      ]
    },
    {
      "cell_type": "code",
      "metadata": {
        "id": "UQt_NDWDDG0f"
      },
      "source": [
        "def plot_confusion_matrix(matrix):\n",
        "    group_names = ['True Neg','False Pos','False Neg','True Pos']\n",
        "    group_counts = [\"{0:0.0f}\".format(value) for value in\n",
        "                    matrix.flatten()]\n",
        "    \n",
        "    group_percentages = [\"{0:.2%}\".format(value) for value in\n",
        "                         matrix.flatten()/np.sum(matrix)]\n",
        "    \n",
        "    labels = [f\"{v1}\\n{v2}\\n{v3}\" for v1, v2, v3 in\n",
        "              zip(group_names, group_counts, group_percentages)]\n",
        "    \n",
        "    labels = np.asarray(labels).reshape(2,2)\n",
        "    sns.heatmap(matrix, annot=labels, fmt='', cmap='Blues')\n",
        "    plt.show()"
      ],
      "execution_count": 2,
      "outputs": []
    },
    {
      "cell_type": "markdown",
      "metadata": {
        "id": "MrMcdOGRCeF_"
      },
      "source": [
        "### Load Graph Dataset"
      ]
    },
    {
      "cell_type": "code",
      "metadata": {
        "id": "mAdu0ZurzEHA"
      },
      "source": [
        "graph_df = pd.read_csv('https://gitlab.com/viniciusmioto/graph_dataset/-/raw/main/graphs_db.csv')"
      ],
      "execution_count": 3,
      "outputs": []
    },
    {
      "cell_type": "code",
      "metadata": {
        "colab": {
          "base_uri": "https://localhost:8080/",
          "height": 206
        },
        "id": "Tig9kxe2zIAX",
        "outputId": "b60acc61-b33b-444b-db25-70591477e991"
      },
      "source": [
        "graph_df.head()"
      ],
      "execution_count": 4,
      "outputs": [
        {
          "output_type": "execute_result",
          "data": {
            "text/html": [
              "<div>\n",
              "<style scoped>\n",
              "    .dataframe tbody tr th:only-of-type {\n",
              "        vertical-align: middle;\n",
              "    }\n",
              "\n",
              "    .dataframe tbody tr th {\n",
              "        vertical-align: top;\n",
              "    }\n",
              "\n",
              "    .dataframe thead th {\n",
              "        text-align: right;\n",
              "    }\n",
              "</style>\n",
              "<table border=\"1\" class=\"dataframe\">\n",
              "  <thead>\n",
              "    <tr style=\"text-align: right;\">\n",
              "      <th></th>\n",
              "      <th>max_degree</th>\n",
              "      <th>qtd_max_degree</th>\n",
              "      <th>min_degree</th>\n",
              "      <th>qtd_min_degree</th>\n",
              "      <th>avg_degree</th>\n",
              "      <th>density</th>\n",
              "      <th>is_power_law</th>\n",
              "    </tr>\n",
              "  </thead>\n",
              "  <tbody>\n",
              "    <tr>\n",
              "      <th>0</th>\n",
              "      <td>246</td>\n",
              "      <td>1</td>\n",
              "      <td>3</td>\n",
              "      <td>3391</td>\n",
              "      <td>5.997885</td>\n",
              "      <td>0.000705</td>\n",
              "      <td>1</td>\n",
              "    </tr>\n",
              "    <tr>\n",
              "      <th>1</th>\n",
              "      <td>176</td>\n",
              "      <td>1</td>\n",
              "      <td>3</td>\n",
              "      <td>1503</td>\n",
              "      <td>5.995263</td>\n",
              "      <td>0.001578</td>\n",
              "      <td>1</td>\n",
              "    </tr>\n",
              "    <tr>\n",
              "      <th>2</th>\n",
              "      <td>379</td>\n",
              "      <td>1</td>\n",
              "      <td>5</td>\n",
              "      <td>2385</td>\n",
              "      <td>9.993983</td>\n",
              "      <td>0.001203</td>\n",
              "      <td>1</td>\n",
              "    </tr>\n",
              "    <tr>\n",
              "      <th>3</th>\n",
              "      <td>142</td>\n",
              "      <td>1</td>\n",
              "      <td>2</td>\n",
              "      <td>1982</td>\n",
              "      <td>3.997970</td>\n",
              "      <td>0.001015</td>\n",
              "      <td>1</td>\n",
              "    </tr>\n",
              "    <tr>\n",
              "      <th>4</th>\n",
              "      <td>398</td>\n",
              "      <td>1</td>\n",
              "      <td>5</td>\n",
              "      <td>2710</td>\n",
              "      <td>9.994828</td>\n",
              "      <td>0.001034</td>\n",
              "      <td>1</td>\n",
              "    </tr>\n",
              "  </tbody>\n",
              "</table>\n",
              "</div>"
            ],
            "text/plain": [
              "   max_degree  qtd_max_degree  min_degree  ...  avg_degree   density  is_power_law\n",
              "0         246               1           3  ...    5.997885  0.000705             1\n",
              "1         176               1           3  ...    5.995263  0.001578             1\n",
              "2         379               1           5  ...    9.993983  0.001203             1\n",
              "3         142               1           2  ...    3.997970  0.001015             1\n",
              "4         398               1           5  ...    9.994828  0.001034             1\n",
              "\n",
              "[5 rows x 7 columns]"
            ]
          },
          "metadata": {},
          "execution_count": 4
        }
      ]
    },
    {
      "cell_type": "code",
      "metadata": {
        "colab": {
          "base_uri": "https://localhost:8080/",
          "height": 300
        },
        "id": "e9IaiTL2zMEI",
        "outputId": "d76f55f0-aa44-42c4-a3fc-0d905d88ab3e"
      },
      "source": [
        "graph_df.describe()"
      ],
      "execution_count": 5,
      "outputs": [
        {
          "output_type": "execute_result",
          "data": {
            "text/html": [
              "<div>\n",
              "<style scoped>\n",
              "    .dataframe tbody tr th:only-of-type {\n",
              "        vertical-align: middle;\n",
              "    }\n",
              "\n",
              "    .dataframe tbody tr th {\n",
              "        vertical-align: top;\n",
              "    }\n",
              "\n",
              "    .dataframe thead th {\n",
              "        text-align: right;\n",
              "    }\n",
              "</style>\n",
              "<table border=\"1\" class=\"dataframe\">\n",
              "  <thead>\n",
              "    <tr style=\"text-align: right;\">\n",
              "      <th></th>\n",
              "      <th>max_degree</th>\n",
              "      <th>qtd_max_degree</th>\n",
              "      <th>min_degree</th>\n",
              "      <th>qtd_min_degree</th>\n",
              "      <th>avg_degree</th>\n",
              "      <th>density</th>\n",
              "      <th>is_power_law</th>\n",
              "    </tr>\n",
              "  </thead>\n",
              "  <tbody>\n",
              "    <tr>\n",
              "      <th>count</th>\n",
              "      <td>3142.000000</td>\n",
              "      <td>3142.000000</td>\n",
              "      <td>3142.000000</td>\n",
              "      <td>3142.00000</td>\n",
              "      <td>3142.000000</td>\n",
              "      <td>3142.000000</td>\n",
              "      <td>3142.000000</td>\n",
              "    </tr>\n",
              "    <tr>\n",
              "      <th>mean</th>\n",
              "      <td>1271.745703</td>\n",
              "      <td>1215.934118</td>\n",
              "      <td>37.456079</td>\n",
              "      <td>2975.83832</td>\n",
              "      <td>39.518670</td>\n",
              "      <td>0.105407</td>\n",
              "      <td>0.393380</td>\n",
              "    </tr>\n",
              "    <tr>\n",
              "      <th>std</th>\n",
              "      <td>4384.808134</td>\n",
              "      <td>3078.931990</td>\n",
              "      <td>151.577287</td>\n",
              "      <td>8480.16086</td>\n",
              "      <td>151.139218</td>\n",
              "      <td>0.251721</td>\n",
              "      <td>0.488578</td>\n",
              "    </tr>\n",
              "    <tr>\n",
              "      <th>min</th>\n",
              "      <td>1.000000</td>\n",
              "      <td>1.000000</td>\n",
              "      <td>0.000000</td>\n",
              "      <td>1.00000</td>\n",
              "      <td>0.320000</td>\n",
              "      <td>0.000010</td>\n",
              "      <td>0.000000</td>\n",
              "    </tr>\n",
              "    <tr>\n",
              "      <th>25%</th>\n",
              "      <td>5.000000</td>\n",
              "      <td>1.000000</td>\n",
              "      <td>1.000000</td>\n",
              "      <td>4.00000</td>\n",
              "      <td>2.832228</td>\n",
              "      <td>0.000295</td>\n",
              "      <td>0.000000</td>\n",
              "    </tr>\n",
              "    <tr>\n",
              "      <th>50%</th>\n",
              "      <td>40.000000</td>\n",
              "      <td>1.000000</td>\n",
              "      <td>2.000000</td>\n",
              "      <td>442.50000</td>\n",
              "      <td>3.998843</td>\n",
              "      <td>0.000912</td>\n",
              "      <td>0.000000</td>\n",
              "    </tr>\n",
              "    <tr>\n",
              "      <th>75%</th>\n",
              "      <td>363.750000</td>\n",
              "      <td>114.750000</td>\n",
              "      <td>3.000000</td>\n",
              "      <td>2386.00000</td>\n",
              "      <td>6.409287</td>\n",
              "      <td>0.094033</td>\n",
              "      <td>1.000000</td>\n",
              "    </tr>\n",
              "    <tr>\n",
              "      <th>max</th>\n",
              "      <td>26336.000000</td>\n",
              "      <td>19964.000000</td>\n",
              "      <td>998.000000</td>\n",
              "      <td>225942.00000</td>\n",
              "      <td>998.000000</td>\n",
              "      <td>1.000000</td>\n",
              "      <td>1.000000</td>\n",
              "    </tr>\n",
              "  </tbody>\n",
              "</table>\n",
              "</div>"
            ],
            "text/plain": [
              "         max_degree  qtd_max_degree  ...      density  is_power_law\n",
              "count   3142.000000     3142.000000  ...  3142.000000   3142.000000\n",
              "mean    1271.745703     1215.934118  ...     0.105407      0.393380\n",
              "std     4384.808134     3078.931990  ...     0.251721      0.488578\n",
              "min        1.000000        1.000000  ...     0.000010      0.000000\n",
              "25%        5.000000        1.000000  ...     0.000295      0.000000\n",
              "50%       40.000000        1.000000  ...     0.000912      0.000000\n",
              "75%      363.750000      114.750000  ...     0.094033      1.000000\n",
              "max    26336.000000    19964.000000  ...     1.000000      1.000000\n",
              "\n",
              "[8 rows x 7 columns]"
            ]
          },
          "metadata": {},
          "execution_count": 5
        }
      ]
    },
    {
      "cell_type": "markdown",
      "metadata": {
        "id": "897K1xW5CjkY"
      },
      "source": [
        "### Separate Features (X) and Labels (y) "
      ]
    },
    {
      "cell_type": "code",
      "metadata": {
        "id": "QIY6dJdr9hb-"
      },
      "source": [
        "X = np.array(graph_df.drop(['is_power_law'], 1))\n",
        "y = np.array(graph_df['is_power_law'])"
      ],
      "execution_count": 6,
      "outputs": []
    },
    {
      "cell_type": "markdown",
      "metadata": {
        "id": "2VKz7ViaB1pK"
      },
      "source": [
        "### Features Correlation"
      ]
    },
    {
      "cell_type": "code",
      "metadata": {
        "colab": {
          "base_uri": "https://localhost:8080/",
          "height": 351
        },
        "id": "DmSqVk1ydSjL",
        "outputId": "86fc6a6b-f8e4-46ad-a0bb-d3f4ac0c7f4f"
      },
      "source": [
        "features_df = graph_df.drop(['is_power_law'], 1)\n",
        "sns.heatmap(features_df.corr(), annot=True)"
      ],
      "execution_count": 7,
      "outputs": [
        {
          "output_type": "execute_result",
          "data": {
            "text/plain": [
              "<matplotlib.axes._subplots.AxesSubplot at 0x7f3aca814f90>"
            ]
          },
          "metadata": {},
          "execution_count": 7
        },
        {
          "output_type": "display_data",
          "data": {
            "image/png": "[encoded data removed]",
            "text/plain": [
              "<Figure size 432x288 with 2 Axes>"
            ]
          },
          "metadata": {
            "needs_background": "light"
          }
        }
      ]
    },
    {
      "cell_type": "markdown",
      "metadata": {
        "id": "GYsO2LKHFBfE"
      },
      "source": [
        "# Number of Clusters: **2**"
      ]
    },
    {
      "cell_type": "markdown",
      "metadata": {
        "id": "NoJihnnFC7M2"
      },
      "source": [
        "### Create and Fit KMeans Model"
      ]
    },
    {
      "cell_type": "code",
      "metadata": {
        "id": "0UiQ1JubzTY3",
        "colab": {
          "base_uri": "https://localhost:8080/"
        },
        "outputId": "0b1c858a-64b3-4d05-8ce8-db31bb09432a"
      },
      "source": [
        "kmeans = KMeans(n_clusters=2)\n",
        "y_pred = kmeans.fit_predict(X)\n",
        "y_pred"
      ],
      "execution_count": 8,
      "outputs": [
        {
          "output_type": "execute_result",
          "data": {
            "text/plain": [
              "array([0, 0, 0, ..., 0, 1, 0], dtype=int32)"
            ]
          },
          "metadata": {},
          "execution_count": 8
        }
      ]
    },
    {
      "cell_type": "markdown",
      "metadata": {
        "id": "W2EXxBnVDIlB"
      },
      "source": [
        "Apparently, the model switched 1's and 0's. So we switch back again\n"
      ]
    },
    {
      "cell_type": "code",
      "metadata": {
        "colab": {
          "base_uri": "https://localhost:8080/"
        },
        "id": "0TgMdQT4-dI5",
        "outputId": "5d67ef36-627e-40f1-f1a2-d31c8b120d73"
      },
      "source": [
        "y_pred = [y_pred[x]*(-1) + 1 for x in range(len(y_pred))]\n",
        "np.array(y_pred)"
      ],
      "execution_count": 9,
      "outputs": [
        {
          "output_type": "execute_result",
          "data": {
            "text/plain": [
              "array([1, 1, 1, ..., 1, 0, 1])"
            ]
          },
          "metadata": {},
          "execution_count": 9
        }
      ]
    },
    {
      "cell_type": "markdown",
      "metadata": {
        "id": "TTAayIqWDtTd"
      },
      "source": [
        "Real Labels"
      ]
    },
    {
      "cell_type": "code",
      "metadata": {
        "colab": {
          "base_uri": "https://localhost:8080/"
        },
        "id": "eltA2JWc_UK_",
        "outputId": "0c0e6051-7800-4665-878b-fc52b52cdb53"
      },
      "source": [
        "y"
      ],
      "execution_count": 10,
      "outputs": [
        {
          "output_type": "execute_result",
          "data": {
            "text/plain": [
              "array([1, 1, 1, ..., 1, 1, 1])"
            ]
          },
          "metadata": {},
          "execution_count": 10
        }
      ]
    },
    {
      "cell_type": "markdown",
      "metadata": {
        "id": "L2dPXWp5Dvgt"
      },
      "source": [
        "### Compare Predictions List\n",
        "check the predictions that are right"
      ]
    },
    {
      "cell_type": "code",
      "metadata": {
        "colab": {
          "base_uri": "https://localhost:8080/"
        },
        "id": "QQ8-uuQ9Ahu3",
        "outputId": "863b3174-4642-40f8-fad0-4809b9c56e13"
      },
      "source": [
        "accuracy_list = [1 if y_pred[x] == y[x] else 0 for x in range(len(y))]\n",
        "np.array(accuracy_list)"
      ],
      "execution_count": 11,
      "outputs": [
        {
          "output_type": "execute_result",
          "data": {
            "text/plain": [
              "array([1, 1, 1, ..., 1, 0, 1])"
            ]
          },
          "metadata": {},
          "execution_count": 11
        }
      ]
    },
    {
      "cell_type": "markdown",
      "metadata": {
        "id": "ahVjeFs8D8Et"
      },
      "source": [
        "### Accuracy"
      ]
    },
    {
      "cell_type": "code",
      "metadata": {
        "colab": {
          "base_uri": "https://localhost:8080/"
        },
        "id": "Q4an9FfjBleJ",
        "outputId": "58204386-ca75-4396-fcc8-2b51de494489"
      },
      "source": [
        "sum(accuracy_list)/len(accuracy_list)"
      ],
      "execution_count": 12,
      "outputs": [
        {
          "output_type": "execute_result",
          "data": {
            "text/plain": [
              "0.3539147040101846"
            ]
          },
          "metadata": {},
          "execution_count": 12
        }
      ]
    },
    {
      "cell_type": "markdown",
      "metadata": {
        "id": "L6AQW6PKGUYh"
      },
      "source": [
        "percentage of graphs predicted as power-law"
      ]
    },
    {
      "cell_type": "code",
      "metadata": {
        "colab": {
          "base_uri": "https://localhost:8080/"
        },
        "id": "52hG3UV9GM7H",
        "outputId": "63ab0b7e-1287-4571-d743-f25217f81ecb"
      },
      "source": [
        "sum(y_pred)/len(y_pred)"
      ],
      "execution_count": 13,
      "outputs": [
        {
          "output_type": "execute_result",
          "data": {
            "text/plain": [
              "0.9605346912794398"
            ]
          },
          "metadata": {},
          "execution_count": 13
        }
      ]
    },
    {
      "cell_type": "markdown",
      "metadata": {
        "id": "nYh9Opb7EDMH"
      },
      "source": [
        "real percentage of power-law (dataset)"
      ]
    },
    {
      "cell_type": "code",
      "metadata": {
        "colab": {
          "base_uri": "https://localhost:8080/"
        },
        "id": "7h_PIINoCS8y",
        "outputId": "33f5e6d0-9bda-44a1-b9f6-2fc2a64661df"
      },
      "source": [
        "sum(y)/len(y)"
      ],
      "execution_count": 14,
      "outputs": [
        {
          "output_type": "execute_result",
          "data": {
            "text/plain": [
              "0.39338001273074474"
            ]
          },
          "metadata": {},
          "execution_count": 14
        }
      ]
    },
    {
      "cell_type": "markdown",
      "metadata": {
        "id": "1omVGykXNrx6"
      },
      "source": [
        "### Score"
      ]
    },
    {
      "cell_type": "code",
      "metadata": {
        "colab": {
          "base_uri": "https://localhost:8080/"
        },
        "id": "kNMxe-1jNrAM",
        "outputId": "cdd6cefc-6d89-4998-f00d-c985a36a1c96"
      },
      "source": [
        "silhouette_score(X, kmeans.labels_)"
      ],
      "execution_count": 15,
      "outputs": [
        {
          "output_type": "execute_result",
          "data": {
            "text/plain": [
              "0.837074325515682"
            ]
          },
          "metadata": {},
          "execution_count": 15
        }
      ]
    },
    {
      "cell_type": "markdown",
      "metadata": {
        "id": "zabLHEwSEayu"
      },
      "source": [
        "### Confusion Matrix"
      ]
    },
    {
      "cell_type": "markdown",
      "metadata": {
        "id": "u-BIj5pDEgvr"
      },
      "source": [
        "too much False Positive, maybe **Log-Normal** graphs cause this"
      ]
    },
    {
      "cell_type": "code",
      "metadata": {
        "colab": {
          "base_uri": "https://localhost:8080/",
          "height": 265
        },
        "id": "Fn7NzrVaCQ5U",
        "outputId": "c172ef32-8c0c-493e-abfe-164684ede5ac"
      },
      "source": [
        "cluster_conf_matrix = confusion_matrix(y, np.array(y_pred))\n",
        "plot_confusion_matrix(cluster_conf_matrix)"
      ],
      "execution_count": 16,
      "outputs": [
        {
          "output_type": "display_data",
          "data": {
            "image/png": "[encoded data removed]",
            "text/plain": [
              "<Figure size 432x288 with 2 Axes>"
            ]
          },
          "metadata": {
            "needs_background": "light"
          }
        }
      ]
    },
    {
      "cell_type": "markdown",
      "metadata": {
        "id": "Mgv2MxMEUe0d"
      },
      "source": [
        "# Finding the Best Number of Clusters"
      ]
    },
    {
      "cell_type": "markdown",
      "metadata": {
        "id": "rBxDHkhbPMN9"
      },
      "source": [
        "### Silhouette Visualizer"
      ]
    },
    {
      "cell_type": "code",
      "metadata": {
        "colab": {
          "base_uri": "https://localhost:8080/",
          "height": 917
        },
        "id": "rfQtWEHrPPYr",
        "outputId": "6c470d9e-557c-4aea-f647-d38a1faecf1b"
      },
      "source": [
        "fig, ax = plt.subplots(3, 2, figsize=(20,16))\n",
        "sscore = [] \n",
        "for i in [2, 3, 4, 5, 6, 7]:\n",
        "    '''\n",
        "    Create KMeans instance for different number of clusters\n",
        "    '''\n",
        "    km = KMeans(n_clusters=i)\n",
        "    q, mod = divmod(i, 2)\n",
        "\n",
        "    '''\n",
        "    Create SilhouetteVisualizer instance with KMeans instance\n",
        "    Fit the visualizer\n",
        "    '''\n",
        "    visualizer = SilhouetteVisualizer(km, colors='yellowbrick', ax=ax[q-1][mod])\n",
        "    visualizer.fit(X)\n",
        "    sscore.append(silhouette_score(X, km.labels_))"
      ],
      "execution_count": 17,
      "outputs": [
        {
          "output_type": "display_data",
          "data": {
            "image/png": "[encoded data removed]",
            "text/plain": [
              "<Figure size 1440x1152 with 6 Axes>"
            ]
          },
          "metadata": {
            "needs_background": "light"
          }
        }
      ]
    },
    {
      "cell_type": "code",
      "metadata": {
        "colab": {
          "base_uri": "https://localhost:8080/"
        },
        "id": "u3CJI2vsQqIF",
        "outputId": "de3b4d57-12a5-496f-df8d-9168adebf5d0"
      },
      "source": [
        "sscore"
      ],
      "execution_count": 18,
      "outputs": [
        {
          "output_type": "execute_result",
          "data": {
            "text/plain": [
              "[0.837074325515682,\n",
              " 0.8216620209707064,\n",
              " 0.8238927865855463,\n",
              " 0.6994312652096545,\n",
              " 0.705018012459401,\n",
              " 0.5699256710193676]"
            ]
          },
          "metadata": {},
          "execution_count": 18
        }
      ]
    },
    {
      "cell_type": "code",
      "metadata": {
        "colab": {
          "base_uri": "https://localhost:8080/",
          "height": 324
        },
        "id": "UFXETY4SQtV5",
        "outputId": "c6dd2fc1-48c6-452f-8832-21c2a57e17d7"
      },
      "source": [
        "sns.lineplot([2, 3, 4, 5, 6, 7], sscore)\n",
        "plt.show()"
      ],
      "execution_count": 19,
      "outputs": [
        {
          "output_type": "stream",
          "name": "stderr",
          "text": [
            "/usr/local/lib/python3.7/dist-packages/seaborn/_decorators.py:43: FutureWarning: Pass the following variables as keyword args: x, y. From version 0.12, the only valid positional argument will be `data`, and passing other arguments without an explicit keyword will result in an error or misinterpretation.\n",
            "  FutureWarning\n"
          ]
        },
        {
          "output_type": "display_data",
          "data": {
            "image/png": "[encoded data removed]",
            "text/plain": [
              "<Figure size 432x288 with 1 Axes>"
            ]
          },
          "metadata": {
            "needs_background": "light"
          }
        }
      ]
    },
    {
      "cell_type": "markdown",
      "metadata": {
        "id": "qPMd3OIuQLpu"
      },
      "source": [
        "### Param Grid"
      ]
    },
    {
      "cell_type": "code",
      "metadata": {
        "colab": {
          "base_uri": "https://localhost:8080/"
        },
        "id": "Jii5o3YtQupA",
        "outputId": "ff144f7c-9c53-43cc-af09-5d91331feddc"
      },
      "source": [
        "pipeline = Pipeline([\n",
        "  (\"kmeans\", KMeans(n_clusters=10)),\n",
        "  (\"knn\", KNeighborsClassifier()),\n",
        "])\n",
        "pipeline.fit(X, y)"
      ],
      "execution_count": 20,
      "outputs": [
        {
          "output_type": "execute_result",
          "data": {
            "text/plain": [
              "Pipeline(memory=None,\n",
              "         steps=[('kmeans',\n",
              "                 KMeans(algorithm='auto', copy_x=True, init='k-means++',\n",
              "                        max_iter=300, n_clusters=10, n_init=10, n_jobs=None,\n",
              "                        precompute_distances='auto', random_state=None,\n",
              "                        tol=0.0001, verbose=0)),\n",
              "                ('knn',\n",
              "                 KNeighborsClassifier(algorithm='auto', leaf_size=30,\n",
              "                                      metric='minkowski', metric_params=None,\n",
              "                                      n_jobs=None, n_neighbors=5, p=2,\n",
              "                                      weights='uniform'))],\n",
              "         verbose=False)"
            ]
          },
          "metadata": {},
          "execution_count": 20
        }
      ]
    },
    {
      "cell_type": "code",
      "metadata": {
        "colab": {
          "base_uri": "https://localhost:8080/"
        },
        "id": "zPVjVGCQQSxr",
        "outputId": "f0e40cce-20b9-48b8-830f-e0c543e504f0"
      },
      "source": [
        "param_grid = dict(kmeans__n_clusters=range(2, 20))\n",
        "grid_clf = GridSearchCV(pipeline, param_grid, cv=3, verbose=2)\n",
        "grid_clf.fit(X, y)"
      ],
      "execution_count": 21,
      "outputs": [
        {
          "output_type": "stream",
          "name": "stdout",
          "text": [
            "Fitting 3 folds for each of 18 candidates, totalling 54 fits\n",
            "[CV] kmeans__n_clusters=2 ............................................\n",
            "[CV] ............................. kmeans__n_clusters=2, total=   0.1s\n",
            "[CV] kmeans__n_clusters=2 ............................................\n",
            "[CV] ............................. kmeans__n_clusters=2, total=   0.1s\n",
            "[CV] kmeans__n_clusters=2 ............................................\n"
          ]
        },
        {
          "output_type": "stream",
          "name": "stderr",
          "text": [
            "[Parallel(n_jobs=1)]: Using backend SequentialBackend with 1 concurrent workers.\n",
            "[Parallel(n_jobs=1)]: Done   1 out of   1 | elapsed:    0.1s remaining:    0.0s\n"
          ]
        },
        {
          "output_type": "stream",
          "name": "stdout",
          "text": [
            "[CV] ............................. kmeans__n_clusters=2, total=   0.1s\n",
            "[CV] kmeans__n_clusters=3 ............................................\n",
            "[CV] ............................. kmeans__n_clusters=3, total=   0.1s\n",
            "[CV] kmeans__n_clusters=3 ............................................\n",
            "[CV] ............................. kmeans__n_clusters=3, total=   0.1s\n",
            "[CV] kmeans__n_clusters=3 ............................................\n",
            "[CV] ............................. kmeans__n_clusters=3, total=   0.1s\n",
            "[CV] kmeans__n_clusters=4 ............................................\n",
            "[CV] ............................. kmeans__n_clusters=4, total=   0.1s\n",
            "[CV] kmeans__n_clusters=4 ............................................\n",
            "[CV] ............................. kmeans__n_clusters=4, total=   0.1s\n",
            "[CV] kmeans__n_clusters=4 ............................................\n",
            "[CV] ............................. kmeans__n_clusters=4, total=   0.1s\n",
            "[CV] kmeans__n_clusters=5 ............................................\n",
            "[CV] ............................. kmeans__n_clusters=5, total=   0.1s\n",
            "[CV] kmeans__n_clusters=5 ............................................\n",
            "[CV] ............................. kmeans__n_clusters=5, total=   0.1s\n",
            "[CV] kmeans__n_clusters=5 ............................................\n",
            "[CV] ............................. kmeans__n_clusters=5, total=   0.2s\n",
            "[CV] kmeans__n_clusters=6 ............................................\n",
            "[CV] ............................. kmeans__n_clusters=6, total=   0.2s\n",
            "[CV] kmeans__n_clusters=6 ............................................\n",
            "[CV] ............................. kmeans__n_clusters=6, total=   0.1s\n",
            "[CV] kmeans__n_clusters=6 ............................................\n",
            "[CV] ............................. kmeans__n_clusters=6, total=   0.2s\n",
            "[CV] kmeans__n_clusters=7 ............................................\n",
            "[CV] ............................. kmeans__n_clusters=7, total=   0.2s\n",
            "[CV] kmeans__n_clusters=7 ............................................\n",
            "[CV] ............................. kmeans__n_clusters=7, total=   0.2s\n",
            "[CV] kmeans__n_clusters=7 ............................................\n",
            "[CV] ............................. kmeans__n_clusters=7, total=   0.2s\n",
            "[CV] kmeans__n_clusters=8 ............................................\n",
            "[CV] ............................. kmeans__n_clusters=8, total=   0.2s\n",
            "[CV] kmeans__n_clusters=8 ............................................\n",
            "[CV] ............................. kmeans__n_clusters=8, total=   0.2s\n",
            "[CV] kmeans__n_clusters=8 ............................................\n",
            "[CV] ............................. kmeans__n_clusters=8, total=   0.2s\n",
            "[CV] kmeans__n_clusters=9 ............................................\n",
            "[CV] ............................. kmeans__n_clusters=9, total=   0.2s\n",
            "[CV] kmeans__n_clusters=9 ............................................\n",
            "[CV] ............................. kmeans__n_clusters=9, total=   0.2s\n",
            "[CV] kmeans__n_clusters=9 ............................................\n",
            "[CV] ............................. kmeans__n_clusters=9, total=   0.2s\n",
            "[CV] kmeans__n_clusters=10 ...........................................\n",
            "[CV] ............................ kmeans__n_clusters=10, total=   0.2s\n",
            "[CV] kmeans__n_clusters=10 ...........................................\n",
            "[CV] ............................ kmeans__n_clusters=10, total=   0.2s\n",
            "[CV] kmeans__n_clusters=10 ...........................................\n",
            "[CV] ............................ kmeans__n_clusters=10, total=   0.2s\n",
            "[CV] kmeans__n_clusters=11 ...........................................\n",
            "[CV] ............................ kmeans__n_clusters=11, total=   0.2s\n",
            "[CV] kmeans__n_clusters=11 ...........................................\n",
            "[CV] ............................ kmeans__n_clusters=11, total=   0.2s\n",
            "[CV] kmeans__n_clusters=11 ...........................................\n",
            "[CV] ............................ kmeans__n_clusters=11, total=   0.2s\n",
            "[CV] kmeans__n_clusters=12 ...........................................\n",
            "[CV] ............................ kmeans__n_clusters=12, total=   0.2s\n",
            "[CV] kmeans__n_clusters=12 ...........................................\n",
            "[CV] ............................ kmeans__n_clusters=12, total=   0.2s\n",
            "[CV] kmeans__n_clusters=12 ...........................................\n",
            "[CV] ............................ kmeans__n_clusters=12, total=   0.3s\n",
            "[CV] kmeans__n_clusters=13 ...........................................\n",
            "[CV] ............................ kmeans__n_clusters=13, total=   0.2s\n",
            "[CV] kmeans__n_clusters=13 ...........................................\n",
            "[CV] ............................ kmeans__n_clusters=13, total=   0.2s\n",
            "[CV] kmeans__n_clusters=13 ...........................................\n",
            "[CV] ............................ kmeans__n_clusters=13, total=   0.3s\n",
            "[CV] kmeans__n_clusters=14 ...........................................\n",
            "[CV] ............................ kmeans__n_clusters=14, total=   0.3s\n",
            "[CV] kmeans__n_clusters=14 ...........................................\n",
            "[CV] ............................ kmeans__n_clusters=14, total=   0.2s\n",
            "[CV] kmeans__n_clusters=14 ...........................................\n",
            "[CV] ............................ kmeans__n_clusters=14, total=   0.2s\n",
            "[CV] kmeans__n_clusters=15 ...........................................\n",
            "[CV] ............................ kmeans__n_clusters=15, total=   0.3s\n",
            "[CV] kmeans__n_clusters=15 ...........................................\n",
            "[CV] ............................ kmeans__n_clusters=15, total=   0.3s\n",
            "[CV] kmeans__n_clusters=15 ...........................................\n",
            "[CV] ............................ kmeans__n_clusters=15, total=   0.3s\n",
            "[CV] kmeans__n_clusters=16 ...........................................\n",
            "[CV] ............................ kmeans__n_clusters=16, total=   0.3s\n",
            "[CV] kmeans__n_clusters=16 ...........................................\n",
            "[CV] ............................ kmeans__n_clusters=16, total=   0.3s\n",
            "[CV] kmeans__n_clusters=16 ...........................................\n",
            "[CV] ............................ kmeans__n_clusters=16, total=   0.3s\n",
            "[CV] kmeans__n_clusters=17 ...........................................\n",
            "[CV] ............................ kmeans__n_clusters=17, total=   0.3s\n",
            "[CV] kmeans__n_clusters=17 ...........................................\n",
            "[CV] ............................ kmeans__n_clusters=17, total=   0.3s\n",
            "[CV] kmeans__n_clusters=17 ...........................................\n",
            "[CV] ............................ kmeans__n_clusters=17, total=   0.4s\n",
            "[CV] kmeans__n_clusters=18 ...........................................\n",
            "[CV] ............................ kmeans__n_clusters=18, total=   0.3s\n",
            "[CV] kmeans__n_clusters=18 ...........................................\n",
            "[CV] ............................ kmeans__n_clusters=18, total=   0.3s\n",
            "[CV] kmeans__n_clusters=18 ...........................................\n",
            "[CV] ............................ kmeans__n_clusters=18, total=   0.3s\n",
            "[CV] kmeans__n_clusters=19 ...........................................\n",
            "[CV] ............................ kmeans__n_clusters=19, total=   0.3s\n",
            "[CV] kmeans__n_clusters=19 ...........................................\n",
            "[CV] ............................ kmeans__n_clusters=19, total=   0.3s\n",
            "[CV] kmeans__n_clusters=19 ...........................................\n",
            "[CV] ............................ kmeans__n_clusters=19, total=   0.4s\n"
          ]
        },
        {
          "output_type": "stream",
          "name": "stderr",
          "text": [
            "[Parallel(n_jobs=1)]: Done  54 out of  54 | elapsed:   12.0s finished\n"
          ]
        },
        {
          "output_type": "execute_result",
          "data": {
            "text/plain": [
              "GridSearchCV(cv=3, error_score=nan,\n",
              "             estimator=Pipeline(memory=None,\n",
              "                                steps=[('kmeans',\n",
              "                                        KMeans(algorithm='auto', copy_x=True,\n",
              "                                               init='k-means++', max_iter=300,\n",
              "                                               n_clusters=10, n_init=10,\n",
              "                                               n_jobs=None,\n",
              "                                               precompute_distances='auto',\n",
              "                                               random_state=None, tol=0.0001,\n",
              "                                               verbose=0)),\n",
              "                                       ('knn',\n",
              "                                        KNeighborsClassifier(algorithm='auto',\n",
              "                                                             leaf_size=30,\n",
              "                                                             metric='minkowski',\n",
              "                                                             metric_params=None,\n",
              "                                                             n_jobs=None,\n",
              "                                                             n_neighbors=5, p=2,\n",
              "                                                             weights='uniform'))],\n",
              "                                verbose=False),\n",
              "             iid='deprecated', n_jobs=None,\n",
              "             param_grid={'kmeans__n_clusters': range(2, 20)},\n",
              "             pre_dispatch='2*n_jobs', refit=True, return_train_score=False,\n",
              "             scoring=None, verbose=2)"
            ]
          },
          "metadata": {},
          "execution_count": 21
        }
      ]
    },
    {
      "cell_type": "code",
      "metadata": {
        "colab": {
          "base_uri": "https://localhost:8080/"
        },
        "id": "re5cmwMpQZLz",
        "outputId": "98e746d0-5044-4330-bef6-5a889a8ce84d"
      },
      "source": [
        "grid_clf.best_params_"
      ],
      "execution_count": 22,
      "outputs": [
        {
          "output_type": "execute_result",
          "data": {
            "text/plain": [
              "{'kmeans__n_clusters': 14}"
            ]
          },
          "metadata": {},
          "execution_count": 22
        }
      ]
    },
    {
      "cell_type": "code",
      "metadata": {
        "colab": {
          "base_uri": "https://localhost:8080/"
        },
        "id": "oin8BOwPRRrN",
        "outputId": "6203ffa1-5365-45c5-e75d-b669a490261b"
      },
      "source": [
        "grid_clf.score(X, y)"
      ],
      "execution_count": 23,
      "outputs": [
        {
          "output_type": "execute_result",
          "data": {
            "text/plain": [
              "0.9898154042011458"
            ]
          },
          "metadata": {},
          "execution_count": 23
        }
      ]
    },
    {
      "cell_type": "markdown",
      "metadata": {
        "id": "F_oyKe7F0uSl"
      },
      "source": [
        "# Getting the Graph Type"
      ]
    },
    {
      "cell_type": "code",
      "metadata": {
        "colab": {
          "base_uri": "https://localhost:8080/",
          "height": 206
        },
        "id": "IJoyYZLi0t5D",
        "outputId": "cc4e78be-01e3-4a3a-9fd7-f049f33a79ee"
      },
      "source": [
        "graph_type_df = pd.read_csv('https://gitlab.com/viniciusmioto/m_learning_graphs/-/raw/master/data/labels.csv')\n",
        "graph_type_df.head()"
      ],
      "execution_count": 24,
      "outputs": [
        {
          "output_type": "execute_result",
          "data": {
            "text/html": [
              "<div>\n",
              "<style scoped>\n",
              "    .dataframe tbody tr th:only-of-type {\n",
              "        vertical-align: middle;\n",
              "    }\n",
              "\n",
              "    .dataframe tbody tr th {\n",
              "        vertical-align: top;\n",
              "    }\n",
              "\n",
              "    .dataframe thead th {\n",
              "        text-align: right;\n",
              "    }\n",
              "</style>\n",
              "<table border=\"1\" class=\"dataframe\">\n",
              "  <thead>\n",
              "    <tr style=\"text-align: right;\">\n",
              "      <th></th>\n",
              "      <th>type</th>\n",
              "      <th>is_power_law</th>\n",
              "    </tr>\n",
              "  </thead>\n",
              "  <tbody>\n",
              "    <tr>\n",
              "      <th>0</th>\n",
              "      <td>ba</td>\n",
              "      <td>1</td>\n",
              "    </tr>\n",
              "    <tr>\n",
              "      <th>1</th>\n",
              "      <td>ba</td>\n",
              "      <td>1</td>\n",
              "    </tr>\n",
              "    <tr>\n",
              "      <th>2</th>\n",
              "      <td>ba</td>\n",
              "      <td>1</td>\n",
              "    </tr>\n",
              "    <tr>\n",
              "      <th>3</th>\n",
              "      <td>ba</td>\n",
              "      <td>1</td>\n",
              "    </tr>\n",
              "    <tr>\n",
              "      <th>4</th>\n",
              "      <td>ba</td>\n",
              "      <td>1</td>\n",
              "    </tr>\n",
              "  </tbody>\n",
              "</table>\n",
              "</div>"
            ],
            "text/plain": [
              "  type   is_power_law\n",
              "0   ba              1\n",
              "1   ba              1\n",
              "2   ba              1\n",
              "3   ba              1\n",
              "4   ba              1"
            ]
          },
          "metadata": {},
          "execution_count": 24
        }
      ]
    },
    {
      "cell_type": "code",
      "metadata": {
        "colab": {
          "base_uri": "https://localhost:8080/",
          "height": 279
        },
        "id": "hPrOaT64akVz",
        "outputId": "d873c81d-b01b-4453-b234-4420f8824288"
      },
      "source": [
        "ax = sns.countplot(y=\"type\", data=graph_type_df)"
      ],
      "execution_count": 25,
      "outputs": [
        {
          "output_type": "display_data",
          "data": {
            "image/png": "[encoded data removed]",
            "text/plain": [
              "<Figure size 432x288 with 1 Axes>"
            ]
          },
          "metadata": {
            "needs_background": "light"
          }
        }
      ]
    },
    {
      "cell_type": "code",
      "metadata": {
        "colab": {
          "base_uri": "https://localhost:8080/",
          "height": 423
        },
        "id": "jcpJty8t08Xx",
        "outputId": "b55280b8-35cd-48d8-adb1-a56bb11589ca"
      },
      "source": [
        "features_df['type'] = graph_type_df['type'].copy()\n",
        "features_df"
      ],
      "execution_count": 26,
      "outputs": [
        {
          "output_type": "execute_result",
          "data": {
            "text/html": [
              "<div>\n",
              "<style scoped>\n",
              "    .dataframe tbody tr th:only-of-type {\n",
              "        vertical-align: middle;\n",
              "    }\n",
              "\n",
              "    .dataframe tbody tr th {\n",
              "        vertical-align: top;\n",
              "    }\n",
              "\n",
              "    .dataframe thead th {\n",
              "        text-align: right;\n",
              "    }\n",
              "</style>\n",
              "<table border=\"1\" class=\"dataframe\">\n",
              "  <thead>\n",
              "    <tr style=\"text-align: right;\">\n",
              "      <th></th>\n",
              "      <th>max_degree</th>\n",
              "      <th>qtd_max_degree</th>\n",
              "      <th>min_degree</th>\n",
              "      <th>qtd_min_degree</th>\n",
              "      <th>avg_degree</th>\n",
              "      <th>density</th>\n",
              "      <th>type</th>\n",
              "    </tr>\n",
              "  </thead>\n",
              "  <tbody>\n",
              "    <tr>\n",
              "      <th>0</th>\n",
              "      <td>246</td>\n",
              "      <td>1</td>\n",
              "      <td>3</td>\n",
              "      <td>3391</td>\n",
              "      <td>5.997885</td>\n",
              "      <td>0.000705</td>\n",
              "      <td>ba</td>\n",
              "    </tr>\n",
              "    <tr>\n",
              "      <th>1</th>\n",
              "      <td>176</td>\n",
              "      <td>1</td>\n",
              "      <td>3</td>\n",
              "      <td>1503</td>\n",
              "      <td>5.995263</td>\n",
              "      <td>0.001578</td>\n",
              "      <td>ba</td>\n",
              "    </tr>\n",
              "    <tr>\n",
              "      <th>2</th>\n",
              "      <td>379</td>\n",
              "      <td>1</td>\n",
              "      <td>5</td>\n",
              "      <td>2385</td>\n",
              "      <td>9.993983</td>\n",
              "      <td>0.001203</td>\n",
              "      <td>ba</td>\n",
              "    </tr>\n",
              "    <tr>\n",
              "      <th>3</th>\n",
              "      <td>142</td>\n",
              "      <td>1</td>\n",
              "      <td>2</td>\n",
              "      <td>1982</td>\n",
              "      <td>3.997970</td>\n",
              "      <td>0.001015</td>\n",
              "      <td>ba</td>\n",
              "    </tr>\n",
              "    <tr>\n",
              "      <th>4</th>\n",
              "      <td>398</td>\n",
              "      <td>1</td>\n",
              "      <td>5</td>\n",
              "      <td>2710</td>\n",
              "      <td>9.994828</td>\n",
              "      <td>0.001034</td>\n",
              "      <td>ba</td>\n",
              "    </tr>\n",
              "    <tr>\n",
              "      <th>...</th>\n",
              "      <td>...</td>\n",
              "      <td>...</td>\n",
              "      <td>...</td>\n",
              "      <td>...</td>\n",
              "      <td>...</td>\n",
              "      <td>...</td>\n",
              "      <td>...</td>\n",
              "    </tr>\n",
              "    <tr>\n",
              "      <th>3137</th>\n",
              "      <td>504</td>\n",
              "      <td>1</td>\n",
              "      <td>1</td>\n",
              "      <td>1281</td>\n",
              "      <td>21.106968</td>\n",
              "      <td>0.001124</td>\n",
              "      <td>physics</td>\n",
              "    </tr>\n",
              "    <tr>\n",
              "      <th>3138</th>\n",
              "      <td>281</td>\n",
              "      <td>1</td>\n",
              "      <td>1</td>\n",
              "      <td>2373</td>\n",
              "      <td>8.083431</td>\n",
              "      <td>0.000349</td>\n",
              "      <td>physics</td>\n",
              "    </tr>\n",
              "    <tr>\n",
              "      <th>3139</th>\n",
              "      <td>65</td>\n",
              "      <td>1</td>\n",
              "      <td>1</td>\n",
              "      <td>2108</td>\n",
              "      <td>5.264352</td>\n",
              "      <td>0.000533</td>\n",
              "      <td>physics</td>\n",
              "    </tr>\n",
              "    <tr>\n",
              "      <th>3140</th>\n",
              "      <td>7636</td>\n",
              "      <td>1</td>\n",
              "      <td>1</td>\n",
              "      <td>225942</td>\n",
              "      <td>2.756793</td>\n",
              "      <td>0.000010</td>\n",
              "      <td>email</td>\n",
              "    </tr>\n",
              "    <tr>\n",
              "      <th>3141</th>\n",
              "      <td>2752</td>\n",
              "      <td>1</td>\n",
              "      <td>1</td>\n",
              "      <td>11627</td>\n",
              "      <td>12.114251</td>\n",
              "      <td>0.000030</td>\n",
              "      <td>amazon</td>\n",
              "    </tr>\n",
              "  </tbody>\n",
              "</table>\n",
              "<p>3142 rows × 7 columns</p>\n",
              "</div>"
            ],
            "text/plain": [
              "      max_degree  qtd_max_degree  min_degree  ...  avg_degree   density     type\n",
              "0            246               1           3  ...    5.997885  0.000705       ba\n",
              "1            176               1           3  ...    5.995263  0.001578       ba\n",
              "2            379               1           5  ...    9.993983  0.001203       ba\n",
              "3            142               1           2  ...    3.997970  0.001015       ba\n",
              "4            398               1           5  ...    9.994828  0.001034       ba\n",
              "...          ...             ...         ...  ...         ...       ...      ...\n",
              "3137         504               1           1  ...   21.106968  0.001124  physics\n",
              "3138         281               1           1  ...    8.083431  0.000349  physics\n",
              "3139          65               1           1  ...    5.264352  0.000533  physics\n",
              "3140        7636               1           1  ...    2.756793  0.000010    email\n",
              "3141        2752               1           1  ...   12.114251  0.000030   amazon\n",
              "\n",
              "[3142 rows x 7 columns]"
            ]
          },
          "metadata": {},
          "execution_count": 26
        }
      ]
    },
    {
      "cell_type": "markdown",
      "metadata": {
        "id": "tRDD96sfLixv"
      },
      "source": [
        "# How Did the Cluster Separate the Graphs?"
      ]
    },
    {
      "cell_type": "markdown",
      "metadata": {
        "id": "XNKSfj2GVOwU"
      },
      "source": [
        "### 2 Clusters"
      ]
    },
    {
      "cell_type": "code",
      "metadata": {
        "colab": {
          "base_uri": "https://localhost:8080/",
          "height": 423
        },
        "id": "keS-MXFiLoSU",
        "outputId": "d306c185-5b46-47d8-d9f0-9a69be188178"
      },
      "source": [
        "cluster_pred_df = features_df.copy()\n",
        "cluster_pred_df['prediction'] = y_pred\n",
        "cluster_pred_df"
      ],
      "execution_count": 27,
      "outputs": [
        {
          "output_type": "execute_result",
          "data": {
            "text/html": [
              "<div>\n",
              "<style scoped>\n",
              "    .dataframe tbody tr th:only-of-type {\n",
              "        vertical-align: middle;\n",
              "    }\n",
              "\n",
              "    .dataframe tbody tr th {\n",
              "        vertical-align: top;\n",
              "    }\n",
              "\n",
              "    .dataframe thead th {\n",
              "        text-align: right;\n",
              "    }\n",
              "</style>\n",
              "<table border=\"1\" class=\"dataframe\">\n",
              "  <thead>\n",
              "    <tr style=\"text-align: right;\">\n",
              "      <th></th>\n",
              "      <th>max_degree</th>\n",
              "      <th>qtd_max_degree</th>\n",
              "      <th>min_degree</th>\n",
              "      <th>qtd_min_degree</th>\n",
              "      <th>avg_degree</th>\n",
              "      <th>density</th>\n",
              "      <th>type</th>\n",
              "      <th>prediction</th>\n",
              "    </tr>\n",
              "  </thead>\n",
              "  <tbody>\n",
              "    <tr>\n",
              "      <th>0</th>\n",
              "      <td>246</td>\n",
              "      <td>1</td>\n",
              "      <td>3</td>\n",
              "      <td>3391</td>\n",
              "      <td>5.997885</td>\n",
              "      <td>0.000705</td>\n",
              "      <td>ba</td>\n",
              "      <td>1</td>\n",
              "    </tr>\n",
              "    <tr>\n",
              "      <th>1</th>\n",
              "      <td>176</td>\n",
              "      <td>1</td>\n",
              "      <td>3</td>\n",
              "      <td>1503</td>\n",
              "      <td>5.995263</td>\n",
              "      <td>0.001578</td>\n",
              "      <td>ba</td>\n",
              "      <td>1</td>\n",
              "    </tr>\n",
              "    <tr>\n",
              "      <th>2</th>\n",
              "      <td>379</td>\n",
              "      <td>1</td>\n",
              "      <td>5</td>\n",
              "      <td>2385</td>\n",
              "      <td>9.993983</td>\n",
              "      <td>0.001203</td>\n",
              "      <td>ba</td>\n",
              "      <td>1</td>\n",
              "    </tr>\n",
              "    <tr>\n",
              "      <th>3</th>\n",
              "      <td>142</td>\n",
              "      <td>1</td>\n",
              "      <td>2</td>\n",
              "      <td>1982</td>\n",
              "      <td>3.997970</td>\n",
              "      <td>0.001015</td>\n",
              "      <td>ba</td>\n",
              "      <td>1</td>\n",
              "    </tr>\n",
              "    <tr>\n",
              "      <th>4</th>\n",
              "      <td>398</td>\n",
              "      <td>1</td>\n",
              "      <td>5</td>\n",
              "      <td>2710</td>\n",
              "      <td>9.994828</td>\n",
              "      <td>0.001034</td>\n",
              "      <td>ba</td>\n",
              "      <td>1</td>\n",
              "    </tr>\n",
              "    <tr>\n",
              "      <th>...</th>\n",
              "      <td>...</td>\n",
              "      <td>...</td>\n",
              "      <td>...</td>\n",
              "      <td>...</td>\n",
              "      <td>...</td>\n",
              "      <td>...</td>\n",
              "      <td>...</td>\n",
              "      <td>...</td>\n",
              "    </tr>\n",
              "    <tr>\n",
              "      <th>3137</th>\n",
              "      <td>504</td>\n",
              "      <td>1</td>\n",
              "      <td>1</td>\n",
              "      <td>1281</td>\n",
              "      <td>21.106968</td>\n",
              "      <td>0.001124</td>\n",
              "      <td>physics</td>\n",
              "      <td>1</td>\n",
              "    </tr>\n",
              "    <tr>\n",
              "      <th>3138</th>\n",
              "      <td>281</td>\n",
              "      <td>1</td>\n",
              "      <td>1</td>\n",
              "      <td>2373</td>\n",
              "      <td>8.083431</td>\n",
              "      <td>0.000349</td>\n",
              "      <td>physics</td>\n",
              "      <td>1</td>\n",
              "    </tr>\n",
              "    <tr>\n",
              "      <th>3139</th>\n",
              "      <td>65</td>\n",
              "      <td>1</td>\n",
              "      <td>1</td>\n",
              "      <td>2108</td>\n",
              "      <td>5.264352</td>\n",
              "      <td>0.000533</td>\n",
              "      <td>physics</td>\n",
              "      <td>1</td>\n",
              "    </tr>\n",
              "    <tr>\n",
              "      <th>3140</th>\n",
              "      <td>7636</td>\n",
              "      <td>1</td>\n",
              "      <td>1</td>\n",
              "      <td>225942</td>\n",
              "      <td>2.756793</td>\n",
              "      <td>0.000010</td>\n",
              "      <td>email</td>\n",
              "      <td>0</td>\n",
              "    </tr>\n",
              "    <tr>\n",
              "      <th>3141</th>\n",
              "      <td>2752</td>\n",
              "      <td>1</td>\n",
              "      <td>1</td>\n",
              "      <td>11627</td>\n",
              "      <td>12.114251</td>\n",
              "      <td>0.000030</td>\n",
              "      <td>amazon</td>\n",
              "      <td>1</td>\n",
              "    </tr>\n",
              "  </tbody>\n",
              "</table>\n",
              "<p>3142 rows × 8 columns</p>\n",
              "</div>"
            ],
            "text/plain": [
              "      max_degree  qtd_max_degree  min_degree  ...   density     type  prediction\n",
              "0            246               1           3  ...  0.000705       ba           1\n",
              "1            176               1           3  ...  0.001578       ba           1\n",
              "2            379               1           5  ...  0.001203       ba           1\n",
              "3            142               1           2  ...  0.001015       ba           1\n",
              "4            398               1           5  ...  0.001034       ba           1\n",
              "...          ...             ...         ...  ...       ...      ...         ...\n",
              "3137         504               1           1  ...  0.001124  physics           1\n",
              "3138         281               1           1  ...  0.000349  physics           1\n",
              "3139          65               1           1  ...  0.000533  physics           1\n",
              "3140        7636               1           1  ...  0.000010    email           0\n",
              "3141        2752               1           1  ...  0.000030   amazon           1\n",
              "\n",
              "[3142 rows x 8 columns]"
            ]
          },
          "metadata": {},
          "execution_count": 27
        }
      ]
    },
    {
      "cell_type": "code",
      "metadata": {
        "colab": {
          "base_uri": "https://localhost:8080/"
        },
        "id": "73ogPLYwObUw",
        "outputId": "a1291f02-100f-4e62-b650-c037373453b5"
      },
      "source": [
        "cluster_pred_df[['type', 'prediction']].value_counts()"
      ],
      "execution_count": 28,
      "outputs": [
        {
          "output_type": "execute_result",
          "data": {
            "text/plain": [
              "type      prediction\n",
              "enzyme    1             600\n",
              "ba        1             599\n",
              "ln        1             300\n",
              "sf        1             200\n",
              "gr        1             200\n",
              "rg        1             200\n",
              "co        1             200\n",
              "pc        1             178\n",
              "pt        1             150\n",
              "ld        1             150\n",
              "caida     1             122\n",
              "pc        0             122\n",
              "cy        1             100\n",
              "gnutella  1               8\n",
              "brain     1               6\n",
              "physics   1               3\n",
              "gnutella  0               1\n",
              "email     0               1\n",
              "eurosis   1               1\n",
              "amazon    1               1\n",
              "dtype: int64"
            ]
          },
          "metadata": {},
          "execution_count": 28
        }
      ]
    },
    {
      "cell_type": "code",
      "metadata": {
        "colab": {
          "base_uri": "https://localhost:8080/",
          "height": 506
        },
        "id": "crRz4CvFWhwT",
        "outputId": "c37e6982-c047-4ffa-f271-35017a2d7656"
      },
      "source": [
        "sns.set(rc={\"figure.figsize\":(10, 8)}) #width=10, height=8\n",
        "ax = sns.countplot(y=\"type\", hue=\"prediction\", data=cluster_pred_df)"
      ],
      "execution_count": 29,
      "outputs": [
        {
          "output_type": "display_data",
          "data": {
            "image/png": "[encoded data removed]",
            "text/plain": [
              "<Figure size 720x576 with 1 Axes>"
            ]
          },
          "metadata": {}
        }
      ]
    },
    {
      "cell_type": "markdown",
      "metadata": {
        "id": "wL2ZjF0iYLhl"
      },
      "source": [
        "### 3 Clusters"
      ]
    },
    {
      "cell_type": "code",
      "metadata": {
        "colab": {
          "base_uri": "https://localhost:8080/",
          "height": 423
        },
        "id": "kPjvjys2YLHm",
        "outputId": "e76c2797-a421-4646-afef-4c8908cf0151"
      },
      "source": [
        "kmeans_3 = KMeans(n_clusters=3)\n",
        "y_pred_3 = kmeans_3.fit_predict(X)\n",
        "cluster_pred_3_df = features_df.copy()\n",
        "cluster_pred_3_df['prediction_3'] = y_pred_3\n",
        "cluster_pred_3_df"
      ],
      "execution_count": 30,
      "outputs": [
        {
          "output_type": "execute_result",
          "data": {
            "text/html": [
              "<div>\n",
              "<style scoped>\n",
              "    .dataframe tbody tr th:only-of-type {\n",
              "        vertical-align: middle;\n",
              "    }\n",
              "\n",
              "    .dataframe tbody tr th {\n",
              "        vertical-align: top;\n",
              "    }\n",
              "\n",
              "    .dataframe thead th {\n",
              "        text-align: right;\n",
              "    }\n",
              "</style>\n",
              "<table border=\"1\" class=\"dataframe\">\n",
              "  <thead>\n",
              "    <tr style=\"text-align: right;\">\n",
              "      <th></th>\n",
              "      <th>max_degree</th>\n",
              "      <th>qtd_max_degree</th>\n",
              "      <th>min_degree</th>\n",
              "      <th>qtd_min_degree</th>\n",
              "      <th>avg_degree</th>\n",
              "      <th>density</th>\n",
              "      <th>type</th>\n",
              "      <th>prediction_3</th>\n",
              "    </tr>\n",
              "  </thead>\n",
              "  <tbody>\n",
              "    <tr>\n",
              "      <th>0</th>\n",
              "      <td>246</td>\n",
              "      <td>1</td>\n",
              "      <td>3</td>\n",
              "      <td>3391</td>\n",
              "      <td>5.997885</td>\n",
              "      <td>0.000705</td>\n",
              "      <td>ba</td>\n",
              "      <td>0</td>\n",
              "    </tr>\n",
              "    <tr>\n",
              "      <th>1</th>\n",
              "      <td>176</td>\n",
              "      <td>1</td>\n",
              "      <td>3</td>\n",
              "      <td>1503</td>\n",
              "      <td>5.995263</td>\n",
              "      <td>0.001578</td>\n",
              "      <td>ba</td>\n",
              "      <td>0</td>\n",
              "    </tr>\n",
              "    <tr>\n",
              "      <th>2</th>\n",
              "      <td>379</td>\n",
              "      <td>1</td>\n",
              "      <td>5</td>\n",
              "      <td>2385</td>\n",
              "      <td>9.993983</td>\n",
              "      <td>0.001203</td>\n",
              "      <td>ba</td>\n",
              "      <td>0</td>\n",
              "    </tr>\n",
              "    <tr>\n",
              "      <th>3</th>\n",
              "      <td>142</td>\n",
              "      <td>1</td>\n",
              "      <td>2</td>\n",
              "      <td>1982</td>\n",
              "      <td>3.997970</td>\n",
              "      <td>0.001015</td>\n",
              "      <td>ba</td>\n",
              "      <td>0</td>\n",
              "    </tr>\n",
              "    <tr>\n",
              "      <th>4</th>\n",
              "      <td>398</td>\n",
              "      <td>1</td>\n",
              "      <td>5</td>\n",
              "      <td>2710</td>\n",
              "      <td>9.994828</td>\n",
              "      <td>0.001034</td>\n",
              "      <td>ba</td>\n",
              "      <td>0</td>\n",
              "    </tr>\n",
              "    <tr>\n",
              "      <th>...</th>\n",
              "      <td>...</td>\n",
              "      <td>...</td>\n",
              "      <td>...</td>\n",
              "      <td>...</td>\n",
              "      <td>...</td>\n",
              "      <td>...</td>\n",
              "      <td>...</td>\n",
              "      <td>...</td>\n",
              "    </tr>\n",
              "    <tr>\n",
              "      <th>3137</th>\n",
              "      <td>504</td>\n",
              "      <td>1</td>\n",
              "      <td>1</td>\n",
              "      <td>1281</td>\n",
              "      <td>21.106968</td>\n",
              "      <td>0.001124</td>\n",
              "      <td>physics</td>\n",
              "      <td>0</td>\n",
              "    </tr>\n",
              "    <tr>\n",
              "      <th>3138</th>\n",
              "      <td>281</td>\n",
              "      <td>1</td>\n",
              "      <td>1</td>\n",
              "      <td>2373</td>\n",
              "      <td>8.083431</td>\n",
              "      <td>0.000349</td>\n",
              "      <td>physics</td>\n",
              "      <td>0</td>\n",
              "    </tr>\n",
              "    <tr>\n",
              "      <th>3139</th>\n",
              "      <td>65</td>\n",
              "      <td>1</td>\n",
              "      <td>1</td>\n",
              "      <td>2108</td>\n",
              "      <td>5.264352</td>\n",
              "      <td>0.000533</td>\n",
              "      <td>physics</td>\n",
              "      <td>0</td>\n",
              "    </tr>\n",
              "    <tr>\n",
              "      <th>3140</th>\n",
              "      <td>7636</td>\n",
              "      <td>1</td>\n",
              "      <td>1</td>\n",
              "      <td>225942</td>\n",
              "      <td>2.756793</td>\n",
              "      <td>0.000010</td>\n",
              "      <td>email</td>\n",
              "      <td>1</td>\n",
              "    </tr>\n",
              "    <tr>\n",
              "      <th>3141</th>\n",
              "      <td>2752</td>\n",
              "      <td>1</td>\n",
              "      <td>1</td>\n",
              "      <td>11627</td>\n",
              "      <td>12.114251</td>\n",
              "      <td>0.000030</td>\n",
              "      <td>amazon</td>\n",
              "      <td>0</td>\n",
              "    </tr>\n",
              "  </tbody>\n",
              "</table>\n",
              "<p>3142 rows × 8 columns</p>\n",
              "</div>"
            ],
            "text/plain": [
              "      max_degree  qtd_max_degree  min_degree  ...   density     type  prediction_3\n",
              "0            246               1           3  ...  0.000705       ba             0\n",
              "1            176               1           3  ...  0.001578       ba             0\n",
              "2            379               1           5  ...  0.001203       ba             0\n",
              "3            142               1           2  ...  0.001015       ba             0\n",
              "4            398               1           5  ...  0.001034       ba             0\n",
              "...          ...             ...         ...  ...       ...      ...           ...\n",
              "3137         504               1           1  ...  0.001124  physics             0\n",
              "3138         281               1           1  ...  0.000349  physics             0\n",
              "3139          65               1           1  ...  0.000533  physics             0\n",
              "3140        7636               1           1  ...  0.000010    email             1\n",
              "3141        2752               1           1  ...  0.000030   amazon             0\n",
              "\n",
              "[3142 rows x 8 columns]"
            ]
          },
          "metadata": {},
          "execution_count": 30
        }
      ]
    },
    {
      "cell_type": "code",
      "metadata": {
        "colab": {
          "base_uri": "https://localhost:8080/"
        },
        "id": "tTOrQMw2YWxd",
        "outputId": "86725fd0-a62a-4807-92cc-f18f5148bde2"
      },
      "source": [
        "cluster_pred_3_df[['type', 'prediction_3']].value_counts()"
      ],
      "execution_count": 31,
      "outputs": [
        {
          "output_type": "execute_result",
          "data": {
            "text/plain": [
              "type      prediction_3\n",
              "enzyme    0               600\n",
              "ba        0               599\n",
              "ln        0               300\n",
              "sf        0               200\n",
              "gr        0               200\n",
              "rg        0               200\n",
              "co        0               200\n",
              "pc        0               178\n",
              "pt        0               150\n",
              "ld        0               150\n",
              "pc        1               122\n",
              "caida     2               121\n",
              "cy        0               100\n",
              "gnutella  0                 8\n",
              "brain     0                 6\n",
              "physics   0                 3\n",
              "email     1                 1\n",
              "eurosis   0                 1\n",
              "gnutella  1                 1\n",
              "caida     0                 1\n",
              "amazon    0                 1\n",
              "dtype: int64"
            ]
          },
          "metadata": {},
          "execution_count": 31
        }
      ]
    },
    {
      "cell_type": "code",
      "metadata": {
        "colab": {
          "base_uri": "https://localhost:8080/",
          "height": 506
        },
        "id": "SkTbXxtBYdWL",
        "outputId": "b3b665b4-5ede-493a-a458-ba82cd063464"
      },
      "source": [
        "sns.set(rc={\"figure.figsize\":(10, 8)}) #width=10, height=8\n",
        "ax = sns.countplot(y=\"type\", hue=\"prediction_3\", data=cluster_pred_3_df)"
      ],
      "execution_count": 32,
      "outputs": [
        {
          "output_type": "display_data",
          "data": {
            "image/png": "[encoded data removed]",
            "text/plain": [
              "<Figure size 720x576 with 1 Axes>"
            ]
          },
          "metadata": {}
        }
      ]
    },
    {
      "cell_type": "markdown",
      "metadata": {
        "id": "a9IFB5NYVSAi"
      },
      "source": [
        "### 14 Clusters"
      ]
    },
    {
      "cell_type": "code",
      "metadata": {
        "colab": {
          "base_uri": "https://localhost:8080/"
        },
        "id": "V48wQZyHSEX2",
        "outputId": "a50d8794-7726-4c44-a000-6167de6365e5"
      },
      "source": [
        "kmeans_14 = KMeans(n_clusters=14)\n",
        "y_pred_14 = kmeans_14.fit_predict(X)\n",
        "y_pred_14"
      ],
      "execution_count": 33,
      "outputs": [
        {
          "output_type": "execute_result",
          "data": {
            "text/plain": [
              "array([ 7,  3,  7, ...,  7,  5, 11], dtype=int32)"
            ]
          },
          "metadata": {},
          "execution_count": 33
        }
      ]
    },
    {
      "cell_type": "code",
      "metadata": {
        "colab": {
          "base_uri": "https://localhost:8080/",
          "height": 423
        },
        "id": "LCQ_dGq8SJVK",
        "outputId": "b4c46da3-18d5-4056-a63c-5e16285a85b8"
      },
      "source": [
        "cluster_pred_14_df = features_df.copy()\n",
        "cluster_pred_14_df['prediction_14'] = y_pred_14\n",
        "cluster_pred_14_df"
      ],
      "execution_count": 34,
      "outputs": [
        {
          "output_type": "execute_result",
          "data": {
            "text/html": [
              "<div>\n",
              "<style scoped>\n",
              "    .dataframe tbody tr th:only-of-type {\n",
              "        vertical-align: middle;\n",
              "    }\n",
              "\n",
              "    .dataframe tbody tr th {\n",
              "        vertical-align: top;\n",
              "    }\n",
              "\n",
              "    .dataframe thead th {\n",
              "        text-align: right;\n",
              "    }\n",
              "</style>\n",
              "<table border=\"1\" class=\"dataframe\">\n",
              "  <thead>\n",
              "    <tr style=\"text-align: right;\">\n",
              "      <th></th>\n",
              "      <th>max_degree</th>\n",
              "      <th>qtd_max_degree</th>\n",
              "      <th>min_degree</th>\n",
              "      <th>qtd_min_degree</th>\n",
              "      <th>avg_degree</th>\n",
              "      <th>density</th>\n",
              "      <th>type</th>\n",
              "      <th>prediction_14</th>\n",
              "    </tr>\n",
              "  </thead>\n",
              "  <tbody>\n",
              "    <tr>\n",
              "      <th>0</th>\n",
              "      <td>246</td>\n",
              "      <td>1</td>\n",
              "      <td>3</td>\n",
              "      <td>3391</td>\n",
              "      <td>5.997885</td>\n",
              "      <td>0.000705</td>\n",
              "      <td>ba</td>\n",
              "      <td>7</td>\n",
              "    </tr>\n",
              "    <tr>\n",
              "      <th>1</th>\n",
              "      <td>176</td>\n",
              "      <td>1</td>\n",
              "      <td>3</td>\n",
              "      <td>1503</td>\n",
              "      <td>5.995263</td>\n",
              "      <td>0.001578</td>\n",
              "      <td>ba</td>\n",
              "      <td>3</td>\n",
              "    </tr>\n",
              "    <tr>\n",
              "      <th>2</th>\n",
              "      <td>379</td>\n",
              "      <td>1</td>\n",
              "      <td>5</td>\n",
              "      <td>2385</td>\n",
              "      <td>9.993983</td>\n",
              "      <td>0.001203</td>\n",
              "      <td>ba</td>\n",
              "      <td>7</td>\n",
              "    </tr>\n",
              "    <tr>\n",
              "      <th>3</th>\n",
              "      <td>142</td>\n",
              "      <td>1</td>\n",
              "      <td>2</td>\n",
              "      <td>1982</td>\n",
              "      <td>3.997970</td>\n",
              "      <td>0.001015</td>\n",
              "      <td>ba</td>\n",
              "      <td>7</td>\n",
              "    </tr>\n",
              "    <tr>\n",
              "      <th>4</th>\n",
              "      <td>398</td>\n",
              "      <td>1</td>\n",
              "      <td>5</td>\n",
              "      <td>2710</td>\n",
              "      <td>9.994828</td>\n",
              "      <td>0.001034</td>\n",
              "      <td>ba</td>\n",
              "      <td>7</td>\n",
              "    </tr>\n",
              "    <tr>\n",
              "      <th>...</th>\n",
              "      <td>...</td>\n",
              "      <td>...</td>\n",
              "      <td>...</td>\n",
              "      <td>...</td>\n",
              "      <td>...</td>\n",
              "      <td>...</td>\n",
              "      <td>...</td>\n",
              "      <td>...</td>\n",
              "    </tr>\n",
              "    <tr>\n",
              "      <th>3137</th>\n",
              "      <td>504</td>\n",
              "      <td>1</td>\n",
              "      <td>1</td>\n",
              "      <td>1281</td>\n",
              "      <td>21.106968</td>\n",
              "      <td>0.001124</td>\n",
              "      <td>physics</td>\n",
              "      <td>3</td>\n",
              "    </tr>\n",
              "    <tr>\n",
              "      <th>3138</th>\n",
              "      <td>281</td>\n",
              "      <td>1</td>\n",
              "      <td>1</td>\n",
              "      <td>2373</td>\n",
              "      <td>8.083431</td>\n",
              "      <td>0.000349</td>\n",
              "      <td>physics</td>\n",
              "      <td>7</td>\n",
              "    </tr>\n",
              "    <tr>\n",
              "      <th>3139</th>\n",
              "      <td>65</td>\n",
              "      <td>1</td>\n",
              "      <td>1</td>\n",
              "      <td>2108</td>\n",
              "      <td>5.264352</td>\n",
              "      <td>0.000533</td>\n",
              "      <td>physics</td>\n",
              "      <td>7</td>\n",
              "    </tr>\n",
              "    <tr>\n",
              "      <th>3140</th>\n",
              "      <td>7636</td>\n",
              "      <td>1</td>\n",
              "      <td>1</td>\n",
              "      <td>225942</td>\n",
              "      <td>2.756793</td>\n",
              "      <td>0.000010</td>\n",
              "      <td>email</td>\n",
              "      <td>5</td>\n",
              "    </tr>\n",
              "    <tr>\n",
              "      <th>3141</th>\n",
              "      <td>2752</td>\n",
              "      <td>1</td>\n",
              "      <td>1</td>\n",
              "      <td>11627</td>\n",
              "      <td>12.114251</td>\n",
              "      <td>0.000030</td>\n",
              "      <td>amazon</td>\n",
              "      <td>11</td>\n",
              "    </tr>\n",
              "  </tbody>\n",
              "</table>\n",
              "<p>3142 rows × 8 columns</p>\n",
              "</div>"
            ],
            "text/plain": [
              "      max_degree  qtd_max_degree  min_degree  ...   density     type  prediction_14\n",
              "0            246               1           3  ...  0.000705       ba              7\n",
              "1            176               1           3  ...  0.001578       ba              3\n",
              "2            379               1           5  ...  0.001203       ba              7\n",
              "3            142               1           2  ...  0.001015       ba              7\n",
              "4            398               1           5  ...  0.001034       ba              7\n",
              "...          ...             ...         ...  ...       ...      ...            ...\n",
              "3137         504               1           1  ...  0.001124  physics              3\n",
              "3138         281               1           1  ...  0.000349  physics              7\n",
              "3139          65               1           1  ...  0.000533  physics              7\n",
              "3140        7636               1           1  ...  0.000010    email              5\n",
              "3141        2752               1           1  ...  0.000030   amazon             11\n",
              "\n",
              "[3142 rows x 8 columns]"
            ]
          },
          "metadata": {},
          "execution_count": 34
        }
      ]
    },
    {
      "cell_type": "code",
      "metadata": {
        "colab": {
          "base_uri": "https://localhost:8080/"
        },
        "id": "Xe_1geyTS4td",
        "outputId": "54d1900f-0316-416a-a99b-fd00d5ee425a"
      },
      "source": [
        "cluster_pred_14_df[['type', 'prediction_14']].value_counts()"
      ],
      "execution_count": 35,
      "outputs": [
        {
          "output_type": "execute_result",
          "data": {
            "text/plain": [
              "type      prediction_14\n",
              "enzyme    3                600\n",
              "ba        7                378\n",
              "          3                221\n",
              "co        3                200\n",
              "rg        3                200\n",
              "ln        3                181\n",
              "pc        3                140\n",
              "caida     2                121\n",
              "ln        7                119\n",
              "sf        10               119\n",
              "gr        0                 77\n",
              "          3                 76\n",
              "pt        0                 66\n",
              "cy        9                 65\n",
              "pt        12                64\n",
              "ld        6                 54\n",
              "          12                54\n",
              "gr        12                47\n",
              "pc        4                 45\n",
              "sf        7                 44\n",
              "ld        0                 42\n",
              "sf        3                 37\n",
              "pc        11                36\n",
              "          8                 33\n",
              "          13                21\n",
              "pt        3                 20\n",
              "cy        0                 18\n",
              "          7                 15\n",
              "pc        10                11\n",
              "          1                  8\n",
              "          7                  6\n",
              "gnutella  7                  5\n",
              "brain     3                  5\n",
              "physics   7                  2\n",
              "cy        3                  2\n",
              "gnutella  11                 2\n",
              "brain     7                  1\n",
              "email     5                  1\n",
              "caida     10                 1\n",
              "physics   3                  1\n",
              "eurosis   10                 1\n",
              "gnutella  4                  1\n",
              "          10                 1\n",
              "amazon    11                 1\n",
              "dtype: int64"
            ]
          },
          "metadata": {},
          "execution_count": 35
        }
      ]
    },
    {
      "cell_type": "code",
      "metadata": {
        "colab": {
          "base_uri": "https://localhost:8080/",
          "height": 506
        },
        "id": "zg7cnolgZdt_",
        "outputId": "6aa1d062-40e6-4f4d-b9db-627f54efcdc5"
      },
      "source": [
        "sns.set(rc={\"figure.figsize\":(10, 8)}) #width=10, height=8\n",
        "ax = sns.countplot(y=\"type\", hue=\"prediction_14\", data=cluster_pred_14_df)"
      ],
      "execution_count": 36,
      "outputs": [
        {
          "output_type": "display_data",
          "data": {
            "image/png": "[encoded data removed]",
            "text/plain": [
              "<Figure size 720x576 with 1 Axes>"
            ]
          },
          "metadata": {}
        }
      ]
    }
  ]
}