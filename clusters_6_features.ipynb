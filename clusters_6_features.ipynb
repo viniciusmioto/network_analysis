{
  "nbformat": 4,
  "nbformat_minor": 0,
  "metadata": {
    "colab": {
      "name": "unsupervised_graph6.ipynb",
      "provenance": [],
      "collapsed_sections": []
    },
    "kernelspec": {
      "name": "python3",
      "display_name": "Python 3"
    },
    "language_info": {
      "name": "python"
    }
  },
  "cells": [
    {
      "cell_type": "code",
      "metadata": {
        "id": "sSgjuOiMykBD",
        "colab": {
          "base_uri": "https://localhost:8080/"
        },
        "outputId": "460b86fa-9b2d-4852-ac24-77604b389a02"
      },
      "source": [
        "import pandas as pd\n",
        "import networkx as nx\n",
        "import matplotlib.pyplot as plt\n",
        "import statistics as sts\n",
        "import numpy as np\n",
        "import seaborn as sns\n",
        "import pickle\n",
        "from sklearn import preprocessing\n",
        "from sklearn.metrics import confusion_matrix, silhouette_score\n",
        "from sklearn.cluster import KMeans\n",
        "from yellowbrick.cluster import SilhouetteVisualizer\n",
        "from sklearn.model_selection import GridSearchCV\n",
        "from sklearn.neighbors import KNeighborsClassifier\n",
        "from sklearn.pipeline import Pipeline"
      ],
      "execution_count": null,
      "outputs": [
        {
          "output_type": "stream",
          "name": "stderr",
          "text": [
            "/usr/local/lib/python3.7/dist-packages/sklearn/utils/deprecation.py:144: FutureWarning: The sklearn.metrics.classification module is  deprecated in version 0.22 and will be removed in version 0.24. The corresponding classes / functions should instead be imported from sklearn.metrics. Anything that cannot be imported from sklearn.metrics is now part of the private API.\n",
            "  warnings.warn(message, FutureWarning)\n"
          ]
        }
      ]
    },
    {
      "cell_type": "code",
      "metadata": {
        "id": "UQt_NDWDDG0f"
      },
      "source": [
        "def plot_confusion_matrix(matrix):\n",
        "    group_names = ['True Neg','False Pos','False Neg','True Pos']\n",
        "    group_counts = [\"{0:0.0f}\".format(value) for value in\n",
        "                    matrix.flatten()]\n",
        "    \n",
        "    group_percentages = [\"{0:.2%}\".format(value) for value in\n",
        "                         matrix.flatten()/np.sum(matrix)]\n",
        "    \n",
        "    labels = [f\"{v1}\\n{v2}\\n{v3}\" for v1, v2, v3 in\n",
        "              zip(group_names, group_counts, group_percentages)]\n",
        "    \n",
        "    labels = np.asarray(labels).reshape(2,2)\n",
        "    sns.heatmap(matrix, annot=labels, fmt='', cmap='Blues')\n",
        "    plt.show()"
      ],
      "execution_count": null,
      "outputs": []
    },
    {
      "cell_type": "markdown",
      "metadata": {
        "id": "MrMcdOGRCeF_"
      },
      "source": [
        "### Load Graph Dataset"
      ]
    },
    {
      "cell_type": "code",
      "metadata": {
        "id": "mAdu0ZurzEHA"
      },
      "source": [
        "graph_df = pd.read_csv('https://gitlab.com/viniciusmioto/graph_data/-/raw/main/graphs_db.csv')"
      ],
      "execution_count": null,
      "outputs": []
    },
    {
      "cell_type": "code",
      "metadata": {
        "colab": {
          "base_uri": "https://localhost:8080/",
          "height": 205
        },
        "id": "Tig9kxe2zIAX",
        "outputId": "bdd9a288-8de5-4599-b14d-d40105317074"
      },
      "source": [
        "graph_df.head()"
      ],
      "execution_count": null,
      "outputs": [
        {
          "output_type": "execute_result",
          "data": {
            "text/html": [
              "<div>\n",
              "<style scoped>\n",
              "    .dataframe tbody tr th:only-of-type {\n",
              "        vertical-align: middle;\n",
              "    }\n",
              "\n",
              "    .dataframe tbody tr th {\n",
              "        vertical-align: top;\n",
              "    }\n",
              "\n",
              "    .dataframe thead th {\n",
              "        text-align: right;\n",
              "    }\n",
              "</style>\n",
              "<table border=\"1\" class=\"dataframe\">\n",
              "  <thead>\n",
              "    <tr style=\"text-align: right;\">\n",
              "      <th></th>\n",
              "      <th>graph_type</th>\n",
              "      <th>max_degree</th>\n",
              "      <th>qtd_max_degree</th>\n",
              "      <th>min_degree</th>\n",
              "      <th>qtd_min_degree</th>\n",
              "      <th>avg_degree</th>\n",
              "      <th>density</th>\n",
              "      <th>is_power_law</th>\n",
              "    </tr>\n",
              "  </thead>\n",
              "  <tbody>\n",
              "    <tr>\n",
              "      <th>0</th>\n",
              "      <td>amzn</td>\n",
              "      <td>2752</td>\n",
              "      <td>1</td>\n",
              "      <td>1</td>\n",
              "      <td>11627</td>\n",
              "      <td>12.114251</td>\n",
              "      <td>0.000030</td>\n",
              "      <td>1</td>\n",
              "    </tr>\n",
              "    <tr>\n",
              "      <th>1</th>\n",
              "      <td>amzn</td>\n",
              "      <td>420</td>\n",
              "      <td>1</td>\n",
              "      <td>1</td>\n",
              "      <td>6069</td>\n",
              "      <td>6.865732</td>\n",
              "      <td>0.000026</td>\n",
              "      <td>1</td>\n",
              "    </tr>\n",
              "    <tr>\n",
              "      <th>2</th>\n",
              "      <td>amzn</td>\n",
              "      <td>2747</td>\n",
              "      <td>1</td>\n",
              "      <td>1</td>\n",
              "      <td>18254</td>\n",
              "      <td>11.728029</td>\n",
              "      <td>0.000029</td>\n",
              "      <td>1</td>\n",
              "    </tr>\n",
              "    <tr>\n",
              "      <th>3</th>\n",
              "      <td>amzn</td>\n",
              "      <td>2760</td>\n",
              "      <td>1</td>\n",
              "      <td>1</td>\n",
              "      <td>19410</td>\n",
              "      <td>11.892847</td>\n",
              "      <td>0.000029</td>\n",
              "      <td>1</td>\n",
              "    </tr>\n",
              "    <tr>\n",
              "      <th>4</th>\n",
              "      <td>amzn</td>\n",
              "      <td>62166</td>\n",
              "      <td>1</td>\n",
              "      <td>1</td>\n",
              "      <td>28104</td>\n",
              "      <td>8.208201</td>\n",
              "      <td>0.000026</td>\n",
              "      <td>1</td>\n",
              "    </tr>\n",
              "  </tbody>\n",
              "</table>\n",
              "</div>"
            ],
            "text/plain": [
              "  graph_type  max_degree  qtd_max_degree  ...  avg_degree   density  is_power_law\n",
              "0       amzn        2752               1  ...   12.114251  0.000030             1\n",
              "1       amzn         420               1  ...    6.865732  0.000026             1\n",
              "2       amzn        2747               1  ...   11.728029  0.000029             1\n",
              "3       amzn        2760               1  ...   11.892847  0.000029             1\n",
              "4       amzn       62166               1  ...    8.208201  0.000026             1\n",
              "\n",
              "[5 rows x 8 columns]"
            ]
          },
          "metadata": {},
          "execution_count": 4
        }
      ]
    },
    {
      "cell_type": "code",
      "metadata": {
        "colab": {
          "base_uri": "https://localhost:8080/",
          "height": 298
        },
        "id": "e9IaiTL2zMEI",
        "outputId": "6794d365-2e6a-49e0-905c-587c7705a8b1"
      },
      "source": [
        "graph_df.describe()"
      ],
      "execution_count": null,
      "outputs": [
        {
          "output_type": "execute_result",
          "data": {
            "text/html": [
              "<div>\n",
              "<style scoped>\n",
              "    .dataframe tbody tr th:only-of-type {\n",
              "        vertical-align: middle;\n",
              "    }\n",
              "\n",
              "    .dataframe tbody tr th {\n",
              "        vertical-align: top;\n",
              "    }\n",
              "\n",
              "    .dataframe thead th {\n",
              "        text-align: right;\n",
              "    }\n",
              "</style>\n",
              "<table border=\"1\" class=\"dataframe\">\n",
              "  <thead>\n",
              "    <tr style=\"text-align: right;\">\n",
              "      <th></th>\n",
              "      <th>max_degree</th>\n",
              "      <th>qtd_max_degree</th>\n",
              "      <th>min_degree</th>\n",
              "      <th>qtd_min_degree</th>\n",
              "      <th>avg_degree</th>\n",
              "      <th>density</th>\n",
              "      <th>is_power_law</th>\n",
              "    </tr>\n",
              "  </thead>\n",
              "  <tbody>\n",
              "    <tr>\n",
              "      <th>count</th>\n",
              "      <td>100.000000</td>\n",
              "      <td>100.000000</td>\n",
              "      <td>100.000000</td>\n",
              "      <td>100.000000</td>\n",
              "      <td>100.000000</td>\n",
              "      <td>1.000000e+02</td>\n",
              "      <td>100.000000</td>\n",
              "    </tr>\n",
              "    <tr>\n",
              "      <th>mean</th>\n",
              "      <td>3704.780000</td>\n",
              "      <td>2.490000</td>\n",
              "      <td>1.330000</td>\n",
              "      <td>29700.350000</td>\n",
              "      <td>16.744845</td>\n",
              "      <td>3.149718e-02</td>\n",
              "      <td>0.520000</td>\n",
              "    </tr>\n",
              "    <tr>\n",
              "      <th>std</th>\n",
              "      <td>8730.568425</td>\n",
              "      <td>13.391913</td>\n",
              "      <td>0.697108</td>\n",
              "      <td>129210.059935</td>\n",
              "      <td>31.630910</td>\n",
              "      <td>6.193009e-02</td>\n",
              "      <td>0.502117</td>\n",
              "    </tr>\n",
              "    <tr>\n",
              "      <th>min</th>\n",
              "      <td>3.000000</td>\n",
              "      <td>1.000000</td>\n",
              "      <td>0.000000</td>\n",
              "      <td>1.000000</td>\n",
              "      <td>1.334006</td>\n",
              "      <td>9.427309e-07</td>\n",
              "      <td>0.000000</td>\n",
              "    </tr>\n",
              "    <tr>\n",
              "      <th>25%</th>\n",
              "      <td>33.000000</td>\n",
              "      <td>1.000000</td>\n",
              "      <td>1.000000</td>\n",
              "      <td>23.000000</td>\n",
              "      <td>4.265473</td>\n",
              "      <td>2.658030e-04</td>\n",
              "      <td>0.000000</td>\n",
              "    </tr>\n",
              "    <tr>\n",
              "      <th>50%</th>\n",
              "      <td>132.500000</td>\n",
              "      <td>1.000000</td>\n",
              "      <td>1.000000</td>\n",
              "      <td>1514.000000</td>\n",
              "      <td>6.812802</td>\n",
              "      <td>8.020862e-04</td>\n",
              "      <td>1.000000</td>\n",
              "    </tr>\n",
              "    <tr>\n",
              "      <th>75%</th>\n",
              "      <td>2496.750000</td>\n",
              "      <td>1.000000</td>\n",
              "      <td>1.000000</td>\n",
              "      <td>5976.750000</td>\n",
              "      <td>14.130568</td>\n",
              "      <td>2.725280e-02</td>\n",
              "      <td>1.000000</td>\n",
              "    </tr>\n",
              "    <tr>\n",
              "      <th>max</th>\n",
              "      <td>62166.000000</td>\n",
              "      <td>135.000000</td>\n",
              "      <td>3.000000</td>\n",
              "      <td>849885.000000</td>\n",
              "      <td>172.981529</td>\n",
              "      <td>3.509615e-01</td>\n",
              "      <td>1.000000</td>\n",
              "    </tr>\n",
              "  </tbody>\n",
              "</table>\n",
              "</div>"
            ],
            "text/plain": [
              "         max_degree  qtd_max_degree  ...       density  is_power_law\n",
              "count    100.000000      100.000000  ...  1.000000e+02    100.000000\n",
              "mean    3704.780000        2.490000  ...  3.149718e-02      0.520000\n",
              "std     8730.568425       13.391913  ...  6.193009e-02      0.502117\n",
              "min        3.000000        1.000000  ...  9.427309e-07      0.000000\n",
              "25%       33.000000        1.000000  ...  2.658030e-04      0.000000\n",
              "50%      132.500000        1.000000  ...  8.020862e-04      1.000000\n",
              "75%     2496.750000        1.000000  ...  2.725280e-02      1.000000\n",
              "max    62166.000000      135.000000  ...  3.509615e-01      1.000000\n",
              "\n",
              "[8 rows x 7 columns]"
            ]
          },
          "metadata": {},
          "execution_count": 5
        }
      ]
    },
    {
      "cell_type": "markdown",
      "metadata": {
        "id": "897K1xW5CjkY"
      },
      "source": [
        "### Separate Features (X) and Labels (y) "
      ]
    },
    {
      "cell_type": "code",
      "metadata": {
        "id": "QIY6dJdr9hb-"
      },
      "source": [
        "# separating features and labels\n",
        "df_features = graph_df.drop(['is_power_law'], 1)\n",
        "X = np.array(df_features.copy().drop(['graph_type'], 1))\n",
        "y = np.array(graph_df['is_power_law'])"
      ],
      "execution_count": null,
      "outputs": []
    },
    {
      "cell_type": "markdown",
      "metadata": {
        "id": "2VKz7ViaB1pK"
      },
      "source": [
        "### Features Correlation"
      ]
    },
    {
      "cell_type": "code",
      "metadata": {
        "colab": {
          "base_uri": "https://localhost:8080/",
          "height": 351
        },
        "id": "DmSqVk1ydSjL",
        "outputId": "d94c2d68-bb3e-4bf2-8d01-bbebf86f083e"
      },
      "source": [
        "features_df = df_features.drop(['graph_type'], 1)\n",
        "sns.heatmap(features_df.corr(), annot=True)"
      ],
      "execution_count": null,
      "outputs": [
        {
          "output_type": "execute_result",
          "data": {
            "text/plain": [
              "<matplotlib.axes._subplots.AxesSubplot at 0x7f0f9a583110>"
            ]
          },
          "metadata": {},
          "execution_count": 7
        },
        {
          "output_type": "display_data",
          "data": {
            "image/png": "[encoded data removed]",
            "text/plain": [
              "<Figure size 432x288 with 2 Axes>"
            ]
          },
          "metadata": {
            "needs_background": "light"
          }
        }
      ]
    },
    {
      "cell_type": "markdown",
      "metadata": {
        "id": "GYsO2LKHFBfE"
      },
      "source": [
        "# Number of Clusters: **2**"
      ]
    },
    {
      "cell_type": "markdown",
      "metadata": {
        "id": "NoJihnnFC7M2"
      },
      "source": [
        "### Create and Fit KMeans Model"
      ]
    },
    {
      "cell_type": "code",
      "metadata": {
        "id": "0UiQ1JubzTY3",
        "colab": {
          "base_uri": "https://localhost:8080/"
        },
        "outputId": "d14ee5b8-f67e-4c40-8aaa-214e276c758c"
      },
      "source": [
        "kmeans = KMeans(n_clusters=2)\n",
        "y_pred = kmeans.fit_predict(X)\n",
        "y_pred"
      ],
      "execution_count": null,
      "outputs": [
        {
          "output_type": "execute_result",
          "data": {
            "text/plain": [
              "array([0, 0, 0, 0, 0, 0, 0, 0, 0, 0, 0, 0, 0, 0, 0, 0, 0, 0, 0, 0, 0, 0,\n",
              "       0, 0, 0, 0, 0, 0, 0, 0, 0, 0, 0, 0, 0, 0, 0, 0, 0, 0, 0, 0, 0, 0,\n",
              "       0, 0, 0, 0, 0, 0, 0, 0, 0, 0, 0, 0, 0, 0, 0, 0, 0, 0, 0, 0, 0, 0,\n",
              "       0, 0, 0, 0, 0, 0, 0, 0, 0, 0, 0, 0, 0, 0, 0, 0, 0, 0, 0, 1, 0, 0,\n",
              "       0, 0, 0, 0, 0, 0, 0, 0, 0, 1, 0, 1], dtype=int32)"
            ]
          },
          "metadata": {},
          "execution_count": 8
        }
      ]
    },
    {
      "cell_type": "markdown",
      "metadata": {
        "id": "lkU86d37poN0"
      },
      "source": [
        "### Group Percentage"
      ]
    },
    {
      "cell_type": "markdown",
      "metadata": {
        "id": "L6AQW6PKGUYh"
      },
      "source": [
        "prediction division"
      ]
    },
    {
      "cell_type": "code",
      "metadata": {
        "colab": {
          "base_uri": "https://localhost:8080/"
        },
        "id": "QARkFGZypgw1",
        "outputId": "3e5b60e3-a61a-4260-9c30-0502d9eba764"
      },
      "source": [
        "print('Group A: ', sum(y_pred)/len(y_pred))\n",
        "print('Group B: ', 1 - sum(y_pred)/len(y_pred))"
      ],
      "execution_count": null,
      "outputs": [
        {
          "output_type": "stream",
          "name": "stdout",
          "text": [
            "Group A:  0.03\n",
            "Group B:  0.97\n"
          ]
        }
      ]
    },
    {
      "cell_type": "markdown",
      "metadata": {
        "id": "nYh9Opb7EDMH"
      },
      "source": [
        "real percentage of power-law (dataset)"
      ]
    },
    {
      "cell_type": "code",
      "metadata": {
        "colab": {
          "base_uri": "https://localhost:8080/"
        },
        "id": "7h_PIINoCS8y",
        "outputId": "b7a72141-efc7-4948-8cec-423f87f7dcb8"
      },
      "source": [
        "sum(y)/len(y)"
      ],
      "execution_count": null,
      "outputs": [
        {
          "output_type": "execute_result",
          "data": {
            "text/plain": [
              "0.52"
            ]
          },
          "metadata": {},
          "execution_count": 10
        }
      ]
    },
    {
      "cell_type": "markdown",
      "metadata": {
        "id": "1omVGykXNrx6"
      },
      "source": [
        "### Score"
      ]
    },
    {
      "cell_type": "code",
      "metadata": {
        "colab": {
          "base_uri": "https://localhost:8080/"
        },
        "id": "kNMxe-1jNrAM",
        "outputId": "be4786bb-58fb-4124-9ecf-cb4e2b9ada4d"
      },
      "source": [
        "silhouette_score(X, kmeans.labels_)"
      ],
      "execution_count": null,
      "outputs": [
        {
          "output_type": "execute_result",
          "data": {
            "text/plain": [
              "0.9603377799851666"
            ]
          },
          "metadata": {},
          "execution_count": 11
        }
      ]
    },
    {
      "cell_type": "markdown",
      "metadata": {
        "id": "X3w9KMJSqxo_"
      },
      "source": [
        "First Type"
      ]
    },
    {
      "cell_type": "markdown",
      "metadata": {
        "id": "Mgv2MxMEUe0d"
      },
      "source": [
        "# Finding the Best Number of Clusters"
      ]
    },
    {
      "cell_type": "markdown",
      "metadata": {
        "id": "rBxDHkhbPMN9"
      },
      "source": [
        "### Silhouette Visualizer"
      ]
    },
    {
      "cell_type": "code",
      "metadata": {
        "colab": {
          "base_uri": "https://localhost:8080/",
          "height": 778
        },
        "id": "rfQtWEHrPPYr",
        "outputId": "047ca724-bcdd-4a2c-f1fe-b189ced36c1c"
      },
      "source": [
        "fig, ax = plt.subplots(3, 2, figsize=(20,16))\n",
        "sscore = [] \n",
        "for i in [2, 3, 4, 5, 6, 7]:\n",
        "    '''\n",
        "    Create KMeans instance for different number of clusters\n",
        "    '''\n",
        "    km = KMeans(n_clusters=i)\n",
        "    q, mod = divmod(i, 2)\n",
        "\n",
        "    '''\n",
        "    Create SilhouetteVisualizer instance with KMeans instance\n",
        "    Fit the visualizer\n",
        "    '''\n",
        "    visualizer = SilhouetteVisualizer(km, colors='yellowbrick', ax=ax[q-1][mod])\n",
        "    visualizer.fit(X)\n",
        "    sscore.append(silhouette_score(X, km.labels_))"
      ],
      "execution_count": null,
      "outputs": [
        {
          "output_type": "display_data",
          "data": {
            "image/png": "[encoded data removed]",
            "text/plain": [
              "<Figure size 1440x1152 with 6 Axes>"
            ]
          },
          "metadata": {
            "needs_background": "light"
          }
        }
      ]
    },
    {
      "cell_type": "code",
      "metadata": {
        "colab": {
          "base_uri": "https://localhost:8080/"
        },
        "id": "u3CJI2vsQqIF",
        "outputId": "2e6fd58f-81c7-46eb-a0be-25606bcda050"
      },
      "source": [
        "sscore"
      ],
      "execution_count": null,
      "outputs": [
        {
          "output_type": "execute_result",
          "data": {
            "text/plain": [
              "[0.9603377799851666,\n",
              " 0.9380750566577513,\n",
              " 0.9279698790526889,\n",
              " 0.7107270950364653,\n",
              " 0.7739932047651595,\n",
              " 0.7779551836424804]"
            ]
          },
          "metadata": {},
          "execution_count": 13
        }
      ]
    },
    {
      "cell_type": "code",
      "metadata": {
        "colab": {
          "base_uri": "https://localhost:8080/",
          "height": 319
        },
        "id": "UFXETY4SQtV5",
        "outputId": "1050b6b4-6fd8-493a-d114-045ff0d6c602"
      },
      "source": [
        "sns.lineplot([2, 3, 4, 5, 6, 7], sscore)\n",
        "plt.show()"
      ],
      "execution_count": null,
      "outputs": [
        {
          "output_type": "stream",
          "name": "stderr",
          "text": [
            "/usr/local/lib/python3.7/dist-packages/seaborn/_decorators.py:43: FutureWarning: Pass the following variables as keyword args: x, y. From version 0.12, the only valid positional argument will be `data`, and passing other arguments without an explicit keyword will result in an error or misinterpretation.\n",
            "  FutureWarning\n"
          ]
        },
        {
          "output_type": "display_data",
          "data": {
            "image/png": "[encoded data removed]",
            "text/plain": [
              "<Figure size 432x288 with 1 Axes>"
            ]
          },
          "metadata": {
            "needs_background": "light"
          }
        }
      ]
    },
    {
      "cell_type": "markdown",
      "metadata": {
        "id": "F_oyKe7F0uSl"
      },
      "source": [
        "# Getting the Graph Type"
      ]
    },
    {
      "cell_type": "code",
      "metadata": {
        "colab": {
          "base_uri": "https://localhost:8080/",
          "height": 560
        },
        "id": "hPrOaT64akVz",
        "outputId": "ba07bda4-5bd0-4593-f222-89b71a998c96"
      },
      "source": [
        "sns.set(rc={'figure.figsize':(10, 8)}) #width=10, height=8\n",
        "ax = sns.countplot(graph_df['graph_type'], \n",
        "                   order = graph_df['graph_type'].value_counts().index, \n",
        "                   palette = 'GnBu_d')"
      ],
      "execution_count": null,
      "outputs": [
        {
          "output_type": "stream",
          "name": "stderr",
          "text": [
            "/usr/local/lib/python3.7/dist-packages/seaborn/_decorators.py:43: FutureWarning: Pass the following variable as a keyword arg: x. From version 0.12, the only valid positional argument will be `data`, and passing other arguments without an explicit keyword will result in an error or misinterpretation.\n",
            "  FutureWarning\n"
          ]
        },
        {
          "output_type": "display_data",
          "data": {
            "image/png": "[encoded data removed]",
            "text/plain": [
              "<Figure size 720x576 with 1 Axes>"
            ]
          },
          "metadata": {}
        }
      ]
    },
    {
      "cell_type": "markdown",
      "metadata": {
        "id": "tRDD96sfLixv"
      },
      "source": [
        "# How Did the Cluster Separate the Graphs?"
      ]
    },
    {
      "cell_type": "markdown",
      "metadata": {
        "id": "XNKSfj2GVOwU"
      },
      "source": [
        "### 2 Clusters"
      ]
    },
    {
      "cell_type": "code",
      "metadata": {
        "colab": {
          "base_uri": "https://localhost:8080/",
          "height": 612
        },
        "id": "keS-MXFiLoSU",
        "outputId": "b7f44dad-ed4b-4026-8870-185947493cf5"
      },
      "source": [
        "cluster_pred_df = graph_df.copy()\n",
        "cluster_pred_df['prediction'] = y_pred\n",
        "cluster_pred_df"
      ],
      "execution_count": null,
      "outputs": [
        {
          "output_type": "execute_result",
          "data": {
            "text/html": [
              "<div>\n",
              "<style scoped>\n",
              "    .dataframe tbody tr th:only-of-type {\n",
              "        vertical-align: middle;\n",
              "    }\n",
              "\n",
              "    .dataframe tbody tr th {\n",
              "        vertical-align: top;\n",
              "    }\n",
              "\n",
              "    .dataframe thead th {\n",
              "        text-align: right;\n",
              "    }\n",
              "</style>\n",
              "<table border=\"1\" class=\"dataframe\">\n",
              "  <thead>\n",
              "    <tr style=\"text-align: right;\">\n",
              "      <th></th>\n",
              "      <th>graph_type</th>\n",
              "      <th>max_degree</th>\n",
              "      <th>qtd_max_degree</th>\n",
              "      <th>min_degree</th>\n",
              "      <th>qtd_min_degree</th>\n",
              "      <th>avg_degree</th>\n",
              "      <th>density</th>\n",
              "      <th>is_power_law</th>\n",
              "      <th>prediction</th>\n",
              "    </tr>\n",
              "  </thead>\n",
              "  <tbody>\n",
              "    <tr>\n",
              "      <th>0</th>\n",
              "      <td>amzn</td>\n",
              "      <td>2752</td>\n",
              "      <td>1</td>\n",
              "      <td>1</td>\n",
              "      <td>11627</td>\n",
              "      <td>12.114251</td>\n",
              "      <td>3.003089e-05</td>\n",
              "      <td>1</td>\n",
              "      <td>0</td>\n",
              "    </tr>\n",
              "    <tr>\n",
              "      <th>1</th>\n",
              "      <td>amzn</td>\n",
              "      <td>420</td>\n",
              "      <td>1</td>\n",
              "      <td>1</td>\n",
              "      <td>6069</td>\n",
              "      <td>6.865732</td>\n",
              "      <td>2.619409e-05</td>\n",
              "      <td>1</td>\n",
              "      <td>0</td>\n",
              "    </tr>\n",
              "    <tr>\n",
              "      <th>2</th>\n",
              "      <td>amzn</td>\n",
              "      <td>2747</td>\n",
              "      <td>1</td>\n",
              "      <td>1</td>\n",
              "      <td>18254</td>\n",
              "      <td>11.728029</td>\n",
              "      <td>2.926695e-05</td>\n",
              "      <td>1</td>\n",
              "      <td>0</td>\n",
              "    </tr>\n",
              "    <tr>\n",
              "      <th>3</th>\n",
              "      <td>amzn</td>\n",
              "      <td>2760</td>\n",
              "      <td>1</td>\n",
              "      <td>1</td>\n",
              "      <td>19410</td>\n",
              "      <td>11.892847</td>\n",
              "      <td>2.899033e-05</td>\n",
              "      <td>1</td>\n",
              "      <td>0</td>\n",
              "    </tr>\n",
              "    <tr>\n",
              "      <th>4</th>\n",
              "      <td>amzn</td>\n",
              "      <td>62166</td>\n",
              "      <td>1</td>\n",
              "      <td>1</td>\n",
              "      <td>28104</td>\n",
              "      <td>8.208201</td>\n",
              "      <td>2.587762e-05</td>\n",
              "      <td>1</td>\n",
              "      <td>0</td>\n",
              "    </tr>\n",
              "    <tr>\n",
              "      <th>...</th>\n",
              "      <td>...</td>\n",
              "      <td>...</td>\n",
              "      <td>...</td>\n",
              "      <td>...</td>\n",
              "      <td>...</td>\n",
              "      <td>...</td>\n",
              "      <td>...</td>\n",
              "      <td>...</td>\n",
              "      <td>...</td>\n",
              "    </tr>\n",
              "    <tr>\n",
              "      <th>95</th>\n",
              "      <td>road</td>\n",
              "      <td>33</td>\n",
              "      <td>1</td>\n",
              "      <td>1</td>\n",
              "      <td>10</td>\n",
              "      <td>4.927536</td>\n",
              "      <td>7.246377e-02</td>\n",
              "      <td>0</td>\n",
              "      <td>0</td>\n",
              "    </tr>\n",
              "    <tr>\n",
              "      <th>96</th>\n",
              "      <td>road</td>\n",
              "      <td>9</td>\n",
              "      <td>1</td>\n",
              "      <td>1</td>\n",
              "      <td>1407</td>\n",
              "      <td>1.429148</td>\n",
              "      <td>7.210634e-04</td>\n",
              "      <td>0</td>\n",
              "      <td>0</td>\n",
              "    </tr>\n",
              "    <tr>\n",
              "      <th>97</th>\n",
              "      <td>road</td>\n",
              "      <td>8</td>\n",
              "      <td>1</td>\n",
              "      <td>1</td>\n",
              "      <td>459626</td>\n",
              "      <td>1.882545</td>\n",
              "      <td>1.730027e-06</td>\n",
              "      <td>0</td>\n",
              "      <td>1</td>\n",
              "    </tr>\n",
              "    <tr>\n",
              "      <th>98</th>\n",
              "      <td>road</td>\n",
              "      <td>3</td>\n",
              "      <td>135</td>\n",
              "      <td>1</td>\n",
              "      <td>3433</td>\n",
              "      <td>1.334006</td>\n",
              "      <td>2.694418e-04</td>\n",
              "      <td>0</td>\n",
              "      <td>0</td>\n",
              "    </tr>\n",
              "    <tr>\n",
              "      <th>99</th>\n",
              "      <td>road</td>\n",
              "      <td>8</td>\n",
              "      <td>3</td>\n",
              "      <td>1</td>\n",
              "      <td>849885</td>\n",
              "      <td>1.704836</td>\n",
              "      <td>9.427309e-07</td>\n",
              "      <td>0</td>\n",
              "      <td>1</td>\n",
              "    </tr>\n",
              "  </tbody>\n",
              "</table>\n",
              "<p>100 rows × 9 columns</p>\n",
              "</div>"
            ],
            "text/plain": [
              "   graph_type  max_degree  ...  is_power_law  prediction\n",
              "0        amzn        2752  ...             1           0\n",
              "1        amzn         420  ...             1           0\n",
              "2        amzn        2747  ...             1           0\n",
              "3        amzn        2760  ...             1           0\n",
              "4        amzn       62166  ...             1           0\n",
              "..        ...         ...  ...           ...         ...\n",
              "95       road          33  ...             0           0\n",
              "96       road           9  ...             0           0\n",
              "97       road           8  ...             0           1\n",
              "98       road           3  ...             0           0\n",
              "99       road           8  ...             0           1\n",
              "\n",
              "[100 rows x 9 columns]"
            ]
          },
          "metadata": {},
          "execution_count": 20
        }
      ]
    },
    {
      "cell_type": "code",
      "metadata": {
        "colab": {
          "base_uri": "https://localhost:8080/"
        },
        "id": "73ogPLYwObUw",
        "outputId": "e4dcd7d1-163f-4b75-dbc3-1b9a5e7edd79"
      },
      "source": [
        "cluster_pred_df[['graph_type', 'prediction']].value_counts()"
      ],
      "execution_count": null,
      "outputs": [
        {
          "output_type": "execute_result",
          "data": {
            "text/plain": [
              "graph_type  prediction\n",
              "enzy        0             10\n",
              "scmd        0             10\n",
              "caid        0             10\n",
              "gnut        0              9\n",
              "powr        0              8\n",
              "ecnm        0              8\n",
              "brai        0              6\n",
              "eclg        0              6\n",
              "bion        0              5\n",
              "clab        0              5\n",
              "amzn        0              5\n",
              "infr        0              4\n",
              "road        0              3\n",
              "gloc        0              2\n",
              "citt        0              2\n",
              "road        1              2\n",
              "webn        0              2\n",
              "emal        0              1\n",
              "euss        0              1\n",
              "infr        1              1\n",
              "dtype: int64"
            ]
          },
          "metadata": {},
          "execution_count": 21
        }
      ]
    },
    {
      "cell_type": "code",
      "metadata": {
        "colab": {
          "base_uri": "https://localhost:8080/",
          "height": 506
        },
        "id": "crRz4CvFWhwT",
        "outputId": "62056f13-dac7-4569-b35f-c2adc53a4927"
      },
      "source": [
        "sns.set(rc={'figure.figsize':(10, 8)}) #width=10, height=8\n",
        "ax = sns.countplot(y='graph_type', hue='prediction', data=cluster_pred_df)"
      ],
      "execution_count": null,
      "outputs": [
        {
          "output_type": "display_data",
          "data": {
            "image/png": "[encoded data removed]",
            "text/plain": [
              "<Figure size 720x576 with 1 Axes>"
            ]
          },
          "metadata": {}
        }
      ]
    },
    {
      "cell_type": "markdown",
      "metadata": {
        "id": "wL2ZjF0iYLhl"
      },
      "source": [
        "### 3 Clusters"
      ]
    },
    {
      "cell_type": "code",
      "metadata": {
        "colab": {
          "base_uri": "https://localhost:8080/",
          "height": 612
        },
        "id": "kPjvjys2YLHm",
        "outputId": "dbdf30e9-9c9e-447e-8be6-e859e8acc667"
      },
      "source": [
        "kmeans_3 = KMeans(n_clusters=3)\n",
        "y_pred_3 = kmeans_3.fit_predict(X)\n",
        "cluster_pred_3_df = graph_df.copy()\n",
        "cluster_pred_3_df['prediction_3'] = y_pred_3\n",
        "cluster_pred_3_df"
      ],
      "execution_count": null,
      "outputs": [
        {
          "output_type": "execute_result",
          "data": {
            "text/html": [
              "<div>\n",
              "<style scoped>\n",
              "    .dataframe tbody tr th:only-of-type {\n",
              "        vertical-align: middle;\n",
              "    }\n",
              "\n",
              "    .dataframe tbody tr th {\n",
              "        vertical-align: top;\n",
              "    }\n",
              "\n",
              "    .dataframe thead th {\n",
              "        text-align: right;\n",
              "    }\n",
              "</style>\n",
              "<table border=\"1\" class=\"dataframe\">\n",
              "  <thead>\n",
              "    <tr style=\"text-align: right;\">\n",
              "      <th></th>\n",
              "      <th>graph_type</th>\n",
              "      <th>max_degree</th>\n",
              "      <th>qtd_max_degree</th>\n",
              "      <th>min_degree</th>\n",
              "      <th>qtd_min_degree</th>\n",
              "      <th>avg_degree</th>\n",
              "      <th>density</th>\n",
              "      <th>is_power_law</th>\n",
              "      <th>prediction_3</th>\n",
              "    </tr>\n",
              "  </thead>\n",
              "  <tbody>\n",
              "    <tr>\n",
              "      <th>0</th>\n",
              "      <td>amzn</td>\n",
              "      <td>2752</td>\n",
              "      <td>1</td>\n",
              "      <td>1</td>\n",
              "      <td>11627</td>\n",
              "      <td>12.114251</td>\n",
              "      <td>3.003089e-05</td>\n",
              "      <td>1</td>\n",
              "      <td>0</td>\n",
              "    </tr>\n",
              "    <tr>\n",
              "      <th>1</th>\n",
              "      <td>amzn</td>\n",
              "      <td>420</td>\n",
              "      <td>1</td>\n",
              "      <td>1</td>\n",
              "      <td>6069</td>\n",
              "      <td>6.865732</td>\n",
              "      <td>2.619409e-05</td>\n",
              "      <td>1</td>\n",
              "      <td>0</td>\n",
              "    </tr>\n",
              "    <tr>\n",
              "      <th>2</th>\n",
              "      <td>amzn</td>\n",
              "      <td>2747</td>\n",
              "      <td>1</td>\n",
              "      <td>1</td>\n",
              "      <td>18254</td>\n",
              "      <td>11.728029</td>\n",
              "      <td>2.926695e-05</td>\n",
              "      <td>1</td>\n",
              "      <td>0</td>\n",
              "    </tr>\n",
              "    <tr>\n",
              "      <th>3</th>\n",
              "      <td>amzn</td>\n",
              "      <td>2760</td>\n",
              "      <td>1</td>\n",
              "      <td>1</td>\n",
              "      <td>19410</td>\n",
              "      <td>11.892847</td>\n",
              "      <td>2.899033e-05</td>\n",
              "      <td>1</td>\n",
              "      <td>0</td>\n",
              "    </tr>\n",
              "    <tr>\n",
              "      <th>4</th>\n",
              "      <td>amzn</td>\n",
              "      <td>62166</td>\n",
              "      <td>1</td>\n",
              "      <td>1</td>\n",
              "      <td>28104</td>\n",
              "      <td>8.208201</td>\n",
              "      <td>2.587762e-05</td>\n",
              "      <td>1</td>\n",
              "      <td>0</td>\n",
              "    </tr>\n",
              "    <tr>\n",
              "      <th>...</th>\n",
              "      <td>...</td>\n",
              "      <td>...</td>\n",
              "      <td>...</td>\n",
              "      <td>...</td>\n",
              "      <td>...</td>\n",
              "      <td>...</td>\n",
              "      <td>...</td>\n",
              "      <td>...</td>\n",
              "      <td>...</td>\n",
              "    </tr>\n",
              "    <tr>\n",
              "      <th>95</th>\n",
              "      <td>road</td>\n",
              "      <td>33</td>\n",
              "      <td>1</td>\n",
              "      <td>1</td>\n",
              "      <td>10</td>\n",
              "      <td>4.927536</td>\n",
              "      <td>7.246377e-02</td>\n",
              "      <td>0</td>\n",
              "      <td>0</td>\n",
              "    </tr>\n",
              "    <tr>\n",
              "      <th>96</th>\n",
              "      <td>road</td>\n",
              "      <td>9</td>\n",
              "      <td>1</td>\n",
              "      <td>1</td>\n",
              "      <td>1407</td>\n",
              "      <td>1.429148</td>\n",
              "      <td>7.210634e-04</td>\n",
              "      <td>0</td>\n",
              "      <td>0</td>\n",
              "    </tr>\n",
              "    <tr>\n",
              "      <th>97</th>\n",
              "      <td>road</td>\n",
              "      <td>8</td>\n",
              "      <td>1</td>\n",
              "      <td>1</td>\n",
              "      <td>459626</td>\n",
              "      <td>1.882545</td>\n",
              "      <td>1.730027e-06</td>\n",
              "      <td>0</td>\n",
              "      <td>2</td>\n",
              "    </tr>\n",
              "    <tr>\n",
              "      <th>98</th>\n",
              "      <td>road</td>\n",
              "      <td>3</td>\n",
              "      <td>135</td>\n",
              "      <td>1</td>\n",
              "      <td>3433</td>\n",
              "      <td>1.334006</td>\n",
              "      <td>2.694418e-04</td>\n",
              "      <td>0</td>\n",
              "      <td>0</td>\n",
              "    </tr>\n",
              "    <tr>\n",
              "      <th>99</th>\n",
              "      <td>road</td>\n",
              "      <td>8</td>\n",
              "      <td>3</td>\n",
              "      <td>1</td>\n",
              "      <td>849885</td>\n",
              "      <td>1.704836</td>\n",
              "      <td>9.427309e-07</td>\n",
              "      <td>0</td>\n",
              "      <td>1</td>\n",
              "    </tr>\n",
              "  </tbody>\n",
              "</table>\n",
              "<p>100 rows × 9 columns</p>\n",
              "</div>"
            ],
            "text/plain": [
              "   graph_type  max_degree  ...  is_power_law  prediction_3\n",
              "0        amzn        2752  ...             1             0\n",
              "1        amzn         420  ...             1             0\n",
              "2        amzn        2747  ...             1             0\n",
              "3        amzn        2760  ...             1             0\n",
              "4        amzn       62166  ...             1             0\n",
              "..        ...         ...  ...           ...           ...\n",
              "95       road          33  ...             0             0\n",
              "96       road           9  ...             0             0\n",
              "97       road           8  ...             0             2\n",
              "98       road           3  ...             0             0\n",
              "99       road           8  ...             0             1\n",
              "\n",
              "[100 rows x 9 columns]"
            ]
          },
          "metadata": {},
          "execution_count": 23
        }
      ]
    },
    {
      "cell_type": "code",
      "metadata": {
        "colab": {
          "base_uri": "https://localhost:8080/"
        },
        "id": "tTOrQMw2YWxd",
        "outputId": "068e1721-fa56-496a-aa34-81bd230569f4"
      },
      "source": [
        "cluster_pred_3_df[['graph_type', 'prediction_3']].value_counts()"
      ],
      "execution_count": null,
      "outputs": [
        {
          "output_type": "execute_result",
          "data": {
            "text/plain": [
              "graph_type  prediction_3\n",
              "scmd        0               10\n",
              "caid        0               10\n",
              "enzy        0               10\n",
              "gnut        0                9\n",
              "powr        0                8\n",
              "ecnm        0                8\n",
              "eclg        0                6\n",
              "brai        0                6\n",
              "amzn        0                5\n",
              "bion        0                5\n",
              "clab        0                5\n",
              "infr        0                4\n",
              "road        0                3\n",
              "gloc        0                2\n",
              "citt        0                2\n",
              "webn        2                1\n",
              "emal        2                1\n",
              "webn        0                1\n",
              "infr        1                1\n",
              "road        1                1\n",
              "            2                1\n",
              "euss        0                1\n",
              "dtype: int64"
            ]
          },
          "metadata": {},
          "execution_count": 24
        }
      ]
    },
    {
      "cell_type": "code",
      "metadata": {
        "colab": {
          "base_uri": "https://localhost:8080/",
          "height": 506
        },
        "id": "SkTbXxtBYdWL",
        "outputId": "cc74eca0-e96c-491a-de14-c4baf54e98d4"
      },
      "source": [
        "sns.set(rc={'figure.figsize':(10, 8)}) #width=10, height=8\n",
        "ax = sns.countplot(y='graph_type', hue='prediction_3', data=cluster_pred_3_df)"
      ],
      "execution_count": null,
      "outputs": [
        {
          "output_type": "display_data",
          "data": {
            "image/png": "[encoded data removed]",
            "text/plain": [
              "<Figure size 720x576 with 1 Axes>"
            ]
          },
          "metadata": {}
        }
      ]
    },
    {
      "cell_type": "markdown",
      "metadata": {
        "id": "a9IFB5NYVSAi"
      },
      "source": [
        "### 4 Clusters"
      ]
    },
    {
      "cell_type": "code",
      "metadata": {
        "id": "V48wQZyHSEX2"
      },
      "source": [
        "kmeans_4 = KMeans(n_clusters=4)\n",
        "y_pred_4 = kmeans_4.fit_predict(X)"
      ],
      "execution_count": null,
      "outputs": []
    },
    {
      "cell_type": "code",
      "metadata": {
        "colab": {
          "base_uri": "https://localhost:8080/",
          "height": 612
        },
        "id": "LCQ_dGq8SJVK",
        "outputId": "b150a486-c8fe-4b75-bb18-4e6a183025e8"
      },
      "source": [
        "cluster_pred_4_df = graph_df.copy()\n",
        "cluster_pred_4_df['prediction_4'] = y_pred_4\n",
        "cluster_pred_4_df"
      ],
      "execution_count": null,
      "outputs": [
        {
          "output_type": "execute_result",
          "data": {
            "text/html": [
              "<div>\n",
              "<style scoped>\n",
              "    .dataframe tbody tr th:only-of-type {\n",
              "        vertical-align: middle;\n",
              "    }\n",
              "\n",
              "    .dataframe tbody tr th {\n",
              "        vertical-align: top;\n",
              "    }\n",
              "\n",
              "    .dataframe thead th {\n",
              "        text-align: right;\n",
              "    }\n",
              "</style>\n",
              "<table border=\"1\" class=\"dataframe\">\n",
              "  <thead>\n",
              "    <tr style=\"text-align: right;\">\n",
              "      <th></th>\n",
              "      <th>graph_type</th>\n",
              "      <th>max_degree</th>\n",
              "      <th>qtd_max_degree</th>\n",
              "      <th>min_degree</th>\n",
              "      <th>qtd_min_degree</th>\n",
              "      <th>avg_degree</th>\n",
              "      <th>density</th>\n",
              "      <th>is_power_law</th>\n",
              "      <th>prediction_4</th>\n",
              "    </tr>\n",
              "  </thead>\n",
              "  <tbody>\n",
              "    <tr>\n",
              "      <th>0</th>\n",
              "      <td>amzn</td>\n",
              "      <td>2752</td>\n",
              "      <td>1</td>\n",
              "      <td>1</td>\n",
              "      <td>11627</td>\n",
              "      <td>12.114251</td>\n",
              "      <td>3.003089e-05</td>\n",
              "      <td>1</td>\n",
              "      <td>1</td>\n",
              "    </tr>\n",
              "    <tr>\n",
              "      <th>1</th>\n",
              "      <td>amzn</td>\n",
              "      <td>420</td>\n",
              "      <td>1</td>\n",
              "      <td>1</td>\n",
              "      <td>6069</td>\n",
              "      <td>6.865732</td>\n",
              "      <td>2.619409e-05</td>\n",
              "      <td>1</td>\n",
              "      <td>1</td>\n",
              "    </tr>\n",
              "    <tr>\n",
              "      <th>2</th>\n",
              "      <td>amzn</td>\n",
              "      <td>2747</td>\n",
              "      <td>1</td>\n",
              "      <td>1</td>\n",
              "      <td>18254</td>\n",
              "      <td>11.728029</td>\n",
              "      <td>2.926695e-05</td>\n",
              "      <td>1</td>\n",
              "      <td>1</td>\n",
              "    </tr>\n",
              "    <tr>\n",
              "      <th>3</th>\n",
              "      <td>amzn</td>\n",
              "      <td>2760</td>\n",
              "      <td>1</td>\n",
              "      <td>1</td>\n",
              "      <td>19410</td>\n",
              "      <td>11.892847</td>\n",
              "      <td>2.899033e-05</td>\n",
              "      <td>1</td>\n",
              "      <td>1</td>\n",
              "    </tr>\n",
              "    <tr>\n",
              "      <th>4</th>\n",
              "      <td>amzn</td>\n",
              "      <td>62166</td>\n",
              "      <td>1</td>\n",
              "      <td>1</td>\n",
              "      <td>28104</td>\n",
              "      <td>8.208201</td>\n",
              "      <td>2.587762e-05</td>\n",
              "      <td>1</td>\n",
              "      <td>1</td>\n",
              "    </tr>\n",
              "    <tr>\n",
              "      <th>...</th>\n",
              "      <td>...</td>\n",
              "      <td>...</td>\n",
              "      <td>...</td>\n",
              "      <td>...</td>\n",
              "      <td>...</td>\n",
              "      <td>...</td>\n",
              "      <td>...</td>\n",
              "      <td>...</td>\n",
              "      <td>...</td>\n",
              "    </tr>\n",
              "    <tr>\n",
              "      <th>95</th>\n",
              "      <td>road</td>\n",
              "      <td>33</td>\n",
              "      <td>1</td>\n",
              "      <td>1</td>\n",
              "      <td>10</td>\n",
              "      <td>4.927536</td>\n",
              "      <td>7.246377e-02</td>\n",
              "      <td>0</td>\n",
              "      <td>1</td>\n",
              "    </tr>\n",
              "    <tr>\n",
              "      <th>96</th>\n",
              "      <td>road</td>\n",
              "      <td>9</td>\n",
              "      <td>1</td>\n",
              "      <td>1</td>\n",
              "      <td>1407</td>\n",
              "      <td>1.429148</td>\n",
              "      <td>7.210634e-04</td>\n",
              "      <td>0</td>\n",
              "      <td>1</td>\n",
              "    </tr>\n",
              "    <tr>\n",
              "      <th>97</th>\n",
              "      <td>road</td>\n",
              "      <td>8</td>\n",
              "      <td>1</td>\n",
              "      <td>1</td>\n",
              "      <td>459626</td>\n",
              "      <td>1.882545</td>\n",
              "      <td>1.730027e-06</td>\n",
              "      <td>0</td>\n",
              "      <td>0</td>\n",
              "    </tr>\n",
              "    <tr>\n",
              "      <th>98</th>\n",
              "      <td>road</td>\n",
              "      <td>3</td>\n",
              "      <td>135</td>\n",
              "      <td>1</td>\n",
              "      <td>3433</td>\n",
              "      <td>1.334006</td>\n",
              "      <td>2.694418e-04</td>\n",
              "      <td>0</td>\n",
              "      <td>1</td>\n",
              "    </tr>\n",
              "    <tr>\n",
              "      <th>99</th>\n",
              "      <td>road</td>\n",
              "      <td>8</td>\n",
              "      <td>3</td>\n",
              "      <td>1</td>\n",
              "      <td>849885</td>\n",
              "      <td>1.704836</td>\n",
              "      <td>9.427309e-07</td>\n",
              "      <td>0</td>\n",
              "      <td>2</td>\n",
              "    </tr>\n",
              "  </tbody>\n",
              "</table>\n",
              "<p>100 rows × 9 columns</p>\n",
              "</div>"
            ],
            "text/plain": [
              "   graph_type  max_degree  ...  is_power_law  prediction_4\n",
              "0        amzn        2752  ...             1             1\n",
              "1        amzn         420  ...             1             1\n",
              "2        amzn        2747  ...             1             1\n",
              "3        amzn        2760  ...             1             1\n",
              "4        amzn       62166  ...             1             1\n",
              "..        ...         ...  ...           ...           ...\n",
              "95       road          33  ...             0             1\n",
              "96       road           9  ...             0             1\n",
              "97       road           8  ...             0             0\n",
              "98       road           3  ...             0             1\n",
              "99       road           8  ...             0             2\n",
              "\n",
              "[100 rows x 9 columns]"
            ]
          },
          "metadata": {},
          "execution_count": 27
        }
      ]
    },
    {
      "cell_type": "code",
      "metadata": {
        "colab": {
          "base_uri": "https://localhost:8080/"
        },
        "id": "Xe_1geyTS4td",
        "outputId": "85a6f80d-6892-4c81-f8b1-eaf28cdd6327"
      },
      "source": [
        "cluster_pred_4_df[['graph_type', 'prediction_4']].value_counts()"
      ],
      "execution_count": null,
      "outputs": [
        {
          "output_type": "execute_result",
          "data": {
            "text/plain": [
              "graph_type  prediction_4\n",
              "scmd        1               10\n",
              "caid        1               10\n",
              "enzy        1               10\n",
              "gnut        1                9\n",
              "powr        1                8\n",
              "ecnm        1                8\n",
              "eclg        1                6\n",
              "brai        1                6\n",
              "amzn        1                5\n",
              "bion        1                5\n",
              "clab        1                5\n",
              "infr        1                4\n",
              "road        1                3\n",
              "gloc        1                2\n",
              "citt        1                2\n",
              "webn        3                1\n",
              "emal        3                1\n",
              "webn        1                1\n",
              "infr        2                1\n",
              "road        0                1\n",
              "            2                1\n",
              "euss        1                1\n",
              "dtype: int64"
            ]
          },
          "metadata": {},
          "execution_count": 28
        }
      ]
    },
    {
      "cell_type": "code",
      "metadata": {
        "colab": {
          "base_uri": "https://localhost:8080/",
          "height": 506
        },
        "id": "zg7cnolgZdt_",
        "outputId": "76a3c27e-65d3-4aac-9122-e3838bc8a48a"
      },
      "source": [
        "sns.set(rc={'figure.figsize':(10, 8)}) #width=10, height=8\n",
        "ax = sns.countplot(y='graph_type', hue='prediction_4', data=cluster_pred_4_df)"
      ],
      "execution_count": null,
      "outputs": [
        {
          "output_type": "display_data",
          "data": {
            "image/png": "[encoded data removed]",
            "text/plain": [
              "<Figure size 720x576 with 1 Axes>"
            ]
          },
          "metadata": {}
        }
      ]
    },
    {
      "cell_type": "markdown",
      "metadata": {
        "id": "CegWMfx2rDlL"
      },
      "source": [
        "### 6 Clusters"
      ]
    },
    {
      "cell_type": "code",
      "metadata": {
        "id": "2B4HWgp9q_Dm"
      },
      "source": [
        "kmeans_6 = KMeans(n_clusters=6)\n",
        "y_pred_6 = kmeans_6.fit_predict(X)"
      ],
      "execution_count": null,
      "outputs": []
    },
    {
      "cell_type": "code",
      "metadata": {
        "colab": {
          "base_uri": "https://localhost:8080/",
          "height": 612
        },
        "id": "zcvC7mHHrCMz",
        "outputId": "58ae81c5-d04a-4a93-ec5b-14722f1929b6"
      },
      "source": [
        "cluster_pred_6_df = graph_df.copy()\n",
        "cluster_pred_6_df['prediction_6'] = y_pred_6\n",
        "cluster_pred_6_df"
      ],
      "execution_count": null,
      "outputs": [
        {
          "output_type": "execute_result",
          "data": {
            "text/html": [
              "<div>\n",
              "<style scoped>\n",
              "    .dataframe tbody tr th:only-of-type {\n",
              "        vertical-align: middle;\n",
              "    }\n",
              "\n",
              "    .dataframe tbody tr th {\n",
              "        vertical-align: top;\n",
              "    }\n",
              "\n",
              "    .dataframe thead th {\n",
              "        text-align: right;\n",
              "    }\n",
              "</style>\n",
              "<table border=\"1\" class=\"dataframe\">\n",
              "  <thead>\n",
              "    <tr style=\"text-align: right;\">\n",
              "      <th></th>\n",
              "      <th>graph_type</th>\n",
              "      <th>max_degree</th>\n",
              "      <th>qtd_max_degree</th>\n",
              "      <th>min_degree</th>\n",
              "      <th>qtd_min_degree</th>\n",
              "      <th>avg_degree</th>\n",
              "      <th>density</th>\n",
              "      <th>is_power_law</th>\n",
              "      <th>prediction_6</th>\n",
              "    </tr>\n",
              "  </thead>\n",
              "  <tbody>\n",
              "    <tr>\n",
              "      <th>0</th>\n",
              "      <td>amzn</td>\n",
              "      <td>2752</td>\n",
              "      <td>1</td>\n",
              "      <td>1</td>\n",
              "      <td>11627</td>\n",
              "      <td>12.114251</td>\n",
              "      <td>3.003089e-05</td>\n",
              "      <td>1</td>\n",
              "      <td>3</td>\n",
              "    </tr>\n",
              "    <tr>\n",
              "      <th>1</th>\n",
              "      <td>amzn</td>\n",
              "      <td>420</td>\n",
              "      <td>1</td>\n",
              "      <td>1</td>\n",
              "      <td>6069</td>\n",
              "      <td>6.865732</td>\n",
              "      <td>2.619409e-05</td>\n",
              "      <td>1</td>\n",
              "      <td>3</td>\n",
              "    </tr>\n",
              "    <tr>\n",
              "      <th>2</th>\n",
              "      <td>amzn</td>\n",
              "      <td>2747</td>\n",
              "      <td>1</td>\n",
              "      <td>1</td>\n",
              "      <td>18254</td>\n",
              "      <td>11.728029</td>\n",
              "      <td>2.926695e-05</td>\n",
              "      <td>1</td>\n",
              "      <td>0</td>\n",
              "    </tr>\n",
              "    <tr>\n",
              "      <th>3</th>\n",
              "      <td>amzn</td>\n",
              "      <td>2760</td>\n",
              "      <td>1</td>\n",
              "      <td>1</td>\n",
              "      <td>19410</td>\n",
              "      <td>11.892847</td>\n",
              "      <td>2.899033e-05</td>\n",
              "      <td>1</td>\n",
              "      <td>0</td>\n",
              "    </tr>\n",
              "    <tr>\n",
              "      <th>4</th>\n",
              "      <td>amzn</td>\n",
              "      <td>62166</td>\n",
              "      <td>1</td>\n",
              "      <td>1</td>\n",
              "      <td>28104</td>\n",
              "      <td>8.208201</td>\n",
              "      <td>2.587762e-05</td>\n",
              "      <td>1</td>\n",
              "      <td>5</td>\n",
              "    </tr>\n",
              "    <tr>\n",
              "      <th>...</th>\n",
              "      <td>...</td>\n",
              "      <td>...</td>\n",
              "      <td>...</td>\n",
              "      <td>...</td>\n",
              "      <td>...</td>\n",
              "      <td>...</td>\n",
              "      <td>...</td>\n",
              "      <td>...</td>\n",
              "      <td>...</td>\n",
              "    </tr>\n",
              "    <tr>\n",
              "      <th>95</th>\n",
              "      <td>road</td>\n",
              "      <td>33</td>\n",
              "      <td>1</td>\n",
              "      <td>1</td>\n",
              "      <td>10</td>\n",
              "      <td>4.927536</td>\n",
              "      <td>7.246377e-02</td>\n",
              "      <td>0</td>\n",
              "      <td>3</td>\n",
              "    </tr>\n",
              "    <tr>\n",
              "      <th>96</th>\n",
              "      <td>road</td>\n",
              "      <td>9</td>\n",
              "      <td>1</td>\n",
              "      <td>1</td>\n",
              "      <td>1407</td>\n",
              "      <td>1.429148</td>\n",
              "      <td>7.210634e-04</td>\n",
              "      <td>0</td>\n",
              "      <td>3</td>\n",
              "    </tr>\n",
              "    <tr>\n",
              "      <th>97</th>\n",
              "      <td>road</td>\n",
              "      <td>8</td>\n",
              "      <td>1</td>\n",
              "      <td>1</td>\n",
              "      <td>459626</td>\n",
              "      <td>1.882545</td>\n",
              "      <td>1.730027e-06</td>\n",
              "      <td>0</td>\n",
              "      <td>2</td>\n",
              "    </tr>\n",
              "    <tr>\n",
              "      <th>98</th>\n",
              "      <td>road</td>\n",
              "      <td>3</td>\n",
              "      <td>135</td>\n",
              "      <td>1</td>\n",
              "      <td>3433</td>\n",
              "      <td>1.334006</td>\n",
              "      <td>2.694418e-04</td>\n",
              "      <td>0</td>\n",
              "      <td>3</td>\n",
              "    </tr>\n",
              "    <tr>\n",
              "      <th>99</th>\n",
              "      <td>road</td>\n",
              "      <td>8</td>\n",
              "      <td>3</td>\n",
              "      <td>1</td>\n",
              "      <td>849885</td>\n",
              "      <td>1.704836</td>\n",
              "      <td>9.427309e-07</td>\n",
              "      <td>0</td>\n",
              "      <td>1</td>\n",
              "    </tr>\n",
              "  </tbody>\n",
              "</table>\n",
              "<p>100 rows × 9 columns</p>\n",
              "</div>"
            ],
            "text/plain": [
              "   graph_type  max_degree  ...  is_power_law  prediction_6\n",
              "0        amzn        2752  ...             1             3\n",
              "1        amzn         420  ...             1             3\n",
              "2        amzn        2747  ...             1             0\n",
              "3        amzn        2760  ...             1             0\n",
              "4        amzn       62166  ...             1             5\n",
              "..        ...         ...  ...           ...           ...\n",
              "95       road          33  ...             0             3\n",
              "96       road           9  ...             0             3\n",
              "97       road           8  ...             0             2\n",
              "98       road           3  ...             0             3\n",
              "99       road           8  ...             0             1\n",
              "\n",
              "[100 rows x 9 columns]"
            ]
          },
          "metadata": {},
          "execution_count": 31
        }
      ]
    },
    {
      "cell_type": "code",
      "metadata": {
        "colab": {
          "base_uri": "https://localhost:8080/"
        },
        "id": "jt-OBKPVrM0B",
        "outputId": "c1e37d46-c975-4175-8072-01335389ea27"
      },
      "source": [
        "cluster_pred_6_df[['graph_type', 'prediction_6']].value_counts()"
      ],
      "execution_count": null,
      "outputs": [
        {
          "output_type": "execute_result",
          "data": {
            "text/plain": [
              "graph_type  prediction_6\n",
              "caid        5               10\n",
              "enzy        3               10\n",
              "scmd        3                8\n",
              "ecnm        3                8\n",
              "powr        3                8\n",
              "gnut        3                7\n",
              "eclg        3                6\n",
              "brai        3                6\n",
              "bion        3                5\n",
              "clab        3                5\n",
              "infr        3                4\n",
              "road        3                3\n",
              "citt        3                2\n",
              "gnut        0                2\n",
              "gloc        0                2\n",
              "amzn        3                2\n",
              "scmd        0                2\n",
              "amzn        0                2\n",
              "            5                1\n",
              "webn        5                1\n",
              "emal        4                1\n",
              "webn        4                1\n",
              "infr        1                1\n",
              "road        1                1\n",
              "            2                1\n",
              "euss        3                1\n",
              "dtype: int64"
            ]
          },
          "metadata": {},
          "execution_count": 32
        }
      ]
    },
    {
      "cell_type": "code",
      "metadata": {
        "colab": {
          "base_uri": "https://localhost:8080/",
          "height": 506
        },
        "id": "FP33g4z_rYwQ",
        "outputId": "720b5d30-8d99-43d5-d9dc-642d52982f45"
      },
      "source": [
        "sns.set(rc={'figure.figsize':(10, 8)}) #width=10, height=8\n",
        "ax = sns.countplot(y='graph_type', hue='prediction_6', data=cluster_pred_6_df)"
      ],
      "execution_count": null,
      "outputs": [
        {
          "output_type": "display_data",
          "data": {
            "image/png": "[encoded data removed]",
            "text/plain": [
              "<Figure size 720x576 with 1 Axes>"
            ]
          },
          "metadata": {}
        }
      ]
    }
  ]
}