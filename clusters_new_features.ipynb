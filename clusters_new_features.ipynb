{
  "nbformat": 4,
  "nbformat_minor": 0,
  "metadata": {
    "colab": {
      "name": "unsupervised_new_features.ipynb",
      "provenance": [],
      "collapsed_sections": []
    },
    "kernelspec": {
      "name": "python3",
      "display_name": "Python 3"
    },
    "language_info": {
      "name": "python"
    }
  },
  "cells": [
    {
      "cell_type": "code",
      "metadata": {
        "id": "sSgjuOiMykBD",
        "colab": {
          "base_uri": "https://localhost:8080/"
        },
        "outputId": "9235e5a6-97dc-4105-861b-c2d7d851a8c9"
      },
      "source": [
        "import pandas as pd\n",
        "import networkx as nx\n",
        "import matplotlib.pyplot as plt\n",
        "import statistics as sts\n",
        "import numpy as np\n",
        "import seaborn as sns\n",
        "import pickle\n",
        "from sklearn import preprocessing\n",
        "from sklearn.preprocessing import StandardScaler\n",
        "from sklearn.metrics import confusion_matrix, silhouette_score\n",
        "from sklearn.cluster import KMeans\n",
        "from yellowbrick.cluster import SilhouetteVisualizer\n",
        "from sklearn.model_selection import GridSearchCV\n",
        "from sklearn.neighbors import KNeighborsClassifier\n",
        "from sklearn.pipeline import Pipeline"
      ],
      "execution_count": null,
      "outputs": [
        {
          "output_type": "stream",
          "name": "stderr",
          "text": [
            "/usr/local/lib/python3.7/dist-packages/sklearn/utils/deprecation.py:144: FutureWarning: The sklearn.metrics.classification module is  deprecated in version 0.22 and will be removed in version 0.24. The corresponding classes / functions should instead be imported from sklearn.metrics. Anything that cannot be imported from sklearn.metrics is now part of the private API.\n",
            "  warnings.warn(message, FutureWarning)\n"
          ]
        }
      ]
    },
    {
      "cell_type": "code",
      "metadata": {
        "id": "UQt_NDWDDG0f"
      },
      "source": [
        "def plot_confusion_matrix(matrix):\n",
        "    group_names = ['True Neg','False Pos','False Neg','True Pos']\n",
        "    group_counts = [\"{0:0.0f}\".format(value) for value in\n",
        "                    matrix.flatten()]\n",
        "    \n",
        "    group_percentages = [\"{0:.2%}\".format(value) for value in\n",
        "                         matrix.flatten()/np.sum(matrix)]\n",
        "    \n",
        "    labels = [f\"{v1}\\n{v2}\\n{v3}\" for v1, v2, v3 in\n",
        "              zip(group_names, group_counts, group_percentages)]\n",
        "    \n",
        "    labels = np.asarray(labels).reshape(2,2)\n",
        "    sns.heatmap(matrix, annot=labels, fmt='', cmap='Blues')\n",
        "    plt.show()"
      ],
      "execution_count": null,
      "outputs": []
    },
    {
      "cell_type": "markdown",
      "metadata": {
        "id": "MrMcdOGRCeF_"
      },
      "source": [
        "### Load Graph Dataset"
      ]
    },
    {
      "cell_type": "code",
      "metadata": {
        "id": "mAdu0ZurzEHA"
      },
      "source": [
        "graph_df = pd.read_csv('https://raw.githubusercontent.com/viniciusmioto/network_analysis/main/data/graph_db.csv')"
      ],
      "execution_count": null,
      "outputs": []
    },
    {
      "cell_type": "code",
      "metadata": {
        "colab": {
          "base_uri": "https://localhost:8080/",
          "height": 225
        },
        "id": "Tig9kxe2zIAX",
        "outputId": "5ac4438e-7110-4446-e964-7f9bd8fc5fe0"
      },
      "source": [
        "graph_df.head()"
      ],
      "execution_count": null,
      "outputs": [
        {
          "output_type": "execute_result",
          "data": {
            "text/html": [
              "<div>\n",
              "<style scoped>\n",
              "    .dataframe tbody tr th:only-of-type {\n",
              "        vertical-align: middle;\n",
              "    }\n",
              "\n",
              "    .dataframe tbody tr th {\n",
              "        vertical-align: top;\n",
              "    }\n",
              "\n",
              "    .dataframe thead th {\n",
              "        text-align: right;\n",
              "    }\n",
              "</style>\n",
              "<table border=\"1\" class=\"dataframe\">\n",
              "  <thead>\n",
              "    <tr style=\"text-align: right;\">\n",
              "      <th></th>\n",
              "      <th>graph_type</th>\n",
              "      <th>clustering_coef</th>\n",
              "      <th>first_quartile</th>\n",
              "      <th>second_quartile</th>\n",
              "      <th>third_quartile</th>\n",
              "      <th>max_triangles</th>\n",
              "      <th>max_degree</th>\n",
              "      <th>qtd_max_degree</th>\n",
              "      <th>min_degree</th>\n",
              "      <th>qtd_min_degree</th>\n",
              "      <th>avg_degree</th>\n",
              "      <th>density</th>\n",
              "      <th>is_power_law</th>\n",
              "    </tr>\n",
              "  </thead>\n",
              "  <tbody>\n",
              "    <tr>\n",
              "      <th>0</th>\n",
              "      <td>amzn</td>\n",
              "      <td>0.417681</td>\n",
              "      <td>8.0</td>\n",
              "      <td>10.0</td>\n",
              "      <td>13.0</td>\n",
              "      <td>3423</td>\n",
              "      <td>2752</td>\n",
              "      <td>1</td>\n",
              "      <td>1</td>\n",
              "      <td>11627</td>\n",
              "      <td>12.114251</td>\n",
              "      <td>0.000030</td>\n",
              "      <td>1</td>\n",
              "    </tr>\n",
              "    <tr>\n",
              "      <th>1</th>\n",
              "      <td>amzn</td>\n",
              "      <td>0.419780</td>\n",
              "      <td>5.0</td>\n",
              "      <td>6.0</td>\n",
              "      <td>7.0</td>\n",
              "      <td>520</td>\n",
              "      <td>420</td>\n",
              "      <td>1</td>\n",
              "      <td>1</td>\n",
              "      <td>6069</td>\n",
              "      <td>6.865732</td>\n",
              "      <td>0.000026</td>\n",
              "      <td>1</td>\n",
              "    </tr>\n",
              "    <tr>\n",
              "      <th>2</th>\n",
              "      <td>amzn</td>\n",
              "      <td>0.402235</td>\n",
              "      <td>7.0</td>\n",
              "      <td>10.0</td>\n",
              "      <td>13.0</td>\n",
              "      <td>3118</td>\n",
              "      <td>2747</td>\n",
              "      <td>1</td>\n",
              "      <td>1</td>\n",
              "      <td>18254</td>\n",
              "      <td>11.728029</td>\n",
              "      <td>0.000029</td>\n",
              "      <td>1</td>\n",
              "    </tr>\n",
              "    <tr>\n",
              "      <th>3</th>\n",
              "      <td>amzn</td>\n",
              "      <td>0.406396</td>\n",
              "      <td>7.0</td>\n",
              "      <td>10.0</td>\n",
              "      <td>13.0</td>\n",
              "      <td>2994</td>\n",
              "      <td>2760</td>\n",
              "      <td>1</td>\n",
              "      <td>1</td>\n",
              "      <td>19410</td>\n",
              "      <td>11.892847</td>\n",
              "      <td>0.000029</td>\n",
              "      <td>1</td>\n",
              "    </tr>\n",
              "    <tr>\n",
              "      <th>4</th>\n",
              "      <td>amzn</td>\n",
              "      <td>0.728760</td>\n",
              "      <td>3.0</td>\n",
              "      <td>4.0</td>\n",
              "      <td>6.0</td>\n",
              "      <td>238877</td>\n",
              "      <td>62166</td>\n",
              "      <td>1</td>\n",
              "      <td>1</td>\n",
              "      <td>28104</td>\n",
              "      <td>8.208201</td>\n",
              "      <td>0.000026</td>\n",
              "      <td>1</td>\n",
              "    </tr>\n",
              "  </tbody>\n",
              "</table>\n",
              "</div>"
            ],
            "text/plain": [
              "  graph_type  clustering_coef  ...   density  is_power_law\n",
              "0       amzn         0.417681  ...  0.000030             1\n",
              "1       amzn         0.419780  ...  0.000026             1\n",
              "2       amzn         0.402235  ...  0.000029             1\n",
              "3       amzn         0.406396  ...  0.000029             1\n",
              "4       amzn         0.728760  ...  0.000026             1\n",
              "\n",
              "[5 rows x 13 columns]"
            ]
          },
          "metadata": {},
          "execution_count": 4
        }
      ]
    },
    {
      "cell_type": "code",
      "metadata": {
        "colab": {
          "base_uri": "https://localhost:8080/",
          "height": 318
        },
        "id": "e9IaiTL2zMEI",
        "outputId": "70f13cfa-f0bd-40a1-9e91-965d4d662172"
      },
      "source": [
        "graph_df.describe()"
      ],
      "execution_count": null,
      "outputs": [
        {
          "output_type": "execute_result",
          "data": {
            "text/html": [
              "<div>\n",
              "<style scoped>\n",
              "    .dataframe tbody tr th:only-of-type {\n",
              "        vertical-align: middle;\n",
              "    }\n",
              "\n",
              "    .dataframe tbody tr th {\n",
              "        vertical-align: top;\n",
              "    }\n",
              "\n",
              "    .dataframe thead th {\n",
              "        text-align: right;\n",
              "    }\n",
              "</style>\n",
              "<table border=\"1\" class=\"dataframe\">\n",
              "  <thead>\n",
              "    <tr style=\"text-align: right;\">\n",
              "      <th></th>\n",
              "      <th>clustering_coef</th>\n",
              "      <th>first_quartile</th>\n",
              "      <th>second_quartile</th>\n",
              "      <th>third_quartile</th>\n",
              "      <th>max_triangles</th>\n",
              "      <th>max_degree</th>\n",
              "      <th>qtd_max_degree</th>\n",
              "      <th>min_degree</th>\n",
              "      <th>qtd_min_degree</th>\n",
              "      <th>avg_degree</th>\n",
              "      <th>density</th>\n",
              "      <th>is_power_law</th>\n",
              "    </tr>\n",
              "  </thead>\n",
              "  <tbody>\n",
              "    <tr>\n",
              "      <th>count</th>\n",
              "      <td>99.000000</td>\n",
              "      <td>99.000000</td>\n",
              "      <td>99.000000</td>\n",
              "      <td>99.000000</td>\n",
              "      <td>99.000000</td>\n",
              "      <td>99.000000</td>\n",
              "      <td>99.000000</td>\n",
              "      <td>99.000000</td>\n",
              "      <td>99.000000</td>\n",
              "      <td>99.000000</td>\n",
              "      <td>9.900000e+01</td>\n",
              "      <td>99.000000</td>\n",
              "    </tr>\n",
              "    <tr>\n",
              "      <th>mean</th>\n",
              "      <td>7.557130</td>\n",
              "      <td>5.530303</td>\n",
              "      <td>9.797980</td>\n",
              "      <td>18.828283</td>\n",
              "      <td>17568.010101</td>\n",
              "      <td>3742.121212</td>\n",
              "      <td>2.484848</td>\n",
              "      <td>1.333333</td>\n",
              "      <td>21415.656566</td>\n",
              "      <td>16.896765</td>\n",
              "      <td>3.181533e-02</td>\n",
              "      <td>0.525253</td>\n",
              "    </tr>\n",
              "    <tr>\n",
              "      <th>std</th>\n",
              "      <td>72.842041</td>\n",
              "      <td>12.362059</td>\n",
              "      <td>20.442917</td>\n",
              "      <td>37.190640</td>\n",
              "      <td>52596.873026</td>\n",
              "      <td>8766.969232</td>\n",
              "      <td>13.459966</td>\n",
              "      <td>0.699854</td>\n",
              "      <td>99659.157948</td>\n",
              "      <td>31.755194</td>\n",
              "      <td>6.216307e-02</td>\n",
              "      <td>0.501903</td>\n",
              "    </tr>\n",
              "    <tr>\n",
              "      <th>min</th>\n",
              "      <td>0.000000</td>\n",
              "      <td>1.000000</td>\n",
              "      <td>1.000000</td>\n",
              "      <td>1.000000</td>\n",
              "      <td>0.000000</td>\n",
              "      <td>3.000000</td>\n",
              "      <td>1.000000</td>\n",
              "      <td>0.000000</td>\n",
              "      <td>1.000000</td>\n",
              "      <td>1.334006</td>\n",
              "      <td>9.427309e-07</td>\n",
              "      <td>0.000000</td>\n",
              "    </tr>\n",
              "    <tr>\n",
              "      <th>25%</th>\n",
              "      <td>0.000000</td>\n",
              "      <td>1.000000</td>\n",
              "      <td>2.500000</td>\n",
              "      <td>4.000000</td>\n",
              "      <td>0.000000</td>\n",
              "      <td>39.000000</td>\n",
              "      <td>1.000000</td>\n",
              "      <td>1.000000</td>\n",
              "      <td>23.000000</td>\n",
              "      <td>4.408866</td>\n",
              "      <td>2.708631e-04</td>\n",
              "      <td>0.000000</td>\n",
              "    </tr>\n",
              "    <tr>\n",
              "      <th>50%</th>\n",
              "      <td>0.010868</td>\n",
              "      <td>2.000000</td>\n",
              "      <td>3.000000</td>\n",
              "      <td>7.000000</td>\n",
              "      <td>8.000000</td>\n",
              "      <td>150.000000</td>\n",
              "      <td>1.000000</td>\n",
              "      <td>1.000000</td>\n",
              "      <td>1492.000000</td>\n",
              "      <td>6.844652</td>\n",
              "      <td>8.138505e-04</td>\n",
              "      <td>1.000000</td>\n",
              "    </tr>\n",
              "    <tr>\n",
              "      <th>75%</th>\n",
              "      <td>0.585894</td>\n",
              "      <td>4.000000</td>\n",
              "      <td>7.500000</td>\n",
              "      <td>14.000000</td>\n",
              "      <td>11032.500000</td>\n",
              "      <td>2511.500000</td>\n",
              "      <td>1.000000</td>\n",
              "      <td>1.000000</td>\n",
              "      <td>5906.500000</td>\n",
              "      <td>14.132723</td>\n",
              "      <td>2.735161e-02</td>\n",
              "      <td>1.000000</td>\n",
              "    </tr>\n",
              "    <tr>\n",
              "      <th>max</th>\n",
              "      <td>725.000000</td>\n",
              "      <td>80.000000</td>\n",
              "      <td>120.500000</td>\n",
              "      <td>216.000000</td>\n",
              "      <td>343898.000000</td>\n",
              "      <td>62166.000000</td>\n",
              "      <td>135.000000</td>\n",
              "      <td>3.000000</td>\n",
              "      <td>849885.000000</td>\n",
              "      <td>172.981529</td>\n",
              "      <td>3.509615e-01</td>\n",
              "      <td>1.000000</td>\n",
              "    </tr>\n",
              "  </tbody>\n",
              "</table>\n",
              "</div>"
            ],
            "text/plain": [
              "       clustering_coef  first_quartile  ...       density  is_power_law\n",
              "count        99.000000       99.000000  ...  9.900000e+01     99.000000\n",
              "mean          7.557130        5.530303  ...  3.181533e-02      0.525253\n",
              "std          72.842041       12.362059  ...  6.216307e-02      0.501903\n",
              "min           0.000000        1.000000  ...  9.427309e-07      0.000000\n",
              "25%           0.000000        1.000000  ...  2.708631e-04      0.000000\n",
              "50%           0.010868        2.000000  ...  8.138505e-04      1.000000\n",
              "75%           0.585894        4.000000  ...  2.735161e-02      1.000000\n",
              "max         725.000000       80.000000  ...  3.509615e-01      1.000000\n",
              "\n",
              "[8 rows x 12 columns]"
            ]
          },
          "metadata": {},
          "execution_count": 5
        }
      ]
    },
    {
      "cell_type": "markdown",
      "metadata": {
        "id": "897K1xW5CjkY"
      },
      "source": [
        "### Separate Features (X) and Labels (y) "
      ]
    },
    {
      "cell_type": "code",
      "metadata": {
        "id": "QIY6dJdr9hb-"
      },
      "source": [
        "# separating features and labels\n",
        "df_features = graph_df.drop(['is_power_law'], 1)\n",
        "X = np.array(df_features.copy().drop(['graph_type'], 1))\n",
        "y = np.array(graph_df['is_power_law'])"
      ],
      "execution_count": null,
      "outputs": []
    },
    {
      "cell_type": "markdown",
      "metadata": {
        "id": "2VKz7ViaB1pK"
      },
      "source": [
        "### Features Correlation"
      ]
    },
    {
      "cell_type": "code",
      "metadata": {
        "colab": {
          "base_uri": "https://localhost:8080/",
          "height": 351
        },
        "id": "DmSqVk1ydSjL",
        "outputId": "07a0abf0-d04a-4574-c6f1-3d8f9238fb70"
      },
      "source": [
        "features_df = df_features.drop(['graph_type'], 1)\n",
        "sns.heatmap(features_df.corr(), annot=True)"
      ],
      "execution_count": null,
      "outputs": [
        {
          "output_type": "execute_result",
          "data": {
            "text/plain": [
              "<matplotlib.axes._subplots.AxesSubplot at 0x7f1ca022e290>"
            ]
          },
          "metadata": {},
          "execution_count": 7
        },
        {
          "output_type": "display_data",
          "data": {
            "image/png": "[encoded data removed]",
            "text/plain": [
              "<Figure size 432x288 with 2 Axes>"
            ]
          },
          "metadata": {
            "needs_background": "light"
          }
        }
      ]
    },
    {
      "cell_type": "code",
      "metadata": {
        "id": "n3Q0WtSDIhbO"
      },
      "source": [
        "scaler = StandardScaler()\n",
        "scaled_X = scaler.fit_transform(X)"
      ],
      "execution_count": null,
      "outputs": []
    },
    {
      "cell_type": "markdown",
      "metadata": {
        "id": "L2CLfbcMNmIO"
      },
      "source": [
        "# K-Means"
      ]
    },
    {
      "cell_type": "markdown",
      "metadata": {
        "id": "GYsO2LKHFBfE"
      },
      "source": [
        "## Number of Clusters: **2**"
      ]
    },
    {
      "cell_type": "markdown",
      "metadata": {
        "id": "NoJihnnFC7M2"
      },
      "source": [
        "### Create and Fit KMeans Model"
      ]
    },
    {
      "cell_type": "code",
      "metadata": {
        "id": "0UiQ1JubzTY3",
        "colab": {
          "base_uri": "https://localhost:8080/"
        },
        "outputId": "ca296a28-5e33-4698-ce05-001428b9d114"
      },
      "source": [
        "kmeans = KMeans(n_clusters=2, n_init=30)\n",
        "y_pred = kmeans.fit_predict(scaled_X)\n",
        "y_pred"
      ],
      "execution_count": null,
      "outputs": [
        {
          "output_type": "execute_result",
          "data": {
            "text/plain": [
              "array([1, 1, 1, 1, 1, 1, 1, 1, 1, 1, 1, 1, 1, 1, 1, 1, 1, 1, 1, 1, 1, 1,\n",
              "       1, 1, 1, 1, 1, 1, 1, 1, 1, 1, 1, 1, 1, 1, 1, 1, 1, 1, 1, 1, 1, 1,\n",
              "       1, 1, 1, 1, 1, 1, 1, 1, 1, 1, 1, 1, 1, 0, 1, 1, 1, 1, 1, 1, 0, 0,\n",
              "       1, 1, 0, 0, 1, 1, 1, 1, 1, 1, 1, 1, 1, 1, 1, 1, 1, 1, 1, 1, 1, 1,\n",
              "       1, 1, 1, 1, 1, 1, 1, 1, 1, 1, 1], dtype=int32)"
            ]
          },
          "metadata": {},
          "execution_count": 9
        }
      ]
    },
    {
      "cell_type": "markdown",
      "metadata": {
        "id": "lkU86d37poN0"
      },
      "source": [
        "### Group Percentage"
      ]
    },
    {
      "cell_type": "markdown",
      "metadata": {
        "id": "L6AQW6PKGUYh"
      },
      "source": [
        "prediction division"
      ]
    },
    {
      "cell_type": "code",
      "metadata": {
        "colab": {
          "base_uri": "https://localhost:8080/"
        },
        "id": "QARkFGZypgw1",
        "outputId": "0292adf0-0964-4bce-9b3d-c4a3716049bc"
      },
      "source": [
        "print('Group A: ', sum(y_pred)/len(y_pred))\n",
        "print('Group B: ', 1 - sum(y_pred)/len(y_pred))"
      ],
      "execution_count": null,
      "outputs": [
        {
          "output_type": "stream",
          "name": "stdout",
          "text": [
            "Group A:  0.9494949494949495\n",
            "Group B:  0.0505050505050505\n"
          ]
        }
      ]
    },
    {
      "cell_type": "markdown",
      "metadata": {
        "id": "nYh9Opb7EDMH"
      },
      "source": [
        "real percentage of power-law (dataset)"
      ]
    },
    {
      "cell_type": "code",
      "metadata": {
        "colab": {
          "base_uri": "https://localhost:8080/"
        },
        "id": "7h_PIINoCS8y",
        "outputId": "f668a591-09a6-4fcf-8661-763a7701c7db"
      },
      "source": [
        "sum(y)/len(y)"
      ],
      "execution_count": null,
      "outputs": [
        {
          "output_type": "execute_result",
          "data": {
            "text/plain": [
              "0.5252525252525253"
            ]
          },
          "metadata": {},
          "execution_count": 11
        }
      ]
    },
    {
      "cell_type": "markdown",
      "metadata": {
        "id": "1omVGykXNrx6"
      },
      "source": [
        "### Score"
      ]
    },
    {
      "cell_type": "code",
      "metadata": {
        "colab": {
          "base_uri": "https://localhost:8080/"
        },
        "id": "kNMxe-1jNrAM",
        "outputId": "aabc8686-56ca-4a64-b14b-bb066797eb0d"
      },
      "source": [
        "silhouette_score(scaled_X, kmeans.labels_)"
      ],
      "execution_count": null,
      "outputs": [
        {
          "output_type": "execute_result",
          "data": {
            "text/plain": [
              "0.6914766304507216"
            ]
          },
          "metadata": {},
          "execution_count": 12
        }
      ]
    },
    {
      "cell_type": "markdown",
      "metadata": {
        "id": "X3w9KMJSqxo_"
      },
      "source": [
        "First Type"
      ]
    },
    {
      "cell_type": "markdown",
      "metadata": {
        "id": "Mgv2MxMEUe0d"
      },
      "source": [
        "## Finding the Best Number of Clusters"
      ]
    },
    {
      "cell_type": "markdown",
      "metadata": {
        "id": "rBxDHkhbPMN9"
      },
      "source": [
        "### Silhouette Visualizer"
      ]
    },
    {
      "cell_type": "code",
      "metadata": {
        "colab": {
          "base_uri": "https://localhost:8080/",
          "height": 777
        },
        "id": "rfQtWEHrPPYr",
        "outputId": "b8326ad6-5847-4e72-d8d9-4ee055ae68eb"
      },
      "source": [
        "fig, ax = plt.subplots(3, 2, figsize=(20,16))\n",
        "sscore = [] \n",
        "for i in [2, 3, 4, 5, 6, 7]:\n",
        "    '''\n",
        "    Create KMeans instance for different number of clusters\n",
        "    '''\n",
        "    km = KMeans(n_clusters=i)\n",
        "    q, mod = divmod(i, 2)\n",
        "\n",
        "    '''\n",
        "    Create SilhouetteVisualizer instance with KMeans instance\n",
        "    Fit the visualizer\n",
        "    '''\n",
        "    visualizer = SilhouetteVisualizer(km, colors='yellowbrick', ax=ax[q-1][mod])\n",
        "    visualizer.fit(scaled_X)\n",
        "    sscore.append(silhouette_score(scaled_X, km.labels_))"
      ],
      "execution_count": null,
      "outputs": [
        {
          "output_type": "display_data",
          "data": {
            "image/png": "[encoded data removed]",
            "text/plain": [
              "<Figure size 1440x1152 with 6 Axes>"
            ]
          },
          "metadata": {
            "needs_background": "light"
          }
        }
      ]
    },
    {
      "cell_type": "code",
      "metadata": {
        "colab": {
          "base_uri": "https://localhost:8080/"
        },
        "id": "u3CJI2vsQqIF",
        "outputId": "6f2f640f-84b3-4f11-c0cc-55e560b1691e"
      },
      "source": [
        "sscore"
      ],
      "execution_count": null,
      "outputs": [
        {
          "output_type": "execute_result",
          "data": {
            "text/plain": [
              "[0.6914766304507216,\n",
              " 0.5612299870178236,\n",
              " 0.5965729947939103,\n",
              " 0.6120839820266942,\n",
              " 0.5897526668382235,\n",
              " 0.6175280115074191]"
            ]
          },
          "metadata": {},
          "execution_count": 14
        }
      ]
    },
    {
      "cell_type": "code",
      "metadata": {
        "colab": {
          "base_uri": "https://localhost:8080/",
          "height": 319
        },
        "id": "UFXETY4SQtV5",
        "outputId": "dcd7fcc7-8e83-4545-aa3e-e2d3eb21e81c"
      },
      "source": [
        "sns.lineplot([2, 3, 4, 5, 6, 7], sscore)\n",
        "plt.show()"
      ],
      "execution_count": null,
      "outputs": [
        {
          "output_type": "stream",
          "name": "stderr",
          "text": [
            "/usr/local/lib/python3.7/dist-packages/seaborn/_decorators.py:43: FutureWarning: Pass the following variables as keyword args: x, y. From version 0.12, the only valid positional argument will be `data`, and passing other arguments without an explicit keyword will result in an error or misinterpretation.\n",
            "  FutureWarning\n"
          ]
        },
        {
          "output_type": "display_data",
          "data": {
            "image/png": "[encoded data removed]",
            "text/plain": [
              "<Figure size 432x288 with 1 Axes>"
            ]
          },
          "metadata": {
            "needs_background": "light"
          }
        }
      ]
    },
    {
      "cell_type": "markdown",
      "metadata": {
        "id": "F_oyKe7F0uSl"
      },
      "source": [
        "## Getting the Graph Type"
      ]
    },
    {
      "cell_type": "code",
      "metadata": {
        "colab": {
          "base_uri": "https://localhost:8080/",
          "height": 560
        },
        "id": "hPrOaT64akVz",
        "outputId": "56d65467-f916-4378-9d84-f1280a154e96"
      },
      "source": [
        "sns.set(rc={'figure.figsize':(10, 8)}) #width=10, height=8\n",
        "ax = sns.countplot(graph_df['graph_type'], \n",
        "                   order = graph_df['graph_type'].value_counts().index, \n",
        "                   palette = 'GnBu_d')"
      ],
      "execution_count": null,
      "outputs": [
        {
          "output_type": "stream",
          "name": "stderr",
          "text": [
            "/usr/local/lib/python3.7/dist-packages/seaborn/_decorators.py:43: FutureWarning: Pass the following variable as a keyword arg: x. From version 0.12, the only valid positional argument will be `data`, and passing other arguments without an explicit keyword will result in an error or misinterpretation.\n",
            "  FutureWarning\n"
          ]
        },
        {
          "output_type": "display_data",
          "data": {
            "image/png": "[encoded data removed]",
            "text/plain": [
              "<Figure size 720x576 with 1 Axes>"
            ]
          },
          "metadata": {}
        }
      ]
    },
    {
      "cell_type": "markdown",
      "metadata": {
        "id": "tRDD96sfLixv"
      },
      "source": [
        "## How Did the Cluster Separate the Graphs?"
      ]
    },
    {
      "cell_type": "markdown",
      "metadata": {
        "id": "XNKSfj2GVOwU"
      },
      "source": [
        "## 2 Clusters"
      ]
    },
    {
      "cell_type": "code",
      "metadata": {
        "colab": {
          "base_uri": "https://localhost:8080/",
          "height": 441
        },
        "id": "keS-MXFiLoSU",
        "outputId": "b99ca67e-0442-4b48-9976-679c48c455a5"
      },
      "source": [
        "cluster_pred_df = graph_df.copy()\n",
        "cluster_pred_df['prediction'] = y_pred\n",
        "cluster_pred_df"
      ],
      "execution_count": null,
      "outputs": [
        {
          "output_type": "execute_result",
          "data": {
            "text/html": [
              "<div>\n",
              "<style scoped>\n",
              "    .dataframe tbody tr th:only-of-type {\n",
              "        vertical-align: middle;\n",
              "    }\n",
              "\n",
              "    .dataframe tbody tr th {\n",
              "        vertical-align: top;\n",
              "    }\n",
              "\n",
              "    .dataframe thead th {\n",
              "        text-align: right;\n",
              "    }\n",
              "</style>\n",
              "<table border=\"1\" class=\"dataframe\">\n",
              "  <thead>\n",
              "    <tr style=\"text-align: right;\">\n",
              "      <th></th>\n",
              "      <th>graph_type</th>\n",
              "      <th>clustering_coef</th>\n",
              "      <th>first_quartile</th>\n",
              "      <th>second_quartile</th>\n",
              "      <th>third_quartile</th>\n",
              "      <th>max_triangles</th>\n",
              "      <th>max_degree</th>\n",
              "      <th>qtd_max_degree</th>\n",
              "      <th>min_degree</th>\n",
              "      <th>qtd_min_degree</th>\n",
              "      <th>avg_degree</th>\n",
              "      <th>density</th>\n",
              "      <th>is_power_law</th>\n",
              "      <th>prediction</th>\n",
              "    </tr>\n",
              "  </thead>\n",
              "  <tbody>\n",
              "    <tr>\n",
              "      <th>0</th>\n",
              "      <td>amzn</td>\n",
              "      <td>0.417681</td>\n",
              "      <td>8.0</td>\n",
              "      <td>10.0</td>\n",
              "      <td>13.0</td>\n",
              "      <td>3423</td>\n",
              "      <td>2752</td>\n",
              "      <td>1</td>\n",
              "      <td>1</td>\n",
              "      <td>11627</td>\n",
              "      <td>12.114251</td>\n",
              "      <td>0.000030</td>\n",
              "      <td>1</td>\n",
              "      <td>1</td>\n",
              "    </tr>\n",
              "    <tr>\n",
              "      <th>1</th>\n",
              "      <td>amzn</td>\n",
              "      <td>0.419780</td>\n",
              "      <td>5.0</td>\n",
              "      <td>6.0</td>\n",
              "      <td>7.0</td>\n",
              "      <td>520</td>\n",
              "      <td>420</td>\n",
              "      <td>1</td>\n",
              "      <td>1</td>\n",
              "      <td>6069</td>\n",
              "      <td>6.865732</td>\n",
              "      <td>0.000026</td>\n",
              "      <td>1</td>\n",
              "      <td>1</td>\n",
              "    </tr>\n",
              "    <tr>\n",
              "      <th>2</th>\n",
              "      <td>amzn</td>\n",
              "      <td>0.402235</td>\n",
              "      <td>7.0</td>\n",
              "      <td>10.0</td>\n",
              "      <td>13.0</td>\n",
              "      <td>3118</td>\n",
              "      <td>2747</td>\n",
              "      <td>1</td>\n",
              "      <td>1</td>\n",
              "      <td>18254</td>\n",
              "      <td>11.728029</td>\n",
              "      <td>0.000029</td>\n",
              "      <td>1</td>\n",
              "      <td>1</td>\n",
              "    </tr>\n",
              "    <tr>\n",
              "      <th>3</th>\n",
              "      <td>amzn</td>\n",
              "      <td>0.406396</td>\n",
              "      <td>7.0</td>\n",
              "      <td>10.0</td>\n",
              "      <td>13.0</td>\n",
              "      <td>2994</td>\n",
              "      <td>2760</td>\n",
              "      <td>1</td>\n",
              "      <td>1</td>\n",
              "      <td>19410</td>\n",
              "      <td>11.892847</td>\n",
              "      <td>0.000029</td>\n",
              "      <td>1</td>\n",
              "      <td>1</td>\n",
              "    </tr>\n",
              "    <tr>\n",
              "      <th>4</th>\n",
              "      <td>amzn</td>\n",
              "      <td>0.728760</td>\n",
              "      <td>3.0</td>\n",
              "      <td>4.0</td>\n",
              "      <td>6.0</td>\n",
              "      <td>238877</td>\n",
              "      <td>62166</td>\n",
              "      <td>1</td>\n",
              "      <td>1</td>\n",
              "      <td>28104</td>\n",
              "      <td>8.208201</td>\n",
              "      <td>0.000026</td>\n",
              "      <td>1</td>\n",
              "      <td>1</td>\n",
              "    </tr>\n",
              "    <tr>\n",
              "      <th>...</th>\n",
              "      <td>...</td>\n",
              "      <td>...</td>\n",
              "      <td>...</td>\n",
              "      <td>...</td>\n",
              "      <td>...</td>\n",
              "      <td>...</td>\n",
              "      <td>...</td>\n",
              "      <td>...</td>\n",
              "      <td>...</td>\n",
              "      <td>...</td>\n",
              "      <td>...</td>\n",
              "      <td>...</td>\n",
              "      <td>...</td>\n",
              "      <td>...</td>\n",
              "    </tr>\n",
              "    <tr>\n",
              "      <th>94</th>\n",
              "      <td>powr</td>\n",
              "      <td>0.000000</td>\n",
              "      <td>1.0</td>\n",
              "      <td>1.0</td>\n",
              "      <td>2.0</td>\n",
              "      <td>0</td>\n",
              "      <td>19</td>\n",
              "      <td>1</td>\n",
              "      <td>1</td>\n",
              "      <td>3492</td>\n",
              "      <td>1.894828</td>\n",
              "      <td>0.000272</td>\n",
              "      <td>0</td>\n",
              "      <td>1</td>\n",
              "    </tr>\n",
              "    <tr>\n",
              "      <th>95</th>\n",
              "      <td>road</td>\n",
              "      <td>0.000000</td>\n",
              "      <td>3.0</td>\n",
              "      <td>3.0</td>\n",
              "      <td>4.0</td>\n",
              "      <td>0</td>\n",
              "      <td>33</td>\n",
              "      <td>1</td>\n",
              "      <td>1</td>\n",
              "      <td>10</td>\n",
              "      <td>4.927536</td>\n",
              "      <td>0.072464</td>\n",
              "      <td>0</td>\n",
              "      <td>1</td>\n",
              "    </tr>\n",
              "    <tr>\n",
              "      <th>96</th>\n",
              "      <td>road</td>\n",
              "      <td>0.000000</td>\n",
              "      <td>1.0</td>\n",
              "      <td>1.0</td>\n",
              "      <td>2.0</td>\n",
              "      <td>0</td>\n",
              "      <td>9</td>\n",
              "      <td>1</td>\n",
              "      <td>1</td>\n",
              "      <td>1407</td>\n",
              "      <td>1.429148</td>\n",
              "      <td>0.000721</td>\n",
              "      <td>0</td>\n",
              "      <td>1</td>\n",
              "    </tr>\n",
              "    <tr>\n",
              "      <th>97</th>\n",
              "      <td>road</td>\n",
              "      <td>0.010947</td>\n",
              "      <td>1.0</td>\n",
              "      <td>2.0</td>\n",
              "      <td>3.0</td>\n",
              "      <td>5</td>\n",
              "      <td>8</td>\n",
              "      <td>1</td>\n",
              "      <td>1</td>\n",
              "      <td>459626</td>\n",
              "      <td>1.882545</td>\n",
              "      <td>0.000002</td>\n",
              "      <td>0</td>\n",
              "      <td>1</td>\n",
              "    </tr>\n",
              "    <tr>\n",
              "      <th>98</th>\n",
              "      <td>road</td>\n",
              "      <td>0.000000</td>\n",
              "      <td>1.0</td>\n",
              "      <td>1.0</td>\n",
              "      <td>2.0</td>\n",
              "      <td>0</td>\n",
              "      <td>3</td>\n",
              "      <td>135</td>\n",
              "      <td>1</td>\n",
              "      <td>3433</td>\n",
              "      <td>1.334006</td>\n",
              "      <td>0.000269</td>\n",
              "      <td>0</td>\n",
              "      <td>1</td>\n",
              "    </tr>\n",
              "  </tbody>\n",
              "</table>\n",
              "<p>99 rows × 14 columns</p>\n",
              "</div>"
            ],
            "text/plain": [
              "   graph_type  clustering_coef  ...  is_power_law  prediction\n",
              "0        amzn         0.417681  ...             1           1\n",
              "1        amzn         0.419780  ...             1           1\n",
              "2        amzn         0.402235  ...             1           1\n",
              "3        amzn         0.406396  ...             1           1\n",
              "4        amzn         0.728760  ...             1           1\n",
              "..        ...              ...  ...           ...         ...\n",
              "94       powr         0.000000  ...             0           1\n",
              "95       road         0.000000  ...             0           1\n",
              "96       road         0.000000  ...             0           1\n",
              "97       road         0.010947  ...             0           1\n",
              "98       road         0.000000  ...             0           1\n",
              "\n",
              "[99 rows x 14 columns]"
            ]
          },
          "metadata": {},
          "execution_count": 17
        }
      ]
    },
    {
      "cell_type": "code",
      "metadata": {
        "colab": {
          "base_uri": "https://localhost:8080/"
        },
        "id": "73ogPLYwObUw",
        "outputId": "e74f3d6c-86da-4b11-8589-ee3d743f817d"
      },
      "source": [
        "cluster_pred_df[['graph_type', 'prediction']].value_counts()"
      ],
      "execution_count": null,
      "outputs": [
        {
          "output_type": "execute_result",
          "data": {
            "text/plain": [
              "graph_type  prediction\n",
              "caid        1             10\n",
              "enzy        1             10\n",
              "scmd        1             10\n",
              "gnut        1              9\n",
              "powr        1              8\n",
              "eclg        1              6\n",
              "amzn        1              5\n",
              "bion        1              5\n",
              "infr        1              5\n",
              "brai        1              5\n",
              "clab        1              5\n",
              "ecnm        1              4\n",
              "            0              4\n",
              "road        1              4\n",
              "citt        1              2\n",
              "gloc        1              2\n",
              "webn        1              2\n",
              "emal        1              1\n",
              "euss        1              1\n",
              "brai        0              1\n",
              "dtype: int64"
            ]
          },
          "metadata": {},
          "execution_count": 18
        }
      ]
    },
    {
      "cell_type": "code",
      "metadata": {
        "colab": {
          "base_uri": "https://localhost:8080/",
          "height": 506
        },
        "id": "crRz4CvFWhwT",
        "outputId": "c553da4d-c9fb-4706-b669-f47c3fb68997"
      },
      "source": [
        "sns.set(rc={'figure.figsize':(10, 8)}) #width=10, height=8\n",
        "ax = sns.countplot(y='graph_type', hue='prediction', data=cluster_pred_df)"
      ],
      "execution_count": null,
      "outputs": [
        {
          "output_type": "display_data",
          "data": {
            "image/png": "[encoded data removed]",
            "text/plain": [
              "<Figure size 720x576 with 1 Axes>"
            ]
          },
          "metadata": {}
        }
      ]
    },
    {
      "cell_type": "markdown",
      "metadata": {
        "id": "wL2ZjF0iYLhl"
      },
      "source": [
        "## 3 Clusters"
      ]
    },
    {
      "cell_type": "code",
      "metadata": {
        "colab": {
          "base_uri": "https://localhost:8080/",
          "height": 441
        },
        "id": "kPjvjys2YLHm",
        "outputId": "34a875c7-a42f-4fec-b64c-78034d17fb94"
      },
      "source": [
        "kmeans_3 = KMeans(n_clusters=3)\n",
        "y_pred_3 = kmeans_3.fit_predict(scaled_X)\n",
        "cluster_pred_3_df = graph_df.copy()\n",
        "cluster_pred_3_df['prediction_3'] = y_pred_3\n",
        "cluster_pred_3_df"
      ],
      "execution_count": null,
      "outputs": [
        {
          "output_type": "execute_result",
          "data": {
            "text/html": [
              "<div>\n",
              "<style scoped>\n",
              "    .dataframe tbody tr th:only-of-type {\n",
              "        vertical-align: middle;\n",
              "    }\n",
              "\n",
              "    .dataframe tbody tr th {\n",
              "        vertical-align: top;\n",
              "    }\n",
              "\n",
              "    .dataframe thead th {\n",
              "        text-align: right;\n",
              "    }\n",
              "</style>\n",
              "<table border=\"1\" class=\"dataframe\">\n",
              "  <thead>\n",
              "    <tr style=\"text-align: right;\">\n",
              "      <th></th>\n",
              "      <th>graph_type</th>\n",
              "      <th>clustering_coef</th>\n",
              "      <th>first_quartile</th>\n",
              "      <th>second_quartile</th>\n",
              "      <th>third_quartile</th>\n",
              "      <th>max_triangles</th>\n",
              "      <th>max_degree</th>\n",
              "      <th>qtd_max_degree</th>\n",
              "      <th>min_degree</th>\n",
              "      <th>qtd_min_degree</th>\n",
              "      <th>avg_degree</th>\n",
              "      <th>density</th>\n",
              "      <th>is_power_law</th>\n",
              "      <th>prediction_3</th>\n",
              "    </tr>\n",
              "  </thead>\n",
              "  <tbody>\n",
              "    <tr>\n",
              "      <th>0</th>\n",
              "      <td>amzn</td>\n",
              "      <td>0.417681</td>\n",
              "      <td>8.0</td>\n",
              "      <td>10.0</td>\n",
              "      <td>13.0</td>\n",
              "      <td>3423</td>\n",
              "      <td>2752</td>\n",
              "      <td>1</td>\n",
              "      <td>1</td>\n",
              "      <td>11627</td>\n",
              "      <td>12.114251</td>\n",
              "      <td>0.000030</td>\n",
              "      <td>1</td>\n",
              "      <td>0</td>\n",
              "    </tr>\n",
              "    <tr>\n",
              "      <th>1</th>\n",
              "      <td>amzn</td>\n",
              "      <td>0.419780</td>\n",
              "      <td>5.0</td>\n",
              "      <td>6.0</td>\n",
              "      <td>7.0</td>\n",
              "      <td>520</td>\n",
              "      <td>420</td>\n",
              "      <td>1</td>\n",
              "      <td>1</td>\n",
              "      <td>6069</td>\n",
              "      <td>6.865732</td>\n",
              "      <td>0.000026</td>\n",
              "      <td>1</td>\n",
              "      <td>0</td>\n",
              "    </tr>\n",
              "    <tr>\n",
              "      <th>2</th>\n",
              "      <td>amzn</td>\n",
              "      <td>0.402235</td>\n",
              "      <td>7.0</td>\n",
              "      <td>10.0</td>\n",
              "      <td>13.0</td>\n",
              "      <td>3118</td>\n",
              "      <td>2747</td>\n",
              "      <td>1</td>\n",
              "      <td>1</td>\n",
              "      <td>18254</td>\n",
              "      <td>11.728029</td>\n",
              "      <td>0.000029</td>\n",
              "      <td>1</td>\n",
              "      <td>0</td>\n",
              "    </tr>\n",
              "    <tr>\n",
              "      <th>3</th>\n",
              "      <td>amzn</td>\n",
              "      <td>0.406396</td>\n",
              "      <td>7.0</td>\n",
              "      <td>10.0</td>\n",
              "      <td>13.0</td>\n",
              "      <td>2994</td>\n",
              "      <td>2760</td>\n",
              "      <td>1</td>\n",
              "      <td>1</td>\n",
              "      <td>19410</td>\n",
              "      <td>11.892847</td>\n",
              "      <td>0.000029</td>\n",
              "      <td>1</td>\n",
              "      <td>0</td>\n",
              "    </tr>\n",
              "    <tr>\n",
              "      <th>4</th>\n",
              "      <td>amzn</td>\n",
              "      <td>0.728760</td>\n",
              "      <td>3.0</td>\n",
              "      <td>4.0</td>\n",
              "      <td>6.0</td>\n",
              "      <td>238877</td>\n",
              "      <td>62166</td>\n",
              "      <td>1</td>\n",
              "      <td>1</td>\n",
              "      <td>28104</td>\n",
              "      <td>8.208201</td>\n",
              "      <td>0.000026</td>\n",
              "      <td>1</td>\n",
              "      <td>0</td>\n",
              "    </tr>\n",
              "    <tr>\n",
              "      <th>...</th>\n",
              "      <td>...</td>\n",
              "      <td>...</td>\n",
              "      <td>...</td>\n",
              "      <td>...</td>\n",
              "      <td>...</td>\n",
              "      <td>...</td>\n",
              "      <td>...</td>\n",
              "      <td>...</td>\n",
              "      <td>...</td>\n",
              "      <td>...</td>\n",
              "      <td>...</td>\n",
              "      <td>...</td>\n",
              "      <td>...</td>\n",
              "      <td>...</td>\n",
              "    </tr>\n",
              "    <tr>\n",
              "      <th>94</th>\n",
              "      <td>powr</td>\n",
              "      <td>0.000000</td>\n",
              "      <td>1.0</td>\n",
              "      <td>1.0</td>\n",
              "      <td>2.0</td>\n",
              "      <td>0</td>\n",
              "      <td>19</td>\n",
              "      <td>1</td>\n",
              "      <td>1</td>\n",
              "      <td>3492</td>\n",
              "      <td>1.894828</td>\n",
              "      <td>0.000272</td>\n",
              "      <td>0</td>\n",
              "      <td>0</td>\n",
              "    </tr>\n",
              "    <tr>\n",
              "      <th>95</th>\n",
              "      <td>road</td>\n",
              "      <td>0.000000</td>\n",
              "      <td>3.0</td>\n",
              "      <td>3.0</td>\n",
              "      <td>4.0</td>\n",
              "      <td>0</td>\n",
              "      <td>33</td>\n",
              "      <td>1</td>\n",
              "      <td>1</td>\n",
              "      <td>10</td>\n",
              "      <td>4.927536</td>\n",
              "      <td>0.072464</td>\n",
              "      <td>0</td>\n",
              "      <td>0</td>\n",
              "    </tr>\n",
              "    <tr>\n",
              "      <th>96</th>\n",
              "      <td>road</td>\n",
              "      <td>0.000000</td>\n",
              "      <td>1.0</td>\n",
              "      <td>1.0</td>\n",
              "      <td>2.0</td>\n",
              "      <td>0</td>\n",
              "      <td>9</td>\n",
              "      <td>1</td>\n",
              "      <td>1</td>\n",
              "      <td>1407</td>\n",
              "      <td>1.429148</td>\n",
              "      <td>0.000721</td>\n",
              "      <td>0</td>\n",
              "      <td>0</td>\n",
              "    </tr>\n",
              "    <tr>\n",
              "      <th>97</th>\n",
              "      <td>road</td>\n",
              "      <td>0.010947</td>\n",
              "      <td>1.0</td>\n",
              "      <td>2.0</td>\n",
              "      <td>3.0</td>\n",
              "      <td>5</td>\n",
              "      <td>8</td>\n",
              "      <td>1</td>\n",
              "      <td>1</td>\n",
              "      <td>459626</td>\n",
              "      <td>1.882545</td>\n",
              "      <td>0.000002</td>\n",
              "      <td>0</td>\n",
              "      <td>0</td>\n",
              "    </tr>\n",
              "    <tr>\n",
              "      <th>98</th>\n",
              "      <td>road</td>\n",
              "      <td>0.000000</td>\n",
              "      <td>1.0</td>\n",
              "      <td>1.0</td>\n",
              "      <td>2.0</td>\n",
              "      <td>0</td>\n",
              "      <td>3</td>\n",
              "      <td>135</td>\n",
              "      <td>1</td>\n",
              "      <td>3433</td>\n",
              "      <td>1.334006</td>\n",
              "      <td>0.000269</td>\n",
              "      <td>0</td>\n",
              "      <td>0</td>\n",
              "    </tr>\n",
              "  </tbody>\n",
              "</table>\n",
              "<p>99 rows × 14 columns</p>\n",
              "</div>"
            ],
            "text/plain": [
              "   graph_type  clustering_coef  ...  is_power_law  prediction_3\n",
              "0        amzn         0.417681  ...             1             0\n",
              "1        amzn         0.419780  ...             1             0\n",
              "2        amzn         0.402235  ...             1             0\n",
              "3        amzn         0.406396  ...             1             0\n",
              "4        amzn         0.728760  ...             1             0\n",
              "..        ...              ...  ...           ...           ...\n",
              "94       powr         0.000000  ...             0             0\n",
              "95       road         0.000000  ...             0             0\n",
              "96       road         0.000000  ...             0             0\n",
              "97       road         0.010947  ...             0             0\n",
              "98       road         0.000000  ...             0             0\n",
              "\n",
              "[99 rows x 14 columns]"
            ]
          },
          "metadata": {},
          "execution_count": 20
        }
      ]
    },
    {
      "cell_type": "code",
      "metadata": {
        "colab": {
          "base_uri": "https://localhost:8080/"
        },
        "id": "tTOrQMw2YWxd",
        "outputId": "f758c14c-72ce-40eb-88ee-8db9c76bcaf0"
      },
      "source": [
        "cluster_pred_3_df[['graph_type', 'prediction_3']].value_counts()"
      ],
      "execution_count": null,
      "outputs": [
        {
          "output_type": "execute_result",
          "data": {
            "text/plain": [
              "graph_type  prediction_3\n",
              "caid        0               10\n",
              "scmd        0               10\n",
              "gnut        0                9\n",
              "enzy        1                9\n",
              "powr        0                8\n",
              "eclg        0                6\n",
              "amzn        0                5\n",
              "bion        0                5\n",
              "infr        0                5\n",
              "clab        0                5\n",
              "ecnm        0                4\n",
              "brai        0                4\n",
              "ecnm        2                4\n",
              "road        0                4\n",
              "citt        0                2\n",
              "gloc        0                2\n",
              "webn        0                2\n",
              "emal        0                1\n",
              "enzy        0                1\n",
              "euss        0                1\n",
              "brai        2                1\n",
              "            1                1\n",
              "dtype: int64"
            ]
          },
          "metadata": {},
          "execution_count": 21
        }
      ]
    },
    {
      "cell_type": "code",
      "metadata": {
        "colab": {
          "base_uri": "https://localhost:8080/",
          "height": 506
        },
        "id": "SkTbXxtBYdWL",
        "outputId": "615f5f02-5d5d-4180-f49a-f4fd10d99f60"
      },
      "source": [
        "sns.set(rc={'figure.figsize':(10, 8)}) #width=10, height=8\n",
        "ax = sns.countplot(y='graph_type', hue='prediction_3', data=cluster_pred_3_df)"
      ],
      "execution_count": null,
      "outputs": [
        {
          "output_type": "display_data",
          "data": {
            "image/png": "[encoded data removed]",
            "text/plain": [
              "<Figure size 720x576 with 1 Axes>"
            ]
          },
          "metadata": {}
        }
      ]
    },
    {
      "cell_type": "markdown",
      "metadata": {
        "id": "a9IFB5NYVSAi"
      },
      "source": [
        "### 4 Clusters"
      ]
    },
    {
      "cell_type": "code",
      "metadata": {
        "id": "V48wQZyHSEX2"
      },
      "source": [
        "kmeans_4 = KMeans(n_clusters=4)\n",
        "y_pred_4 = kmeans_4.fit_predict(scaled_X)"
      ],
      "execution_count": null,
      "outputs": []
    },
    {
      "cell_type": "code",
      "metadata": {
        "colab": {
          "base_uri": "https://localhost:8080/",
          "height": 441
        },
        "id": "LCQ_dGq8SJVK",
        "outputId": "fa2f0176-c1f2-42d1-d23e-20ca2937b07b"
      },
      "source": [
        "cluster_pred_4_df = graph_df.copy()\n",
        "cluster_pred_4_df['prediction_4'] = y_pred_4\n",
        "cluster_pred_4_df"
      ],
      "execution_count": null,
      "outputs": [
        {
          "output_type": "execute_result",
          "data": {
            "text/html": [
              "<div>\n",
              "<style scoped>\n",
              "    .dataframe tbody tr th:only-of-type {\n",
              "        vertical-align: middle;\n",
              "    }\n",
              "\n",
              "    .dataframe tbody tr th {\n",
              "        vertical-align: top;\n",
              "    }\n",
              "\n",
              "    .dataframe thead th {\n",
              "        text-align: right;\n",
              "    }\n",
              "</style>\n",
              "<table border=\"1\" class=\"dataframe\">\n",
              "  <thead>\n",
              "    <tr style=\"text-align: right;\">\n",
              "      <th></th>\n",
              "      <th>graph_type</th>\n",
              "      <th>clustering_coef</th>\n",
              "      <th>first_quartile</th>\n",
              "      <th>second_quartile</th>\n",
              "      <th>third_quartile</th>\n",
              "      <th>max_triangles</th>\n",
              "      <th>max_degree</th>\n",
              "      <th>qtd_max_degree</th>\n",
              "      <th>min_degree</th>\n",
              "      <th>qtd_min_degree</th>\n",
              "      <th>avg_degree</th>\n",
              "      <th>density</th>\n",
              "      <th>is_power_law</th>\n",
              "      <th>prediction_4</th>\n",
              "    </tr>\n",
              "  </thead>\n",
              "  <tbody>\n",
              "    <tr>\n",
              "      <th>0</th>\n",
              "      <td>amzn</td>\n",
              "      <td>0.417681</td>\n",
              "      <td>8.0</td>\n",
              "      <td>10.0</td>\n",
              "      <td>13.0</td>\n",
              "      <td>3423</td>\n",
              "      <td>2752</td>\n",
              "      <td>1</td>\n",
              "      <td>1</td>\n",
              "      <td>11627</td>\n",
              "      <td>12.114251</td>\n",
              "      <td>0.000030</td>\n",
              "      <td>1</td>\n",
              "      <td>0</td>\n",
              "    </tr>\n",
              "    <tr>\n",
              "      <th>1</th>\n",
              "      <td>amzn</td>\n",
              "      <td>0.419780</td>\n",
              "      <td>5.0</td>\n",
              "      <td>6.0</td>\n",
              "      <td>7.0</td>\n",
              "      <td>520</td>\n",
              "      <td>420</td>\n",
              "      <td>1</td>\n",
              "      <td>1</td>\n",
              "      <td>6069</td>\n",
              "      <td>6.865732</td>\n",
              "      <td>0.000026</td>\n",
              "      <td>1</td>\n",
              "      <td>0</td>\n",
              "    </tr>\n",
              "    <tr>\n",
              "      <th>2</th>\n",
              "      <td>amzn</td>\n",
              "      <td>0.402235</td>\n",
              "      <td>7.0</td>\n",
              "      <td>10.0</td>\n",
              "      <td>13.0</td>\n",
              "      <td>3118</td>\n",
              "      <td>2747</td>\n",
              "      <td>1</td>\n",
              "      <td>1</td>\n",
              "      <td>18254</td>\n",
              "      <td>11.728029</td>\n",
              "      <td>0.000029</td>\n",
              "      <td>1</td>\n",
              "      <td>0</td>\n",
              "    </tr>\n",
              "    <tr>\n",
              "      <th>3</th>\n",
              "      <td>amzn</td>\n",
              "      <td>0.406396</td>\n",
              "      <td>7.0</td>\n",
              "      <td>10.0</td>\n",
              "      <td>13.0</td>\n",
              "      <td>2994</td>\n",
              "      <td>2760</td>\n",
              "      <td>1</td>\n",
              "      <td>1</td>\n",
              "      <td>19410</td>\n",
              "      <td>11.892847</td>\n",
              "      <td>0.000029</td>\n",
              "      <td>1</td>\n",
              "      <td>0</td>\n",
              "    </tr>\n",
              "    <tr>\n",
              "      <th>4</th>\n",
              "      <td>amzn</td>\n",
              "      <td>0.728760</td>\n",
              "      <td>3.0</td>\n",
              "      <td>4.0</td>\n",
              "      <td>6.0</td>\n",
              "      <td>238877</td>\n",
              "      <td>62166</td>\n",
              "      <td>1</td>\n",
              "      <td>1</td>\n",
              "      <td>28104</td>\n",
              "      <td>8.208201</td>\n",
              "      <td>0.000026</td>\n",
              "      <td>1</td>\n",
              "      <td>2</td>\n",
              "    </tr>\n",
              "    <tr>\n",
              "      <th>...</th>\n",
              "      <td>...</td>\n",
              "      <td>...</td>\n",
              "      <td>...</td>\n",
              "      <td>...</td>\n",
              "      <td>...</td>\n",
              "      <td>...</td>\n",
              "      <td>...</td>\n",
              "      <td>...</td>\n",
              "      <td>...</td>\n",
              "      <td>...</td>\n",
              "      <td>...</td>\n",
              "      <td>...</td>\n",
              "      <td>...</td>\n",
              "      <td>...</td>\n",
              "    </tr>\n",
              "    <tr>\n",
              "      <th>94</th>\n",
              "      <td>powr</td>\n",
              "      <td>0.000000</td>\n",
              "      <td>1.0</td>\n",
              "      <td>1.0</td>\n",
              "      <td>2.0</td>\n",
              "      <td>0</td>\n",
              "      <td>19</td>\n",
              "      <td>1</td>\n",
              "      <td>1</td>\n",
              "      <td>3492</td>\n",
              "      <td>1.894828</td>\n",
              "      <td>0.000272</td>\n",
              "      <td>0</td>\n",
              "      <td>0</td>\n",
              "    </tr>\n",
              "    <tr>\n",
              "      <th>95</th>\n",
              "      <td>road</td>\n",
              "      <td>0.000000</td>\n",
              "      <td>3.0</td>\n",
              "      <td>3.0</td>\n",
              "      <td>4.0</td>\n",
              "      <td>0</td>\n",
              "      <td>33</td>\n",
              "      <td>1</td>\n",
              "      <td>1</td>\n",
              "      <td>10</td>\n",
              "      <td>4.927536</td>\n",
              "      <td>0.072464</td>\n",
              "      <td>0</td>\n",
              "      <td>0</td>\n",
              "    </tr>\n",
              "    <tr>\n",
              "      <th>96</th>\n",
              "      <td>road</td>\n",
              "      <td>0.000000</td>\n",
              "      <td>1.0</td>\n",
              "      <td>1.0</td>\n",
              "      <td>2.0</td>\n",
              "      <td>0</td>\n",
              "      <td>9</td>\n",
              "      <td>1</td>\n",
              "      <td>1</td>\n",
              "      <td>1407</td>\n",
              "      <td>1.429148</td>\n",
              "      <td>0.000721</td>\n",
              "      <td>0</td>\n",
              "      <td>0</td>\n",
              "    </tr>\n",
              "    <tr>\n",
              "      <th>97</th>\n",
              "      <td>road</td>\n",
              "      <td>0.010947</td>\n",
              "      <td>1.0</td>\n",
              "      <td>2.0</td>\n",
              "      <td>3.0</td>\n",
              "      <td>5</td>\n",
              "      <td>8</td>\n",
              "      <td>1</td>\n",
              "      <td>1</td>\n",
              "      <td>459626</td>\n",
              "      <td>1.882545</td>\n",
              "      <td>0.000002</td>\n",
              "      <td>0</td>\n",
              "      <td>0</td>\n",
              "    </tr>\n",
              "    <tr>\n",
              "      <th>98</th>\n",
              "      <td>road</td>\n",
              "      <td>0.000000</td>\n",
              "      <td>1.0</td>\n",
              "      <td>1.0</td>\n",
              "      <td>2.0</td>\n",
              "      <td>0</td>\n",
              "      <td>3</td>\n",
              "      <td>135</td>\n",
              "      <td>1</td>\n",
              "      <td>3433</td>\n",
              "      <td>1.334006</td>\n",
              "      <td>0.000269</td>\n",
              "      <td>0</td>\n",
              "      <td>0</td>\n",
              "    </tr>\n",
              "  </tbody>\n",
              "</table>\n",
              "<p>99 rows × 14 columns</p>\n",
              "</div>"
            ],
            "text/plain": [
              "   graph_type  clustering_coef  ...  is_power_law  prediction_4\n",
              "0        amzn         0.417681  ...             1             0\n",
              "1        amzn         0.419780  ...             1             0\n",
              "2        amzn         0.402235  ...             1             0\n",
              "3        amzn         0.406396  ...             1             0\n",
              "4        amzn         0.728760  ...             1             2\n",
              "..        ...              ...  ...           ...           ...\n",
              "94       powr         0.000000  ...             0             0\n",
              "95       road         0.000000  ...             0             0\n",
              "96       road         0.000000  ...             0             0\n",
              "97       road         0.010947  ...             0             0\n",
              "98       road         0.000000  ...             0             0\n",
              "\n",
              "[99 rows x 14 columns]"
            ]
          },
          "metadata": {},
          "execution_count": 24
        }
      ]
    },
    {
      "cell_type": "code",
      "metadata": {
        "colab": {
          "base_uri": "https://localhost:8080/"
        },
        "id": "Xe_1geyTS4td",
        "outputId": "9f035da2-945c-41b1-e04c-992ed9756e07"
      },
      "source": [
        "cluster_pred_4_df[['graph_type', 'prediction_4']].value_counts()"
      ],
      "execution_count": null,
      "outputs": [
        {
          "output_type": "execute_result",
          "data": {
            "text/plain": [
              "graph_type  prediction_4\n",
              "caid        0               10\n",
              "scmd        0               10\n",
              "gnut        0                9\n",
              "enzy        3                9\n",
              "powr        0                8\n",
              "eclg        0                6\n",
              "bion        0                5\n",
              "infr        0                5\n",
              "clab        0                5\n",
              "ecnm        1                4\n",
              "            0                4\n",
              "brai        0                4\n",
              "amzn        0                4\n",
              "road        0                4\n",
              "citt        0                2\n",
              "gloc        0                2\n",
              "webn        2                2\n",
              "emal        0                1\n",
              "enzy        0                1\n",
              "euss        0                1\n",
              "brai        3                1\n",
              "            1                1\n",
              "amzn        2                1\n",
              "dtype: int64"
            ]
          },
          "metadata": {},
          "execution_count": 25
        }
      ]
    },
    {
      "cell_type": "code",
      "metadata": {
        "colab": {
          "base_uri": "https://localhost:8080/",
          "height": 506
        },
        "id": "zg7cnolgZdt_",
        "outputId": "821b8b30-1f68-497c-fc08-ef862bbaa87a"
      },
      "source": [
        "sns.set(rc={'figure.figsize':(10, 8)}) #width=10, height=8\n",
        "ax = sns.countplot(y='graph_type', hue='prediction_4', data=cluster_pred_4_df)"
      ],
      "execution_count": null,
      "outputs": [
        {
          "output_type": "display_data",
          "data": {
            "image/png": "[encoded data removed]",
            "text/plain": [
              "<Figure size 720x576 with 1 Axes>"
            ]
          },
          "metadata": {}
        }
      ]
    },
    {
      "cell_type": "markdown",
      "metadata": {
        "id": "CegWMfx2rDlL"
      },
      "source": [
        "### 6 Clusters"
      ]
    },
    {
      "cell_type": "code",
      "metadata": {
        "id": "2B4HWgp9q_Dm"
      },
      "source": [
        "kmeans_6 = KMeans(n_clusters=6)\n",
        "y_pred_6 = kmeans_6.fit_predict(scaled_X)"
      ],
      "execution_count": null,
      "outputs": []
    },
    {
      "cell_type": "code",
      "metadata": {
        "colab": {
          "base_uri": "https://localhost:8080/",
          "height": 441
        },
        "id": "zcvC7mHHrCMz",
        "outputId": "450e14e6-7b71-4efb-d085-180ffdcc84eb"
      },
      "source": [
        "cluster_pred_6_df = graph_df.copy()\n",
        "cluster_pred_6_df['prediction_6'] = y_pred_6\n",
        "cluster_pred_6_df"
      ],
      "execution_count": null,
      "outputs": [
        {
          "output_type": "execute_result",
          "data": {
            "text/html": [
              "<div>\n",
              "<style scoped>\n",
              "    .dataframe tbody tr th:only-of-type {\n",
              "        vertical-align: middle;\n",
              "    }\n",
              "\n",
              "    .dataframe tbody tr th {\n",
              "        vertical-align: top;\n",
              "    }\n",
              "\n",
              "    .dataframe thead th {\n",
              "        text-align: right;\n",
              "    }\n",
              "</style>\n",
              "<table border=\"1\" class=\"dataframe\">\n",
              "  <thead>\n",
              "    <tr style=\"text-align: right;\">\n",
              "      <th></th>\n",
              "      <th>graph_type</th>\n",
              "      <th>clustering_coef</th>\n",
              "      <th>first_quartile</th>\n",
              "      <th>second_quartile</th>\n",
              "      <th>third_quartile</th>\n",
              "      <th>max_triangles</th>\n",
              "      <th>max_degree</th>\n",
              "      <th>qtd_max_degree</th>\n",
              "      <th>min_degree</th>\n",
              "      <th>qtd_min_degree</th>\n",
              "      <th>avg_degree</th>\n",
              "      <th>density</th>\n",
              "      <th>is_power_law</th>\n",
              "      <th>prediction_6</th>\n",
              "    </tr>\n",
              "  </thead>\n",
              "  <tbody>\n",
              "    <tr>\n",
              "      <th>0</th>\n",
              "      <td>amzn</td>\n",
              "      <td>0.417681</td>\n",
              "      <td>8.0</td>\n",
              "      <td>10.0</td>\n",
              "      <td>13.0</td>\n",
              "      <td>3423</td>\n",
              "      <td>2752</td>\n",
              "      <td>1</td>\n",
              "      <td>1</td>\n",
              "      <td>11627</td>\n",
              "      <td>12.114251</td>\n",
              "      <td>0.000030</td>\n",
              "      <td>1</td>\n",
              "      <td>0</td>\n",
              "    </tr>\n",
              "    <tr>\n",
              "      <th>1</th>\n",
              "      <td>amzn</td>\n",
              "      <td>0.419780</td>\n",
              "      <td>5.0</td>\n",
              "      <td>6.0</td>\n",
              "      <td>7.0</td>\n",
              "      <td>520</td>\n",
              "      <td>420</td>\n",
              "      <td>1</td>\n",
              "      <td>1</td>\n",
              "      <td>6069</td>\n",
              "      <td>6.865732</td>\n",
              "      <td>0.000026</td>\n",
              "      <td>1</td>\n",
              "      <td>0</td>\n",
              "    </tr>\n",
              "    <tr>\n",
              "      <th>2</th>\n",
              "      <td>amzn</td>\n",
              "      <td>0.402235</td>\n",
              "      <td>7.0</td>\n",
              "      <td>10.0</td>\n",
              "      <td>13.0</td>\n",
              "      <td>3118</td>\n",
              "      <td>2747</td>\n",
              "      <td>1</td>\n",
              "      <td>1</td>\n",
              "      <td>18254</td>\n",
              "      <td>11.728029</td>\n",
              "      <td>0.000029</td>\n",
              "      <td>1</td>\n",
              "      <td>0</td>\n",
              "    </tr>\n",
              "    <tr>\n",
              "      <th>3</th>\n",
              "      <td>amzn</td>\n",
              "      <td>0.406396</td>\n",
              "      <td>7.0</td>\n",
              "      <td>10.0</td>\n",
              "      <td>13.0</td>\n",
              "      <td>2994</td>\n",
              "      <td>2760</td>\n",
              "      <td>1</td>\n",
              "      <td>1</td>\n",
              "      <td>19410</td>\n",
              "      <td>11.892847</td>\n",
              "      <td>0.000029</td>\n",
              "      <td>1</td>\n",
              "      <td>0</td>\n",
              "    </tr>\n",
              "    <tr>\n",
              "      <th>4</th>\n",
              "      <td>amzn</td>\n",
              "      <td>0.728760</td>\n",
              "      <td>3.0</td>\n",
              "      <td>4.0</td>\n",
              "      <td>6.0</td>\n",
              "      <td>238877</td>\n",
              "      <td>62166</td>\n",
              "      <td>1</td>\n",
              "      <td>1</td>\n",
              "      <td>28104</td>\n",
              "      <td>8.208201</td>\n",
              "      <td>0.000026</td>\n",
              "      <td>1</td>\n",
              "      <td>3</td>\n",
              "    </tr>\n",
              "    <tr>\n",
              "      <th>...</th>\n",
              "      <td>...</td>\n",
              "      <td>...</td>\n",
              "      <td>...</td>\n",
              "      <td>...</td>\n",
              "      <td>...</td>\n",
              "      <td>...</td>\n",
              "      <td>...</td>\n",
              "      <td>...</td>\n",
              "      <td>...</td>\n",
              "      <td>...</td>\n",
              "      <td>...</td>\n",
              "      <td>...</td>\n",
              "      <td>...</td>\n",
              "      <td>...</td>\n",
              "    </tr>\n",
              "    <tr>\n",
              "      <th>94</th>\n",
              "      <td>powr</td>\n",
              "      <td>0.000000</td>\n",
              "      <td>1.0</td>\n",
              "      <td>1.0</td>\n",
              "      <td>2.0</td>\n",
              "      <td>0</td>\n",
              "      <td>19</td>\n",
              "      <td>1</td>\n",
              "      <td>1</td>\n",
              "      <td>3492</td>\n",
              "      <td>1.894828</td>\n",
              "      <td>0.000272</td>\n",
              "      <td>0</td>\n",
              "      <td>0</td>\n",
              "    </tr>\n",
              "    <tr>\n",
              "      <th>95</th>\n",
              "      <td>road</td>\n",
              "      <td>0.000000</td>\n",
              "      <td>3.0</td>\n",
              "      <td>3.0</td>\n",
              "      <td>4.0</td>\n",
              "      <td>0</td>\n",
              "      <td>33</td>\n",
              "      <td>1</td>\n",
              "      <td>1</td>\n",
              "      <td>10</td>\n",
              "      <td>4.927536</td>\n",
              "      <td>0.072464</td>\n",
              "      <td>0</td>\n",
              "      <td>0</td>\n",
              "    </tr>\n",
              "    <tr>\n",
              "      <th>96</th>\n",
              "      <td>road</td>\n",
              "      <td>0.000000</td>\n",
              "      <td>1.0</td>\n",
              "      <td>1.0</td>\n",
              "      <td>2.0</td>\n",
              "      <td>0</td>\n",
              "      <td>9</td>\n",
              "      <td>1</td>\n",
              "      <td>1</td>\n",
              "      <td>1407</td>\n",
              "      <td>1.429148</td>\n",
              "      <td>0.000721</td>\n",
              "      <td>0</td>\n",
              "      <td>0</td>\n",
              "    </tr>\n",
              "    <tr>\n",
              "      <th>97</th>\n",
              "      <td>road</td>\n",
              "      <td>0.010947</td>\n",
              "      <td>1.0</td>\n",
              "      <td>2.0</td>\n",
              "      <td>3.0</td>\n",
              "      <td>5</td>\n",
              "      <td>8</td>\n",
              "      <td>1</td>\n",
              "      <td>1</td>\n",
              "      <td>459626</td>\n",
              "      <td>1.882545</td>\n",
              "      <td>0.000002</td>\n",
              "      <td>0</td>\n",
              "      <td>0</td>\n",
              "    </tr>\n",
              "    <tr>\n",
              "      <th>98</th>\n",
              "      <td>road</td>\n",
              "      <td>0.000000</td>\n",
              "      <td>1.0</td>\n",
              "      <td>1.0</td>\n",
              "      <td>2.0</td>\n",
              "      <td>0</td>\n",
              "      <td>3</td>\n",
              "      <td>135</td>\n",
              "      <td>1</td>\n",
              "      <td>3433</td>\n",
              "      <td>1.334006</td>\n",
              "      <td>0.000269</td>\n",
              "      <td>0</td>\n",
              "      <td>5</td>\n",
              "    </tr>\n",
              "  </tbody>\n",
              "</table>\n",
              "<p>99 rows × 14 columns</p>\n",
              "</div>"
            ],
            "text/plain": [
              "   graph_type  clustering_coef  ...  is_power_law  prediction_6\n",
              "0        amzn         0.417681  ...             1             0\n",
              "1        amzn         0.419780  ...             1             0\n",
              "2        amzn         0.402235  ...             1             0\n",
              "3        amzn         0.406396  ...             1             0\n",
              "4        amzn         0.728760  ...             1             3\n",
              "..        ...              ...  ...           ...           ...\n",
              "94       powr         0.000000  ...             0             0\n",
              "95       road         0.000000  ...             0             0\n",
              "96       road         0.000000  ...             0             0\n",
              "97       road         0.010947  ...             0             0\n",
              "98       road         0.000000  ...             0             5\n",
              "\n",
              "[99 rows x 14 columns]"
            ]
          },
          "metadata": {},
          "execution_count": 28
        }
      ]
    },
    {
      "cell_type": "code",
      "metadata": {
        "colab": {
          "base_uri": "https://localhost:8080/"
        },
        "id": "jt-OBKPVrM0B",
        "outputId": "876ad0bf-2e9e-44bf-cf61-aa5026644123"
      },
      "source": [
        "cluster_pred_6_df[['graph_type', 'prediction_6']].value_counts()"
      ],
      "execution_count": null,
      "outputs": [
        {
          "output_type": "execute_result",
          "data": {
            "text/plain": [
              "graph_type  prediction_6\n",
              "caid        0               10\n",
              "scmd        0               10\n",
              "gnut        0                9\n",
              "powr        0                8\n",
              "enzy        1                8\n",
              "eclg        0                6\n",
              "bion        0                5\n",
              "infr        0                5\n",
              "clab        0                5\n",
              "amzn        0                4\n",
              "brai        0                4\n",
              "ecnm        2                4\n",
              "            0                4\n",
              "road        0                3\n",
              "citt        0                2\n",
              "webn        3                2\n",
              "gloc        0                2\n",
              "enzy        0                1\n",
              "            4                1\n",
              "euss        0                1\n",
              "brai        2                1\n",
              "            1                1\n",
              "road        5                1\n",
              "amzn        3                1\n",
              "emal        0                1\n",
              "dtype: int64"
            ]
          },
          "metadata": {},
          "execution_count": 29
        }
      ]
    },
    {
      "cell_type": "code",
      "metadata": {
        "colab": {
          "base_uri": "https://localhost:8080/",
          "height": 506
        },
        "id": "FP33g4z_rYwQ",
        "outputId": "a3a694b2-ce6c-4c50-91f7-d29eeb04973e"
      },
      "source": [
        "sns.set(rc={'figure.figsize':(10, 8)}) #width=10, height=8\n",
        "ax = sns.countplot(y='graph_type', hue='prediction_6', data=cluster_pred_6_df)"
      ],
      "execution_count": null,
      "outputs": [
        {
          "output_type": "display_data",
          "data": {
            "image/png": "[encoded data removed]",
            "text/plain": [
              "<Figure size 720x576 with 1 Axes>"
            ]
          },
          "metadata": {}
        }
      ]
    },
    {
      "cell_type": "markdown",
      "metadata": {
        "id": "CWyGCTilaqzc"
      },
      "source": [
        "# DBSCAN"
      ]
    },
    {
      "cell_type": "code",
      "metadata": {
        "id": "utG7l-XMar_X"
      },
      "source": [
        "from sklearn.cluster import DBSCAN"
      ],
      "execution_count": null,
      "outputs": []
    },
    {
      "cell_type": "code",
      "metadata": {
        "colab": {
          "base_uri": "https://localhost:8080/"
        },
        "id": "b5Qumgjlat3N",
        "outputId": "8f4ff9a7-a7e8-40e4-a991-184b59c8bb65"
      },
      "source": [
        "dbscan = DBSCAN(eps=0.05, min_samples=5)\n",
        "dbscan.fit(scaled_X)"
      ],
      "execution_count": null,
      "outputs": [
        {
          "output_type": "execute_result",
          "data": {
            "text/plain": [
              "DBSCAN(algorithm='auto', eps=0.05, leaf_size=30, metric='euclidean',\n",
              "       metric_params=None, min_samples=5, n_jobs=None, p=None)"
            ]
          },
          "metadata": {},
          "execution_count": 49
        }
      ]
    },
    {
      "cell_type": "code",
      "metadata": {
        "colab": {
          "base_uri": "https://localhost:8080/"
        },
        "id": "SzCsjmwEa9b_",
        "outputId": "c17aaec6-a3a3-4020-a1bf-cd6a0a859211"
      },
      "source": [
        "dbscan.labels_"
      ],
      "execution_count": null,
      "outputs": [
        {
          "output_type": "execute_result",
          "data": {
            "text/plain": [
              "array([-1, -1, -1, -1, -1, -1, -1, -1, -1, -1, -1, -1, -1, -1, -1,  0,  0,\n",
              "        0,  0,  0, -1, -1, -1, -1, -1, -1, -1, -1, -1, -1, -1, -1, -1, -1,\n",
              "       -1, -1, -1, -1, -1, -1, -1, -1, -1, -1, -1, -1, -1, -1, -1, -1, -1,\n",
              "       -1, -1, -1, -1, -1, -1, -1, -1, -1, -1, -1, -1, -1, -1, -1, -1,  1,\n",
              "       -1, -1, -1, -1, -1, -1, -1, -1, -1, -1, -1, -1, -1, -1,  1, -1,  1,\n",
              "       -1, -1, -1,  1, -1,  1,  1, -1, -1,  1, -1,  1, -1, -1])"
            ]
          },
          "metadata": {},
          "execution_count": 50
        }
      ]
    },
    {
      "cell_type": "code",
      "metadata": {
        "colab": {
          "base_uri": "https://localhost:8080/",
          "height": 560
        },
        "id": "jpydc9G2bDBg",
        "outputId": "ba42a170-4b20-4829-95b7-9b62b45cc6ab"
      },
      "source": [
        "sns.countplot(dbscan.labels_)"
      ],
      "execution_count": null,
      "outputs": [
        {
          "output_type": "stream",
          "name": "stderr",
          "text": [
            "/usr/local/lib/python3.7/dist-packages/seaborn/_decorators.py:43: FutureWarning: Pass the following variable as a keyword arg: x. From version 0.12, the only valid positional argument will be `data`, and passing other arguments without an explicit keyword will result in an error or misinterpretation.\n",
            "  FutureWarning\n"
          ]
        },
        {
          "output_type": "execute_result",
          "data": {
            "text/plain": [
              "<matplotlib.axes._subplots.AxesSubplot at 0x7f1c93b8b910>"
            ]
          },
          "metadata": {},
          "execution_count": 51
        },
        {
          "output_type": "display_data",
          "data": {
            "image/png": "[encoded data removed]",
            "text/plain": [
              "<Figure size 720x576 with 1 Axes>"
            ]
          },
          "metadata": {}
        }
      ]
    },
    {
      "cell_type": "code",
      "metadata": {
        "colab": {
          "base_uri": "https://localhost:8080/",
          "height": 441
        },
        "id": "d0ZmhUORbnns",
        "outputId": "0f1c1d3d-b7d8-44d4-ab8d-cf681a682d38"
      },
      "source": [
        "dbscan_pred_df = graph_df.copy()\n",
        "dbscan_pred_df['dbscan_pred'] = dbscan.labels_\n",
        "dbscan_pred_df"
      ],
      "execution_count": null,
      "outputs": [
        {
          "output_type": "execute_result",
          "data": {
            "text/html": [
              "<div>\n",
              "<style scoped>\n",
              "    .dataframe tbody tr th:only-of-type {\n",
              "        vertical-align: middle;\n",
              "    }\n",
              "\n",
              "    .dataframe tbody tr th {\n",
              "        vertical-align: top;\n",
              "    }\n",
              "\n",
              "    .dataframe thead th {\n",
              "        text-align: right;\n",
              "    }\n",
              "</style>\n",
              "<table border=\"1\" class=\"dataframe\">\n",
              "  <thead>\n",
              "    <tr style=\"text-align: right;\">\n",
              "      <th></th>\n",
              "      <th>graph_type</th>\n",
              "      <th>clustering_coef</th>\n",
              "      <th>first_quartile</th>\n",
              "      <th>second_quartile</th>\n",
              "      <th>third_quartile</th>\n",
              "      <th>max_triangles</th>\n",
              "      <th>max_degree</th>\n",
              "      <th>qtd_max_degree</th>\n",
              "      <th>min_degree</th>\n",
              "      <th>qtd_min_degree</th>\n",
              "      <th>avg_degree</th>\n",
              "      <th>density</th>\n",
              "      <th>is_power_law</th>\n",
              "      <th>dbscan_pred</th>\n",
              "    </tr>\n",
              "  </thead>\n",
              "  <tbody>\n",
              "    <tr>\n",
              "      <th>0</th>\n",
              "      <td>amzn</td>\n",
              "      <td>0.417681</td>\n",
              "      <td>8.0</td>\n",
              "      <td>10.0</td>\n",
              "      <td>13.0</td>\n",
              "      <td>3423</td>\n",
              "      <td>2752</td>\n",
              "      <td>1</td>\n",
              "      <td>1</td>\n",
              "      <td>11627</td>\n",
              "      <td>12.114251</td>\n",
              "      <td>0.000030</td>\n",
              "      <td>1</td>\n",
              "      <td>-1</td>\n",
              "    </tr>\n",
              "    <tr>\n",
              "      <th>1</th>\n",
              "      <td>amzn</td>\n",
              "      <td>0.419780</td>\n",
              "      <td>5.0</td>\n",
              "      <td>6.0</td>\n",
              "      <td>7.0</td>\n",
              "      <td>520</td>\n",
              "      <td>420</td>\n",
              "      <td>1</td>\n",
              "      <td>1</td>\n",
              "      <td>6069</td>\n",
              "      <td>6.865732</td>\n",
              "      <td>0.000026</td>\n",
              "      <td>1</td>\n",
              "      <td>-1</td>\n",
              "    </tr>\n",
              "    <tr>\n",
              "      <th>2</th>\n",
              "      <td>amzn</td>\n",
              "      <td>0.402235</td>\n",
              "      <td>7.0</td>\n",
              "      <td>10.0</td>\n",
              "      <td>13.0</td>\n",
              "      <td>3118</td>\n",
              "      <td>2747</td>\n",
              "      <td>1</td>\n",
              "      <td>1</td>\n",
              "      <td>18254</td>\n",
              "      <td>11.728029</td>\n",
              "      <td>0.000029</td>\n",
              "      <td>1</td>\n",
              "      <td>-1</td>\n",
              "    </tr>\n",
              "    <tr>\n",
              "      <th>3</th>\n",
              "      <td>amzn</td>\n",
              "      <td>0.406396</td>\n",
              "      <td>7.0</td>\n",
              "      <td>10.0</td>\n",
              "      <td>13.0</td>\n",
              "      <td>2994</td>\n",
              "      <td>2760</td>\n",
              "      <td>1</td>\n",
              "      <td>1</td>\n",
              "      <td>19410</td>\n",
              "      <td>11.892847</td>\n",
              "      <td>0.000029</td>\n",
              "      <td>1</td>\n",
              "      <td>-1</td>\n",
              "    </tr>\n",
              "    <tr>\n",
              "      <th>4</th>\n",
              "      <td>amzn</td>\n",
              "      <td>0.728760</td>\n",
              "      <td>3.0</td>\n",
              "      <td>4.0</td>\n",
              "      <td>6.0</td>\n",
              "      <td>238877</td>\n",
              "      <td>62166</td>\n",
              "      <td>1</td>\n",
              "      <td>1</td>\n",
              "      <td>28104</td>\n",
              "      <td>8.208201</td>\n",
              "      <td>0.000026</td>\n",
              "      <td>1</td>\n",
              "      <td>-1</td>\n",
              "    </tr>\n",
              "    <tr>\n",
              "      <th>...</th>\n",
              "      <td>...</td>\n",
              "      <td>...</td>\n",
              "      <td>...</td>\n",
              "      <td>...</td>\n",
              "      <td>...</td>\n",
              "      <td>...</td>\n",
              "      <td>...</td>\n",
              "      <td>...</td>\n",
              "      <td>...</td>\n",
              "      <td>...</td>\n",
              "      <td>...</td>\n",
              "      <td>...</td>\n",
              "      <td>...</td>\n",
              "      <td>...</td>\n",
              "    </tr>\n",
              "    <tr>\n",
              "      <th>94</th>\n",
              "      <td>powr</td>\n",
              "      <td>0.000000</td>\n",
              "      <td>1.0</td>\n",
              "      <td>1.0</td>\n",
              "      <td>2.0</td>\n",
              "      <td>0</td>\n",
              "      <td>19</td>\n",
              "      <td>1</td>\n",
              "      <td>1</td>\n",
              "      <td>3492</td>\n",
              "      <td>1.894828</td>\n",
              "      <td>0.000272</td>\n",
              "      <td>0</td>\n",
              "      <td>1</td>\n",
              "    </tr>\n",
              "    <tr>\n",
              "      <th>95</th>\n",
              "      <td>road</td>\n",
              "      <td>0.000000</td>\n",
              "      <td>3.0</td>\n",
              "      <td>3.0</td>\n",
              "      <td>4.0</td>\n",
              "      <td>0</td>\n",
              "      <td>33</td>\n",
              "      <td>1</td>\n",
              "      <td>1</td>\n",
              "      <td>10</td>\n",
              "      <td>4.927536</td>\n",
              "      <td>0.072464</td>\n",
              "      <td>0</td>\n",
              "      <td>-1</td>\n",
              "    </tr>\n",
              "    <tr>\n",
              "      <th>96</th>\n",
              "      <td>road</td>\n",
              "      <td>0.000000</td>\n",
              "      <td>1.0</td>\n",
              "      <td>1.0</td>\n",
              "      <td>2.0</td>\n",
              "      <td>0</td>\n",
              "      <td>9</td>\n",
              "      <td>1</td>\n",
              "      <td>1</td>\n",
              "      <td>1407</td>\n",
              "      <td>1.429148</td>\n",
              "      <td>0.000721</td>\n",
              "      <td>0</td>\n",
              "      <td>1</td>\n",
              "    </tr>\n",
              "    <tr>\n",
              "      <th>97</th>\n",
              "      <td>road</td>\n",
              "      <td>0.010947</td>\n",
              "      <td>1.0</td>\n",
              "      <td>2.0</td>\n",
              "      <td>3.0</td>\n",
              "      <td>5</td>\n",
              "      <td>8</td>\n",
              "      <td>1</td>\n",
              "      <td>1</td>\n",
              "      <td>459626</td>\n",
              "      <td>1.882545</td>\n",
              "      <td>0.000002</td>\n",
              "      <td>0</td>\n",
              "      <td>-1</td>\n",
              "    </tr>\n",
              "    <tr>\n",
              "      <th>98</th>\n",
              "      <td>road</td>\n",
              "      <td>0.000000</td>\n",
              "      <td>1.0</td>\n",
              "      <td>1.0</td>\n",
              "      <td>2.0</td>\n",
              "      <td>0</td>\n",
              "      <td>3</td>\n",
              "      <td>135</td>\n",
              "      <td>1</td>\n",
              "      <td>3433</td>\n",
              "      <td>1.334006</td>\n",
              "      <td>0.000269</td>\n",
              "      <td>0</td>\n",
              "      <td>-1</td>\n",
              "    </tr>\n",
              "  </tbody>\n",
              "</table>\n",
              "<p>99 rows × 14 columns</p>\n",
              "</div>"
            ],
            "text/plain": [
              "   graph_type  clustering_coef  ...  is_power_law  dbscan_pred\n",
              "0        amzn         0.417681  ...             1           -1\n",
              "1        amzn         0.419780  ...             1           -1\n",
              "2        amzn         0.402235  ...             1           -1\n",
              "3        amzn         0.406396  ...             1           -1\n",
              "4        amzn         0.728760  ...             1           -1\n",
              "..        ...              ...  ...           ...          ...\n",
              "94       powr         0.000000  ...             0            1\n",
              "95       road         0.000000  ...             0           -1\n",
              "96       road         0.000000  ...             0            1\n",
              "97       road         0.010947  ...             0           -1\n",
              "98       road         0.000000  ...             0           -1\n",
              "\n",
              "[99 rows x 14 columns]"
            ]
          },
          "metadata": {},
          "execution_count": 52
        }
      ]
    },
    {
      "cell_type": "code",
      "metadata": {
        "id": "a4I6sVAncEj7",
        "colab": {
          "base_uri": "https://localhost:8080/",
          "height": 506
        },
        "outputId": "655af821-4d32-4039-83e4-63cf33f4a175"
      },
      "source": [
        "sns.set(rc={'figure.figsize':(10, 8)}) #width=10, height=8\n",
        "ax = sns.countplot(y='graph_type', hue='dbscan_pred', data=dbscan_pred_df)"
      ],
      "execution_count": null,
      "outputs": [
        {
          "output_type": "display_data",
          "data": {
            "image/png": "[encoded data removed]",
            "text/plain": [
              "<Figure size 720x576 with 1 Axes>"
            ]
          },
          "metadata": {}
        }
      ]
    }
  ]
}